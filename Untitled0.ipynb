{
  "nbformat": 4,
  "nbformat_minor": 0,
  "metadata": {
    "colab": {
      "provenance": [],
      "authorship_tag": "ABX9TyPSF/2HTp7PaX82+vYd3G6n",
      "include_colab_link": true
    },
    "kernelspec": {
      "name": "python3",
      "display_name": "Python 3"
    },
    "language_info": {
      "name": "python"
    }
  },
  "cells": [
    {
      "cell_type": "markdown",
      "metadata": {
        "id": "view-in-github",
        "colab_type": "text"
      },
      "source": [
        "<a href=\"https://colab.research.google.com/github/alkalink1/ds1002-eju2pk/blob/main/Untitled0.ipynb\" target=\"_parent\"><img src=\"https://colab.research.google.com/assets/colab-badge.svg\" alt=\"Open In Colab\"/></a>"
      ]
    },
    {
      "cell_type": "code",
      "execution_count": null,
      "metadata": {
        "id": "DpD53pCXZN-M"
      },
      "outputs": [],
      "source": [
        "x = 17 # global variable - exists outside of a function, therefore you can use\n",
        "# wherever, inside and outside a function"
      ]
    },
    {
      "cell_type": "code",
      "source": [
        "def private_var():\n",
        "  xx = \"charlottesville\"\n",
        "\n",
        "private_var()\n",
        "print(xx)\n",
        "# thing doesn't exist outside the function"
      ],
      "metadata": {
        "colab": {
          "base_uri": "https://localhost:8080/",
          "height": 214
        },
        "id": "vHhTp5NrZiNO",
        "outputId": "2aeafc80-56bf-49e1-bdab-c9b3a6d81497"
      },
      "execution_count": 2,
      "outputs": [
        {
          "output_type": "error",
          "ename": "NameError",
          "evalue": "ignored",
          "traceback": [
            "\u001b[0;31m---------------------------------------------------------------------------\u001b[0m",
            "\u001b[0;31mNameError\u001b[0m                                 Traceback (most recent call last)",
            "\u001b[0;32m<ipython-input-2-db30b0559aad>\u001b[0m in \u001b[0;36m<cell line: 5>\u001b[0;34m()\u001b[0m\n\u001b[1;32m      3\u001b[0m \u001b[0;34m\u001b[0m\u001b[0m\n\u001b[1;32m      4\u001b[0m \u001b[0mprivate_var\u001b[0m\u001b[0;34m(\u001b[0m\u001b[0;34m)\u001b[0m\u001b[0;34m\u001b[0m\u001b[0;34m\u001b[0m\u001b[0m\n\u001b[0;32m----> 5\u001b[0;31m \u001b[0mprint\u001b[0m\u001b[0;34m(\u001b[0m\u001b[0mxx\u001b[0m\u001b[0;34m)\u001b[0m\u001b[0;34m\u001b[0m\u001b[0;34m\u001b[0m\u001b[0m\n\u001b[0m",
            "\u001b[0;31mNameError\u001b[0m: name 'xx' is not defined"
          ]
        }
      ]
    },
    {
      "cell_type": "code",
      "source": [
        "def create_a_global_var():\n",
        "  global zz\n",
        "  zz = \"top\"\n",
        "\n",
        "create_a_global_var()\n",
        "print(zz)"
      ],
      "metadata": {
        "colab": {
          "base_uri": "https://localhost:8080/"
        },
        "id": "22hU7p6RZ_eo",
        "outputId": "a5c993de-edca-40d5-ebf8-936b378f2397"
      },
      "execution_count": 3,
      "outputs": [
        {
          "output_type": "stream",
          "name": "stdout",
          "text": [
            "top\n"
          ]
        }
      ]
    },
    {
      "cell_type": "code",
      "source": [
        "mm = 17\n",
        "\n",
        "def update_the_global():\n",
        "  global mm #indicate that it needs to be global to override previous mm\n",
        "  mm = 14\n",
        "  print(mm)\n",
        "\n",
        "update_the_global()\n",
        "print(mm)\n"
      ],
      "metadata": {
        "colab": {
          "base_uri": "https://localhost:8080/"
        },
        "id": "3hpUeYMJawIz",
        "outputId": "51be8772-1cac-4551-a678-eeea875dd934"
      },
      "execution_count": 6,
      "outputs": [
        {
          "output_type": "stream",
          "name": "stdout",
          "text": [
            "14\n",
            "14\n"
          ]
        }
      ]
    },
    {
      "cell_type": "code",
      "source": [
        "var1 = 3\n",
        "var2 = 7\n",
        "def add_these_things(var1, var2):\n",
        "    return var1 + var2\n",
        "add_these_things(var1, var2)"
      ],
      "metadata": {
        "colab": {
          "base_uri": "https://localhost:8080/"
        },
        "id": "biPHvox4cmpH",
        "outputId": "d7484803-36ef-4a9d-846d-1713af63255b"
      },
      "execution_count": 9,
      "outputs": [
        {
          "output_type": "execute_result",
          "data": {
            "text/plain": [
              "10"
            ]
          },
          "metadata": {},
          "execution_count": 9
        }
      ]
    },
    {
      "cell_type": "code",
      "source": [
        "var1 = \"apples\"\n",
        "var2 = \"bananas\"\n",
        "def add_these_things(var1, var2):\n",
        "    return var1 + var2\n",
        "add_these_things(var1, var2)"
      ],
      "metadata": {
        "colab": {
          "base_uri": "https://localhost:8080/",
          "height": 35
        },
        "id": "qu1bMgEhdAzY",
        "outputId": "b919fab9-6df0-48d7-d368-5024ffafe1c6"
      },
      "execution_count": 10,
      "outputs": [
        {
          "output_type": "execute_result",
          "data": {
            "text/plain": [
              "'applesbananas'"
            ],
            "application/vnd.google.colaboratory.intrinsic+json": {
              "type": "string"
            }
          },
          "metadata": {},
          "execution_count": 10
        }
      ]
    },
    {
      "cell_type": "code",
      "source": [
        "def add_numbers(var3: int, var4: int) -> int:\n",
        "  return var3 + var4\n"
      ],
      "metadata": {
        "id": "ypj0zOSydD3P"
      },
      "execution_count": 11,
      "outputs": []
    },
    {
      "cell_type": "code",
      "source": [
        "var3, var4 = 2345, 2348\n",
        "add_numbers(var3, var4)"
      ],
      "metadata": {
        "colab": {
          "base_uri": "https://localhost:8080/"
        },
        "id": "X_xZMkded4en",
        "outputId": "d446ccfd-97ee-407e-9d87-65c3e4290720"
      },
      "execution_count": 14,
      "outputs": [
        {
          "output_type": "execute_result",
          "data": {
            "text/plain": [
              "4693"
            ]
          },
          "metadata": {},
          "execution_count": 14
        }
      ]
    },
    {
      "cell_type": "code",
      "source": [
        "add_numbers.__annotations__"
      ],
      "metadata": {
        "colab": {
          "base_uri": "https://localhost:8080/"
        },
        "id": "cdJlLgA3er4o",
        "outputId": "ec3d048b-aee3-41aa-d84f-418c5802c6f7"
      },
      "execution_count": 15,
      "outputs": [
        {
          "output_type": "execute_result",
          "data": {
            "text/plain": [
              "{'var3': int, 'var4': int, 'return': int}"
            ]
          },
          "metadata": {},
          "execution_count": 15
        }
      ]
    },
    {
      "cell_type": "code",
      "source": [
        "def add_numbers(var3: int, var4: int) -> int:\n",
        "  if (type(var3)==int) and (type(var4)==int):\n",
        "    return var3 + var4\n",
        "  else:\n",
        "    print(\"you need to use two integers for this\")\n",
        "add_numbers(17,\"bananas\")\n"
      ],
      "metadata": {
        "colab": {
          "base_uri": "https://localhost:8080/"
        },
        "id": "O-3JcTy3fqhg",
        "outputId": "f0890390-3497-48d0-b37b-218b63503969"
      },
      "execution_count": 16,
      "outputs": [
        {
          "output_type": "stream",
          "name": "stdout",
          "text": [
            "you need to use two integers for this\n"
          ]
        }
      ]
    },
    {
      "cell_type": "code",
      "source": [
        "def add_numbers():\n",
        "  var3 = input(\"give me a first number\")\n",
        "  var4 = input(\"give me a secound number\")\n",
        "  return int(var3) + int(var4)\n",
        "\n",
        "add_numbers()\n"
      ],
      "metadata": {
        "colab": {
          "base_uri": "https://localhost:8080/"
        },
        "id": "MTBdnhocgDZq",
        "outputId": "ad2c2fb4-4ba6-4d4f-fea8-59524698d89e"
      },
      "execution_count": 19,
      "outputs": [
        {
          "name": "stdout",
          "output_type": "stream",
          "text": [
            "give me a first number3\n",
            "give me a secound number4\n"
          ]
        },
        {
          "output_type": "execute_result",
          "data": {
            "text/plain": [
              "7"
            ]
          },
          "metadata": {},
          "execution_count": 19
        }
      ]
    }
  ]
}