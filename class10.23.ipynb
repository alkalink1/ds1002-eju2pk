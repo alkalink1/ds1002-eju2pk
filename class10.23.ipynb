{
  "nbformat": 4,
  "nbformat_minor": 0,
  "metadata": {
    "colab": {
      "provenance": [],
      "authorship_tag": "ABX9TyMpcFrAB/P2w/N+iFECLaoN",
      "include_colab_link": true
    },
    "kernelspec": {
      "name": "python3",
      "display_name": "Python 3"
    },
    "language_info": {
      "name": "python"
    }
  },
  "cells": [
    {
      "cell_type": "markdown",
      "metadata": {
        "id": "view-in-github",
        "colab_type": "text"
      },
      "source": [
        "<a href=\"https://colab.research.google.com/github/alkalink1/ds1002-eju2pk/blob/main/class10.23.ipynb\" target=\"_parent\"><img src=\"https://colab.research.google.com/assets/colab-badge.svg\" alt=\"Open In Colab\"/></a>"
      ]
    },
    {
      "cell_type": "code",
      "execution_count": null,
      "metadata": {
        "colab": {
          "base_uri": "https://localhost:8080/"
        },
        "id": "GIZn4l6R6-0I",
        "outputId": "cc9a6db8-84d8-4e91-f6a4-c04dbe50e8d9"
      },
      "outputs": [
        {
          "output_type": "stream",
          "name": "stdout",
          "text": [
            "<Response [200]>\n",
            "{\"id\":\"4fuzflfg\"}\n",
            "200\n",
            "utf-8\n",
            "{'Server': 'nginx/1.21.6', 'Date': 'Mon, 23 Oct 2023 14:26:02 GMT', 'Content-Type': 'application/json', 'Content-Length': '17', 'Connection': 'keep-alive'}\n",
            "<urllib3.response.HTTPResponse object at 0x7f141acba140>\n",
            "b'{\"id\":\"4fuzflfg\"}'\n"
          ]
        }
      ],
      "source": [
        "import requests\n",
        "\n",
        "response = requests.get(\"https://ids.pods.uvarc.io/\")\n",
        "\n",
        "print(response)\n",
        "print(response.text)\n",
        "print(response.status_code)\n",
        "print(response.encoding)\n",
        "print(response.headers)\n",
        "print(response.raw)\n",
        "print(response.content)"
      ]
    },
    {
      "cell_type": "code",
      "source": [
        "# check the response status code\n",
        "if response.status_code == 200:\n",
        "  print(\"Success\")\n",
        "else:\n",
        "  print(\"Failure\")\n",
        "\n",
        "#get response content\n",
        "content = response.content\n",
        "\n",
        "#decode response content\n",
        "text = content. decode('utf-8')"
      ],
      "metadata": {
        "colab": {
          "base_uri": "https://localhost:8080/"
        },
        "id": "7ISiD4Z17tb2",
        "outputId": "6abeb741-7c07-4312-b1ca-21833c6a10e5"
      },
      "execution_count": null,
      "outputs": [
        {
          "output_type": "stream",
          "name": "stdout",
          "text": [
            "Success\n"
          ]
        }
      ]
    },
    {
      "cell_type": "code",
      "source": [
        "import resource\n",
        "import json\n",
        "\n",
        "response = requests.get(\"https://ids.pods.uvarc.io/guid\")\n",
        "data = json.loads(response.text)\n",
        "print(data['id'])\n"
      ],
      "metadata": {
        "colab": {
          "base_uri": "https://localhost:8080/"
        },
        "id": "UXm532m48LNm",
        "outputId": "014c91e9-85d5-4972-f72a-8f2785641bb4"
      },
      "execution_count": null,
      "outputs": [
        {
          "output_type": "stream",
          "name": "stdout",
          "text": [
            "4c55d7b4-9a28-4ae8-9a43-f38375075010\n"
          ]
        }
      ]
    }
  ]
}