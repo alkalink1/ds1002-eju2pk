{
  "nbformat": 4,
  "nbformat_minor": 0,
  "metadata": {
    "colab": {
      "provenance": [],
      "authorship_tag": "ABX9TyNcRxdPEyuCxE/nkMvq4BE2",
      "include_colab_link": true
    },
    "kernelspec": {
      "name": "python3",
      "display_name": "Python 3"
    },
    "language_info": {
      "name": "python"
    }
  },
  "cells": [
    {
      "cell_type": "markdown",
      "metadata": {
        "id": "view-in-github",
        "colab_type": "text"
      },
      "source": [
        "<a href=\"https://colab.research.google.com/github/alkalink1/ds1002-eju2pk/blob/main/class10_27.ipynb\" target=\"_parent\"><img src=\"https://colab.research.google.com/assets/colab-badge.svg\" alt=\"Open In Colab\"/></a>"
      ]
    },
    {
      "cell_type": "code",
      "execution_count": 10,
      "metadata": {
        "colab": {
          "base_uri": "https://localhost:8080/"
        },
        "id": "fUWJwwRKdX6F",
        "outputId": "59ac7618-04bd-43a1-da4f-edf1a2f6f25e"
      },
      "outputs": [
        {
          "output_type": "stream",
          "name": "stdout",
          "text": [
            "The name of this band is One Direction and it has 5 members\n",
            "The name of this band is One Direction and it has 5 members\n",
            "The name of this band is One Direction and it has 5 members.\n"
          ]
        }
      ],
      "source": [
        "# print\n",
        "\n",
        "band = \"One Direction\"\n",
        "member = \"5\"\n",
        "\n",
        "print(\"The name of this band is \" + band + \" and it has \" + str(member) + \" members\")\n",
        "\n",
        "print(\"The name of this band is\", band, \"and it has\", member, \"members\")\n",
        "\n",
        "print(f\"The name of this band is {band} and it has {member} members.\")"
      ]
    },
    {
      "cell_type": "code",
      "source": [
        "def meaningless_function():\n",
        "  if 7 > 1:\n",
        "    pass\n",
        "myval = meaningless_function()\n",
        "print(myval)\n"
      ],
      "metadata": {
        "colab": {
          "base_uri": "https://localhost:8080/"
        },
        "id": "nRkntjfcey6z",
        "outputId": "9e861643-92f5-4b87-8743-93d62f369165"
      },
      "execution_count": 11,
      "outputs": [
        {
          "output_type": "stream",
          "name": "stdout",
          "text": [
            "None\n"
          ]
        }
      ]
    },
    {
      "cell_type": "code",
      "source": [
        "class Cars:\n",
        "  def __init__(self,x,y): #constructor\n",
        "    self.x = x #attributes\n",
        "    self.y = y\n",
        "  def multiply_them(self,x,y): #methods\n",
        "    return self.x * self.y\n",
        "  def divide_them(self,x,y):\n",
        "    if y > x:\n",
        "      return self.y / self.x\n",
        "    elif x > y:\n",
        "      return self.x / self.y\n",
        "    else:\n",
        "      print(\"I cannot divde these\")\n"
      ],
      "metadata": {
        "id": "89YYERpvgzub"
      },
      "execution_count": 14,
      "outputs": []
    },
    {
      "cell_type": "code",
      "source": [
        "def simple_function(x,y,z):\n",
        "  return x + y + z\n",
        "\n",
        "simple_function(5,6,7)\n",
        "simple_function(z=9,y=12,x=1)"
      ],
      "metadata": {
        "colab": {
          "base_uri": "https://localhost:8080/"
        },
        "id": "fY_FfcjPhghJ",
        "outputId": "48112103-fcff-4624-8dec-1ff941cfb752"
      },
      "execution_count": 21,
      "outputs": [
        {
          "output_type": "execute_result",
          "data": {
            "text/plain": [
              "22"
            ]
          },
          "metadata": {},
          "execution_count": 21
        }
      ]
    },
    {
      "cell_type": "code",
      "source": [
        "# setting attributes in instance\n",
        "\n",
        "class Albums:\n",
        "album1 = Albums()\n",
        "album1.genre = \"pop\"\n",
        "album1.year = 2023\n",
        "album1.title = \"1989\"\n",
        "album1.artist = \"Taylor Swift\"\n"
      ],
      "metadata": {
        "id": "b8sNateUjKBL"
      },
      "execution_count": null,
      "outputs": []
    },
    {
      "cell_type": "code",
      "source": [
        "class Records:\n",
        "  var1 = \"Rockets\"\n",
        "  var2 = \"Bananas\""
      ],
      "metadata": {
        "id": "BSYyEo4xkCW_"
      },
      "execution_count": 28,
      "outputs": []
    },
    {
      "cell_type": "code",
      "source": [
        "Records.var1"
      ],
      "metadata": {
        "colab": {
          "base_uri": "https://localhost:8080/",
          "height": 35
        },
        "id": "TC0sjVSQkGsk",
        "outputId": "4fe1007f-29e5-45d9-a821-4c45b8992962"
      },
      "execution_count": 29,
      "outputs": [
        {
          "output_type": "execute_result",
          "data": {
            "text/plain": [
              "'Rockets'"
            ],
            "application/vnd.google.colaboratory.intrinsic+json": {
              "type": "string"
            }
          },
          "metadata": {},
          "execution_count": 29
        }
      ]
    },
    {
      "cell_type": "code",
      "source": [
        "record1 = Records()"
      ],
      "metadata": {
        "id": "RNXggA0jkhR6"
      },
      "execution_count": 30,
      "outputs": []
    },
    {
      "cell_type": "code",
      "source": [
        "record1.var1"
      ],
      "metadata": {
        "colab": {
          "base_uri": "https://localhost:8080/",
          "height": 35
        },
        "id": "G1bNp-tHkji4",
        "outputId": "b0faeb84-9410-466e-cb26-43d4530320b3"
      },
      "execution_count": 31,
      "outputs": [
        {
          "output_type": "execute_result",
          "data": {
            "text/plain": [
              "'Rockets'"
            ],
            "application/vnd.google.colaboratory.intrinsic+json": {
              "type": "string"
            }
          },
          "metadata": {},
          "execution_count": 31
        }
      ]
    },
    {
      "cell_type": "code",
      "source": [
        "record1.var1 = \"Mopeds\"\n",
        "record1.var1"
      ],
      "metadata": {
        "colab": {
          "base_uri": "https://localhost:8080/",
          "height": 35
        },
        "id": "pg1VNoUHknZp",
        "outputId": "5696b2c1-d79f-4aa3-a2f8-76429960071a"
      },
      "execution_count": 33,
      "outputs": [
        {
          "output_type": "execute_result",
          "data": {
            "text/plain": [
              "'Mopeds'"
            ],
            "application/vnd.google.colaboratory.intrinsic+json": {
              "type": "string"
            }
          },
          "metadata": {},
          "execution_count": 33
        }
      ]
    },
    {
      "cell_type": "code",
      "source": [
        "Records.var1"
      ],
      "metadata": {
        "colab": {
          "base_uri": "https://localhost:8080/",
          "height": 35
        },
        "id": "sIRJ2gdmksoJ",
        "outputId": "5a8997d9-5717-4501-8937-6466e2f5c6ed"
      },
      "execution_count": 34,
      "outputs": [
        {
          "output_type": "execute_result",
          "data": {
            "text/plain": [
              "'Rockets'"
            ],
            "application/vnd.google.colaboratory.intrinsic+json": {
              "type": "string"
            }
          },
          "metadata": {},
          "execution_count": 34
        }
      ]
    }
  ]
}