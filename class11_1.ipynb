{
  "nbformat": 4,
  "nbformat_minor": 0,
  "metadata": {
    "colab": {
      "provenance": [],
      "authorship_tag": "ABX9TyPuMhpI1cvop0TBbbeI+j89",
      "include_colab_link": true
    },
    "kernelspec": {
      "name": "python3",
      "display_name": "Python 3"
    },
    "language_info": {
      "name": "python"
    }
  },
  "cells": [
    {
      "cell_type": "markdown",
      "metadata": {
        "id": "view-in-github",
        "colab_type": "text"
      },
      "source": [
        "<a href=\"https://colab.research.google.com/github/alkalink1/ds1002-eju2pk/blob/main/class11_1.ipynb\" target=\"_parent\"><img src=\"https://colab.research.google.com/assets/colab-badge.svg\" alt=\"Open In Colab\"/></a>"
      ]
    },
    {
      "cell_type": "code",
      "execution_count": 2,
      "metadata": {
        "id": "YM93JvPXRFz7"
      },
      "outputs": [],
      "source": [
        "def fetch(obj, index):\n",
        "  try:\n",
        "    return obj[index]\n",
        "  except Exception as e:\n",
        "    print(f\"Exception caught:{e}\")"
      ]
    },
    {
      "cell_type": "code",
      "source": [
        "fetch(\"moon\",4)"
      ],
      "metadata": {
        "colab": {
          "base_uri": "https://localhost:8080/"
        },
        "id": "oEI4FUOARmA-",
        "outputId": "53008e50-31f0-4683-d66f-5244b4782dc0"
      },
      "execution_count": 3,
      "outputs": [
        {
          "output_type": "stream",
          "name": "stdout",
          "text": [
            "Exception caught:string index out of range\n"
          ]
        }
      ]
    },
    {
      "cell_type": "code",
      "source": [
        "try:\n",
        "  f = open('myfile.txt')\n",
        "  s = f.readline()\n",
        "  i = int(s.strip())\n",
        "\n",
        "except IOError as e:\n",
        "  print(f\"Exception caught: {e}\")"
      ],
      "metadata": {
        "colab": {
          "base_uri": "https://localhost:8080/"
        },
        "id": "602Q4XYQSHBt",
        "outputId": "5c766992-a39f-4db3-c8e1-0f1d87e978ff"
      },
      "execution_count": 4,
      "outputs": [
        {
          "output_type": "stream",
          "name": "stdout",
          "text": [
            "Exception caught: [Errno 2] No such file or directory: 'myfile.txt'\n"
          ]
        }
      ]
    },
    {
      "cell_type": "code",
      "source": [
        "import sys\n",
        "\n",
        "def foolme():\n",
        "  try:\n",
        "    raise IndexError(\"blah blah\")\n",
        "  except Exception as e:\n",
        "    print(f\"An exception has been thrown: {e}\")\n",
        "  else:\n",
        "    print(\"else has happened\")\n",
        "  finally:\n",
        "    print(\"Finally has happened\")\n",
        "\n",
        "foolme()"
      ],
      "metadata": {
        "colab": {
          "base_uri": "https://localhost:8080/"
        },
        "id": "lDPxI9-9TIUc",
        "outputId": "07c81f9b-afe9-4712-b72a-98cbdf18653e"
      },
      "execution_count": 9,
      "outputs": [
        {
          "output_type": "stream",
          "name": "stdout",
          "text": [
            "An exception has been thrown: blah blah\n",
            "Finally has happened\n"
          ]
        }
      ]
    },
    {
      "cell_type": "code",
      "source": [],
      "metadata": {
        "id": "09vW5Y0FVSi3"
      },
      "execution_count": null,
      "outputs": []
    }
  ]
}