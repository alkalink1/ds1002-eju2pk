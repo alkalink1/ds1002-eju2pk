{
  "nbformat": 4,
  "nbformat_minor": 0,
  "metadata": {
    "colab": {
      "provenance": [],
      "include_colab_link": true
    },
    "kernelspec": {
      "name": "python3",
      "display_name": "Python 3"
    },
    "language_info": {
      "name": "python"
    }
  },
  "cells": [
    {
      "cell_type": "markdown",
      "metadata": {
        "id": "view-in-github",
        "colab_type": "text"
      },
      "source": [
        "<a href=\"https://colab.research.google.com/github/alkalink1/ds1002-eju2pk/blob/main/homework/week-11.ipynb\" target=\"_parent\"><img src=\"https://colab.research.google.com/assets/colab-badge.svg\" alt=\"Open In Colab\"/></a>"
      ]
    },
    {
      "cell_type": "markdown",
      "source": [
        "# Homework - Error Handling & Recursion\n",
        "\n",
        "Complete the cells below. Pay close attention to all directions given.\n",
        "\n",
        "## Error Handling (3 pts)\n",
        "\n",
        "```\n",
        "def throw_me_an_error():\n",
        "  val1 = 14\n",
        "  val2 = 0\n",
        "  return val1 / val2\n",
        "\n",
        "throw_me_an_error()\n",
        "```\n",
        "\n",
        "The function above is designed to deliberately throw an error.\n",
        "\n",
        "Create a new version of the function but add `try` and `except` statements correctly. Your exception should print out the type of error this function created. There are a couple of different ways you could do this.\n"
      ],
      "metadata": {
        "id": "v14Xtd9oiTGF"
      }
    },
    {
      "cell_type": "code",
      "execution_count": 1,
      "metadata": {
        "id": "-dfq0Vo_iSi7",
        "outputId": "53dc7e30-00c6-4871-ef70-21e0333aca02",
        "colab": {
          "base_uri": "https://localhost:8080/"
        }
      },
      "outputs": [
        {
          "output_type": "stream",
          "name": "stdout",
          "text": [
            "Exception caught:division by zero\n"
          ]
        }
      ],
      "source": [
        "# answer goes here.\n",
        "def throw_me_an_error():\n",
        "  val1 = 14\n",
        "  val2 = 0\n",
        "  return val1 / val2\n",
        "\n",
        "try:\n",
        "  throw_me_an_error()\n",
        "\n",
        "except ZeroDivisionError as e:\n",
        "  print(f\"Exception caught:{e}\")"
      ]
    },
    {
      "cell_type": "markdown",
      "source": [
        "## Error Handling (4 pts)\n",
        "\n",
        "Extend the class below to include some error handling. Assume the remote resource is offline for a moment: How would you give a message to the user indicating what has gone wrong? (Hint: one way you can test this is by deliberately misspelling the URL for the remote resource.)\n",
        "\n",
        "Also, include error handling logic so that execution of the class method `guid()` always returns a line \"Your request has been completed\" along with the guid it created.\n",
        "\n",
        "```\n",
        "import requests\n",
        "import json\n",
        "import sys\n",
        "\n",
        "class Id:\n",
        "\n",
        "  def guid():\n",
        "    response = requests.get('https://ids.pods.uvarc.io/guid')\n",
        "    body = json.loads(response.text)\n",
        "    return body['id']\n",
        "\n",
        "Id.guid()\n",
        "```"
      ],
      "metadata": {
        "id": "gf9m78RWmWqC"
      }
    },
    {
      "cell_type": "code",
      "source": [
        "# answer goes here\n",
        "# answer goes here\n",
        "import requests\n",
        "import json\n",
        "import sys\n",
        "\n",
        "class Id:\n",
        "\n",
        "  def guid():\n",
        "    response = requests.get('https://ids.pods.uvartc.io/guid')\n",
        "    body = json.loads(response.text)\n",
        "    return body['id']\n",
        "\n",
        "try:\n",
        "  Id.guid()\n",
        "except IOError as e:\n",
        "  print(f\"Exception caught: {e}\")\n",
        "finally:\n",
        "  print(\"Your request has been completed\")"
      ],
      "metadata": {
        "id": "hT5B-LokmUbU",
        "outputId": "2e0e9c98-01c9-4f1d-f79e-6db7d075d7d9",
        "colab": {
          "base_uri": "https://localhost:8080/"
        }
      },
      "execution_count": 2,
      "outputs": [
        {
          "output_type": "stream",
          "name": "stdout",
          "text": [
            "Exception caught: HTTPSConnectionPool(host='ids.pods.uvartc.io', port=443): Max retries exceeded with url: /guid (Caused by NameResolutionError(\"<urllib3.connection.HTTPSConnection object at 0x7c052412e140>: Failed to resolve 'ids.pods.uvartc.io' ([Errno -2] Name or service not known)\"))\n",
            "Your request has been completed\n"
          ]
        }
      ]
    },
    {
      "cell_type": "markdown",
      "source": [
        "## Recursive Functions (3 pts)\n",
        "\n",
        "In the cell below, explain line by line the logic of what is being calculated when the function is called with an input value of 2.\n",
        "\n",
        "```\n",
        "def squarer(n):\n",
        "  if n == 1:\n",
        "    return 2\n",
        "  else:\n",
        "    return squarer(n-1) ** 2 + n\n",
        "\n",
        "squarer(2)\n",
        "```"
      ],
      "metadata": {
        "id": "XCuNofSFomZ6"
      }
    },
    {
      "cell_type": "code",
      "source": [
        "# answer goes here. Add space as needed.\n",
        "\n",
        "Line 1. # here, a function is being defined as \"squarer\" with the variable n, this means that the next lines to further define the function will use n\n",
        "\n",
        "# since 2 is the n input value, colab recognizes that this is the function that 2/n will be plugged into\n",
        "\n",
        "Line 2. # if is used to check if to execute everything that falls under the category of what comes after if, for this example, if the number is equal\n",
        "# to 1, then whatever is in the next line will be executed\n",
        "\n",
        "#  because n is equal to 2 and not one, it skips this line and moves on\n",
        "\n",
        "# when back at line 2, it sees n == 1 and moves onto line 3\n",
        "\n",
        "Line 3. # return statements end the execution of whatever function it is applied to, for this example, if n is 1, then the return statement allows the\n",
        "# function to simply spit out 2\n",
        "\n",
        "# skips this line because n is not equal to 1\n",
        "\n",
        "# after coming back, returns 2 because n == 1\n",
        "\n",
        "Line 4. # whatever is not included in the if statement is left up to the else statement. in this example, this else statement covers everything when\n",
        "# n does not equal 1\n",
        "\n",
        "# 2 will now be plugged into the else statement becasue it did not fall into the \"prereqs\" for the if statement\n",
        "\n",
        "# comes back to this else statement because now that squarer(2) has been plugged back into the if statement\n",
        "\n",
        "Line 5. # this line takes any number not equal to 1 and sqares it and adds the orginial n to it\n",
        "\n",
        "# when 2 is plugged in, colab seeings squarer(1) and reruns the entire function, going back to line 2\n",
        "\n",
        "# if statement got squarer(2) to return 2, then now does algebra on output to == 6."
      ],
      "metadata": {
        "id": "oYiqS2cxxXm4"
      },
      "execution_count": null,
      "outputs": []
    }
  ]
}