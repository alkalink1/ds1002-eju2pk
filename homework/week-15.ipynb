{
  "nbformat": 4,
  "nbformat_minor": 0,
  "metadata": {
    "colab": {
      "provenance": [],
      "include_colab_link": true
    },
    "kernelspec": {
      "name": "ir",
      "display_name": "R"
    },
    "language_info": {
      "name": "R"
    }
  },
  "cells": [
    {
      "cell_type": "markdown",
      "metadata": {
        "id": "view-in-github",
        "colab_type": "text"
      },
      "source": [
        "<a href=\"https://colab.research.google.com/github/alkalink1/ds1002-eju2pk/blob/main/homework/week-15.ipynb\" target=\"_parent\"><img src=\"https://colab.research.google.com/assets/colab-badge.svg\" alt=\"Open In Colab\"/></a>"
      ]
    },
    {
      "cell_type": "markdown",
      "source": [
        "# Homework - Week 15\n",
        "\n",
        "Complete the following blocks as specified in the directions. Run each cell to return the desired output. Save your notebook back to your GitHub repository and submit the GitHub URL to your notebook for review."
      ],
      "metadata": {
        "id": "sZruw3XQogej"
      }
    },
    {
      "cell_type": "markdown",
      "source": [
        "## 1. Create Functions (4 pts)\n",
        "\n",
        "Create two functions in the cells below, according to the prompts given."
      ],
      "metadata": {
        "id": "lkaofBQypx1X"
      }
    },
    {
      "cell_type": "code",
      "source": [
        "# create a function in R that:\n",
        "#   1. takes a single integer as an input parameter\n",
        "#   2. determines whether the integer is even or odd\n",
        "#   3. returns a character statement \"The integer <x> is even\" or \"The integer <x> is odd\" (replace <x> with the actual input provided)\n",
        "#\n",
        "# then execute the function twice using two different input values, displaying even and odd results.\n",
        "\n",
        "even_or_odd <- function(x){if (x %% 2 == 1) {\n",
        "  return(\"odd\")\n",
        "} else {\n",
        "  return(\"even\")\n",
        "}\n",
        "}\n",
        "\n",
        "even_or_odd(17)\n",
        "even_or_odd(10)"
      ],
      "metadata": {
        "id": "1fjq5bkEp6Zv",
        "outputId": "c63ec5ca-449d-4452-918c-0a157abf8ee9",
        "colab": {
          "base_uri": "https://localhost:8080/",
          "height": 52
        }
      },
      "execution_count": 1,
      "outputs": [
        {
          "output_type": "display_data",
          "data": {
            "text/html": [
              "'odd'"
            ],
            "text/markdown": "'odd'",
            "text/latex": "'odd'",
            "text/plain": [
              "[1] \"odd\""
            ]
          },
          "metadata": {}
        },
        {
          "output_type": "display_data",
          "data": {
            "text/html": [
              "'even'"
            ],
            "text/markdown": "'even'",
            "text/latex": "'even'",
            "text/plain": [
              "[1] \"even\""
            ]
          },
          "metadata": {}
        }
      ]
    },
    {
      "cell_type": "code",
      "source": [
        "# create a function in R that:\n",
        "#   1. takes 4 integer input parameters\n",
        "#   2. returns the mean value of the inputs\n",
        "#   3. has default values for the 4 input parameters, in case they are not provided when the function is called.\n",
        "#\n",
        "# then execute the function twice: once where you provide the input values, and once where you do not.\n",
        "\n",
        "yas <- function(var1 = 2,var2 = 3,var3 = 4,var4 = 5) {\n",
        "  womp_womp <- c(var1,var2,var3,var4)\n",
        "  yas_new_val = mean(womp_womp)\n",
        "  yas_new_val\n",
        "}\n",
        "yas(1,2,3,4)\n",
        "yas()"
      ],
      "metadata": {
        "id": "f3IFD-T6p6Rd",
        "outputId": "52fbde48-e124-40e3-eca1-7d4c93281414",
        "colab": {
          "base_uri": "https://localhost:8080/",
          "height": 52
        }
      },
      "execution_count": 2,
      "outputs": [
        {
          "output_type": "display_data",
          "data": {
            "text/html": [
              "2.5"
            ],
            "text/markdown": "2.5",
            "text/latex": "2.5",
            "text/plain": [
              "[1] 2.5"
            ]
          },
          "metadata": {}
        },
        {
          "output_type": "display_data",
          "data": {
            "text/html": [
              "3.5"
            ],
            "text/markdown": "3.5",
            "text/latex": "3.5",
            "text/plain": [
              "[1] 3.5"
            ]
          },
          "metadata": {}
        }
      ]
    },
    {
      "cell_type": "markdown",
      "source": [
        "## 2. Plot Data (4 pts)"
      ],
      "metadata": {
        "id": "F6Rx0GIGrpOB"
      }
    },
    {
      "cell_type": "markdown",
      "source": [
        "In the cell below, write the code required to plot from the `msleep` sample data set.\n",
        "\n",
        "1. Display only animals with body weights of 30 or greater.\n",
        "2. Group the animals by `order`.\n",
        "3. Display the mean `sleep_total` for each group in a bar plot."
      ],
      "metadata": {
        "id": "IDLyOjOJsFCX"
      }
    },
    {
      "cell_type": "code",
      "source": [
        "#\n",
        "library(dplyr)\n",
        "library(ggplot2)\n"
      ],
      "metadata": {
        "id": "0D5Ia-BPsoPZ"
      },
      "execution_count": 6,
      "outputs": []
    },
    {
      "cell_type": "code",
      "source": [
        "msleep1 <- msleep[msleep$bodywt >= 30, ]\n",
        "plot_that <- msleep1 %>%\n",
        "  group_by(order) %>%\n",
        "  summarize(mean_sleep = mean(sleep_total))\n",
        "\n",
        "ggplot(plot_that, aes(x=order, y=mean_sleep)) + geom_col()"
      ],
      "metadata": {
        "id": "CxHmYLMTr0Ka",
        "outputId": "08bd8c22-415f-4749-882e-c3f91ad6ea49",
        "colab": {
          "base_uri": "https://localhost:8080/",
          "height": 437
        }
      },
      "execution_count": 12,
      "outputs": [
        {
          "output_type": "display_data",
          "data": {
            "text/plain": [
              "plot without title"
            ],
            "image/png": "[encoded data removed]"
          },
          "metadata": {
            "image/png": {
              "width": 420,
              "height": 420
            }
          }
        }
      ]
    },
    {
      "cell_type": "markdown",
      "source": [
        "## 3. Clean and Analyze Data Using R (4 pts)\n",
        "\n",
        "In the cells below use R to perform the following data cleaning steps on this file:\n",
        "https://raw.githubusercontent.com/nmagee/ds1002/main/data/social-media-users.csv\n",
        "\n",
        "1. Remove any duplicate rows.\n",
        "2. Remove any records where `last_login` or `birthdate` are empty.\n",
        "3. Display only the records with the 10 highest `follower` counts.\n",
        "4. Determine counts of users when grouped by continent."
      ],
      "metadata": {
        "id": "-2ZaFcCCv3o8"
      }
    },
    {
      "cell_type": "code",
      "source": [
        "#\n",
        "df <- read.csv(\"https://raw.githubusercontent.com/nmagee/ds1002/main/data/social-media-users.csv\")\n",
        "df1 <- df[!duplicated(df), ]\n"
      ],
      "metadata": {
        "id": "V4nBsdVsyauQ"
      },
      "execution_count": 13,
      "outputs": []
    },
    {
      "cell_type": "code",
      "source": [
        "#\n",
        "df1 <- df1 %>% filter(!is.na(last_login) & !is.na(birthdate))\n",
        "df1"
      ],
      "metadata": {
        "id": "LwXD1sNulIT3",
        "outputId": "cceafb0c-5cb5-44b9-8168-0ccbc689481a",
        "colab": {
          "base_uri": "https://localhost:8080/",
          "height": 1000
        }
      },
      "execution_count": 14,
      "outputs": [
        {
          "output_type": "display_data",
          "data": {
            "text/html": [
              "<table class=\"dataframe\">\n",
              "<caption>A data.frame: 1000 × 8</caption>\n",
              "<thead>\n",
              "\t<tr><th scope=col>username</th><th scope=col>full_name</th><th scope=col>birthdate</th><th scope=col>email</th><th scope=col>continent</th><th scope=col>followers</th><th scope=col>last_login</th><th scope=col>interests</th></tr>\n",
              "\t<tr><th scope=col>&lt;chr&gt;</th><th scope=col>&lt;chr&gt;</th><th scope=col>&lt;chr&gt;</th><th scope=col>&lt;chr&gt;</th><th scope=col>&lt;chr&gt;</th><th scope=col>&lt;int&gt;</th><th scope=col>&lt;chr&gt;</th><th scope=col>&lt;chr&gt;</th></tr>\n",
              "</thead>\n",
              "<tbody>\n",
              "\t<tr><td>ckippen0     </td><td>Clevey Kippen    </td><td>5/1/1991  </td><td>ckippen0@t-online.de              </td><td>NA</td><td>12362</td><td>5/16/2023 </td><td>music </td></tr>\n",
              "\t<tr><td>tgergler1    </td><td>Tedi Gergler     </td><td>10/5/1998 </td><td>tgergler1@salon.com               </td><td>NA</td><td>21360</td><td>8/20/2020 </td><td>sports</td></tr>\n",
              "\t<tr><td>spomfrett2   </td><td>Steffie Pomfrett </td><td>          </td><td>spomfrett2@imdb.com               </td><td>NA</td><td>19530</td><td>11/19/2022</td><td>sports</td></tr>\n",
              "\t<tr><td>rphettis3    </td><td>Ruddy Phettis    </td><td>6/18/1984 </td><td>rphettis3@npr.org                 </td><td>EU</td><td>80047</td><td>9/20/2023 </td><td>travel</td></tr>\n",
              "\t<tr><td>ngilcriest4  </td><td>Nico Gilcriest   </td><td>10/11/1993</td><td>ngilcriest4@dyndns.org            </td><td>NA</td><td>33544</td><td>          </td><td>music </td></tr>\n",
              "\t<tr><td>fhampson5    </td><td>Farrell Hampson  </td><td>11/7/1985 </td><td>fhampson5@lulu.com                </td><td>OC</td><td>72161</td><td>          </td><td>sports</td></tr>\n",
              "\t<tr><td>ttotman6     </td><td>Tamqrah Totman   </td><td>8/7/1986  </td><td>ttotman6@elpais.com               </td><td>AF</td><td>42669</td><td>3/10/2023 </td><td>music </td></tr>\n",
              "\t<tr><td>bdennes7     </td><td>Bonita Dennes    </td><td>          </td><td>bdennes7@cnet.com                 </td><td>NA</td><td>22516</td><td>2/3/2023  </td><td>sports</td></tr>\n",
              "\t<tr><td>kgrigoryev8  </td><td>Krishna Grigoryev</td><td>5/25/1990 </td><td>kgrigoryev8@quantcast.com         </td><td>EU</td><td>93923</td><td>1/30/2023 </td><td>travel</td></tr>\n",
              "\t<tr><td>mbathoe9     </td><td>Mallissa Bathoe  </td><td>          </td><td>mbathoe9@bloomberg.com            </td><td>AS</td><td>18554</td><td>3/5/2022  </td><td>travel</td></tr>\n",
              "\t<tr><td>hallensona   </td><td>Hayward Allenson </td><td>3/15/1983 </td><td>hallensona@wp.com                 </td><td>AF</td><td>81042</td><td>          </td><td>travel</td></tr>\n",
              "\t<tr><td>mchittockb   </td><td>Myriam Chittock  </td><td>1/26/1989 </td><td>mchittockb@uiuc.edu               </td><td>AF</td><td>46304</td><td>8/29/2023 </td><td>sports</td></tr>\n",
              "\t<tr><td>mfranzewitchc</td><td>Max Franzewitch  </td><td>12/25/1997</td><td>mfranzewitchc@paginegialle.it     </td><td>NA</td><td> 5640</td><td>          </td><td>travel</td></tr>\n",
              "\t<tr><td>aeasbyd      </td><td>Alessandra Easby </td><td>1/5/1991  </td><td>aeasbyd@google.ca                 </td><td>AF</td><td>16786</td><td>6/15/2023 </td><td>sports</td></tr>\n",
              "\t<tr><td>hschubarte   </td><td>Hubert Schubart  </td><td>11/23/1984</td><td>hschubarte@friendfeed.com         </td><td>NA</td><td>74336</td><td>          </td><td>sports</td></tr>\n",
              "\t<tr><td>dleishmanf   </td><td>Dyane Leishman   </td><td>2/12/1990 </td><td>dleishmanf@lycos.com              </td><td>NA</td><td>85070</td><td>6/5/2021  </td><td>travel</td></tr>\n",
              "\t<tr><td>scoilsg      </td><td>Shayla Coils     </td><td>          </td><td>scoilsg@hhs.gov                   </td><td>NA</td><td>79667</td><td>10/14/2021</td><td>travel</td></tr>\n",
              "\t<tr><td>bkrzysztofh  </td><td>Bendick Krzysztof</td><td>10/19/1985</td><td>bkrzysztofh@nationalgeographic.com</td><td>NA</td><td>11748</td><td>          </td><td>music </td></tr>\n",
              "\t<tr><td>omarusiki    </td><td>Otha Marusik     </td><td>12/4/1992 </td><td>omarusiki@cdbaby.com              </td><td>AF</td><td>93981</td><td>2/4/2022  </td><td>travel</td></tr>\n",
              "\t<tr><td>craglesj     </td><td>Constancia Ragles</td><td>          </td><td>craglesj@e-recht24.de             </td><td>NA</td><td>85300</td><td>9/28/2021 </td><td>sports</td></tr>\n",
              "\t<tr><td>sspenclayk   </td><td>Scott Spenclay   </td><td>12/7/1989 </td><td>sspenclayk@wikispaces.com         </td><td>AF</td><td>31745</td><td>11/29/2022</td><td>sports</td></tr>\n",
              "\t<tr><td>gklinckl     </td><td>Georgetta Klinck </td><td>7/26/1996 </td><td>gklinckl@over-blog.com            </td><td>SA</td><td>69386</td><td>9/10/2023 </td><td>sports</td></tr>\n",
              "\t<tr><td>rhollowm     </td><td>Riccardo Hollow  </td><td>1/18/1980 </td><td>rhollowm@dyndns.org               </td><td>OC</td><td>73088</td><td>1/22/2020 </td><td>sports</td></tr>\n",
              "\t<tr><td>atrouncen    </td><td>Aube Trounce     </td><td>9/5/1984  </td><td>atrouncen@shinystat.com           </td><td>AS</td><td>51692</td><td>          </td><td>music </td></tr>\n",
              "\t<tr><td>jquareo      </td><td>Joey Quare       </td><td>11/19/1999</td><td>jquareo@furl.net                  </td><td>AF</td><td>68116</td><td>          </td><td>sports</td></tr>\n",
              "\t<tr><td>rbellonp     </td><td>Rodolph Bellon   </td><td>8/30/2002 </td><td>rbellonp@cisco.com                </td><td>AF</td><td>96337</td><td>          </td><td>music </td></tr>\n",
              "\t<tr><td>chawesq      </td><td>Courtnay Hawes   </td><td>          </td><td>chawesq@deviantart.com            </td><td>AF</td><td>  435</td><td>3/19/2023 </td><td>music </td></tr>\n",
              "\t<tr><td>acheshirr    </td><td>Ali Cheshir      </td><td>4/19/1998 </td><td>acheshirr@phoca.cz                </td><td>AS</td><td>79802</td><td>          </td><td>sports</td></tr>\n",
              "\t<tr><td>galdrins     </td><td>Gerick Aldrin    </td><td>7/31/1995 </td><td>galdrins@ca.gov                   </td><td>NA</td><td>96491</td><td>5/26/2022 </td><td>music </td></tr>\n",
              "\t<tr><td>ddimmockt    </td><td>Didi Dimmock     </td><td>5/15/1985 </td><td>ddimmockt@wired.com               </td><td>EU</td><td>81726</td><td>4/23/2021 </td><td>sports</td></tr>\n",
              "\t<tr><td>⋮</td><td>⋮</td><td>⋮</td><td>⋮</td><td>⋮</td><td>⋮</td><td>⋮</td><td>⋮</td></tr>\n",
              "\t<tr><td>sargerqy      </td><td>Shane Arger         </td><td>2/21/1992 </td><td>sargerqy@exblog.jp             </td><td>AF</td><td>53022</td><td>12/7/2021 </td><td>music </td></tr>\n",
              "\t<tr><td>jgiorgiuttiqz </td><td>Joy Giorgiutti      </td><td>5/5/1988  </td><td>jgiorgiuttiqz@timesonline.co.uk</td><td>NA</td><td>26125</td><td>6/1/2020  </td><td>travel</td></tr>\n",
              "\t<tr><td>bgerwoodr0    </td><td>Beverlee Gerwood    </td><td>1/29/1980 </td><td>bgerwoodr0@fotki.com           </td><td>AS</td><td>22633</td><td>          </td><td>music </td></tr>\n",
              "\t<tr><td>fheinker1     </td><td>Fleurette Heinke    </td><td>          </td><td>fheinker1@google.fr            </td><td>NA</td><td>39891</td><td>8/17/2020 </td><td>travel</td></tr>\n",
              "\t<tr><td>acashellr2    </td><td>Aridatha Cashell    </td><td>          </td><td>acashellr2@mediafire.com       </td><td>NA</td><td>84669</td><td>7/29/2022 </td><td>music </td></tr>\n",
              "\t<tr><td>dupstellr3    </td><td>Durward Upstell     </td><td>          </td><td>dupstellr3@buzzfeed.com        </td><td>NA</td><td>58154</td><td>6/8/2020  </td><td>sports</td></tr>\n",
              "\t<tr><td>ksturdeyr4    </td><td>Krissie Sturdey     </td><td>8/13/1980 </td><td>ksturdeyr4@skyrock.com         </td><td>SA</td><td>37880</td><td>4/17/2020 </td><td>travel</td></tr>\n",
              "\t<tr><td>qrogeronr5    </td><td>Quent Rogeron       </td><td>          </td><td>qrogeronr5@merriam-webster.com </td><td>SA</td><td>76526</td><td>8/22/2023 </td><td>travel</td></tr>\n",
              "\t<tr><td>ggerrillr6    </td><td>Genevieve Gerrill   </td><td>8/16/1994 </td><td>ggerrillr6@xrea.com            </td><td>OC</td><td>78326</td><td>4/30/2022 </td><td>sports</td></tr>\n",
              "\t<tr><td>ftothacotr7   </td><td>Faustine Tothacot   </td><td>12/3/1998 </td><td>ftothacotr7@usgs.gov           </td><td>NA</td><td> 9927</td><td>          </td><td>sports</td></tr>\n",
              "\t<tr><td>dfordhamr8    </td><td>Dean Fordham        </td><td>5/6/1989  </td><td>dfordhamr8@google.com.au       </td><td>NA</td><td>94828</td><td>          </td><td>music </td></tr>\n",
              "\t<tr><td>rleningr9     </td><td>Roch Lening         </td><td>9/1/1981  </td><td>rleningr9@taobao.com           </td><td>OC</td><td>21333</td><td>2/23/2020 </td><td>music </td></tr>\n",
              "\t<tr><td>gbilbeyra     </td><td>Grannie Bilbey      </td><td>6/22/1992 </td><td>gbilbeyra@wisc.edu             </td><td>AS</td><td>77316</td><td>5/4/2022  </td><td>music </td></tr>\n",
              "\t<tr><td>araddenrb     </td><td>Anneliese Radden    </td><td>          </td><td>araddenrb@umn.edu              </td><td>NA</td><td>16230</td><td>          </td><td>music </td></tr>\n",
              "\t<tr><td>vskirlinrc    </td><td>Van Skirlin         </td><td>          </td><td>vskirlinrc@sphinn.com          </td><td>NA</td><td>14500</td><td>6/21/2021 </td><td>music </td></tr>\n",
              "\t<tr><td>efursserd     </td><td>Ekaterina Fursse    </td><td>7/13/1994 </td><td>efursserd@flickr.com           </td><td>AS</td><td>83588</td><td>          </td><td>travel</td></tr>\n",
              "\t<tr><td>acaldicottre  </td><td>Ashlee Caldicott    </td><td>2/2/1996  </td><td>acaldicottre@furl.net          </td><td>OC</td><td>67530</td><td>2/15/2022 </td><td>music </td></tr>\n",
              "\t<tr><td>fdorgonrf     </td><td>Fritz Dorgon        </td><td>          </td><td>fdorgonrf@homestead.com        </td><td>AS</td><td>33272</td><td>          </td><td>music </td></tr>\n",
              "\t<tr><td>kklicherg     </td><td>Kristine Kliche     </td><td>10/20/1983</td><td>kklicherg@indiatimes.com       </td><td>EU</td><td> 8487</td><td>          </td><td>music </td></tr>\n",
              "\t<tr><td>jbirchallrh   </td><td>Jinny Birchall      </td><td>11/3/1987 </td><td>jbirchallrh@senate.gov         </td><td>AF</td><td>76102</td><td>3/4/2022  </td><td>music </td></tr>\n",
              "\t<tr><td>lnorwellri    </td><td>Lelia Norwell       </td><td>          </td><td>lnorwellri@slate.com           </td><td>SA</td><td>51920</td><td>1/11/2023 </td><td>travel</td></tr>\n",
              "\t<tr><td>fwegenenrj    </td><td>Filippa Wegenen     </td><td>10/25/1994</td><td>fwegenenrj@nbcnews.com         </td><td>NA</td><td>68133</td><td>9/20/2023 </td><td>travel</td></tr>\n",
              "\t<tr><td>bpierrork     </td><td>Bobbie Pierro       </td><td>5/27/1991 </td><td>bpierrork@rambler.ru           </td><td>NA</td><td>81408</td><td>6/6/2023  </td><td>sports</td></tr>\n",
              "\t<tr><td>hransomrl     </td><td>Helenka Ransom      </td><td>          </td><td>hransomrl@qq.com               </td><td>EU</td><td>69467</td><td>7/29/2023 </td><td>music </td></tr>\n",
              "\t<tr><td>vmacterrellyrm</td><td>Virginie MacTerrelly</td><td>10/8/1994 </td><td>vmacterrellyrm@dailymotion.com </td><td>AS</td><td>   81</td><td>9/11/2023 </td><td>sports</td></tr>\n",
              "\t<tr><td>sschafflerrn  </td><td>Sallyann Schaffler  </td><td>12/7/1999 </td><td>sschafflerrn@wsj.com           </td><td>OC</td><td>89752</td><td>9/20/2020 </td><td>sports</td></tr>\n",
              "\t<tr><td>nilyinskiro   </td><td>Nanette Ilyinski    </td><td>5/13/1989 </td><td>nilyinskiro@123-reg.co.uk      </td><td>NA</td><td>47332</td><td>11/16/2020</td><td>sports</td></tr>\n",
              "\t<tr><td>sgeertzrp     </td><td>Stephen Geertz      </td><td>9/6/1994  </td><td>sgeertzrp@hp.com               </td><td>NA</td><td>36511</td><td>11/19/2022</td><td>music </td></tr>\n",
              "\t<tr><td>cchurchmanrq  </td><td>Chrisse Churchman   </td><td>4/23/1998 </td><td>cchurchmanrq@qq.com            </td><td>NA</td><td>84037</td><td>2/12/2022 </td><td>music </td></tr>\n",
              "\t<tr><td>crembrantrr   </td><td>Clementine Rembrant </td><td>3/15/2001 </td><td>crembrantrr@who.int            </td><td>NA</td><td>11336</td><td>3/2/2020  </td><td>music </td></tr>\n",
              "</tbody>\n",
              "</table>\n"
            ],
            "text/markdown": "\nA data.frame: 1000 × 8\n\n| username &lt;chr&gt; | full_name &lt;chr&gt; | birthdate &lt;chr&gt; | email &lt;chr&gt; | continent &lt;chr&gt; | followers &lt;int&gt; | last_login &lt;chr&gt; | interests &lt;chr&gt; |\n|---|---|---|---|---|---|---|---|\n| ckippen0      | Clevey Kippen     | 5/1/1991   | ckippen0@t-online.de               | NA | 12362 | 5/16/2023  | music  |\n| tgergler1     | Tedi Gergler      | 10/5/1998  | tgergler1@salon.com                | NA | 21360 | 8/20/2020  | sports |\n| spomfrett2    | Steffie Pomfrett  | <!----> | spomfrett2@imdb.com                | NA | 19530 | 11/19/2022 | sports |\n| rphettis3     | Ruddy Phettis     | 6/18/1984  | rphettis3@npr.org                  | EU | 80047 | 9/20/2023  | travel |\n| ngilcriest4   | Nico Gilcriest    | 10/11/1993 | ngilcriest4@dyndns.org             | NA | 33544 | <!----> | music  |\n| fhampson5     | Farrell Hampson   | 11/7/1985  | fhampson5@lulu.com                 | OC | 72161 | <!----> | sports |\n| ttotman6      | Tamqrah Totman    | 8/7/1986   | ttotman6@elpais.com                | AF | 42669 | 3/10/2023  | music  |\n| bdennes7      | Bonita Dennes     | <!----> | bdennes7@cnet.com                  | NA | 22516 | 2/3/2023   | sports |\n| kgrigoryev8   | Krishna Grigoryev | 5/25/1990  | kgrigoryev8@quantcast.com          | EU | 93923 | 1/30/2023  | travel |\n| mbathoe9      | Mallissa Bathoe   | <!----> | mbathoe9@bloomberg.com             | AS | 18554 | 3/5/2022   | travel |\n| hallensona    | Hayward Allenson  | 3/15/1983  | hallensona@wp.com                  | AF | 81042 | <!----> | travel |\n| mchittockb    | Myriam Chittock   | 1/26/1989  | mchittockb@uiuc.edu                | AF | 46304 | 8/29/2023  | sports |\n| mfranzewitchc | Max Franzewitch   | 12/25/1997 | mfranzewitchc@paginegialle.it      | NA |  5640 | <!----> | travel |\n| aeasbyd       | Alessandra Easby  | 1/5/1991   | aeasbyd@google.ca                  | AF | 16786 | 6/15/2023  | sports |\n| hschubarte    | Hubert Schubart   | 11/23/1984 | hschubarte@friendfeed.com          | NA | 74336 | <!----> | sports |\n| dleishmanf    | Dyane Leishman    | 2/12/1990  | dleishmanf@lycos.com               | NA | 85070 | 6/5/2021   | travel |\n| scoilsg       | Shayla Coils      | <!----> | scoilsg@hhs.gov                    | NA | 79667 | 10/14/2021 | travel |\n| bkrzysztofh   | Bendick Krzysztof | 10/19/1985 | bkrzysztofh@nationalgeographic.com | NA | 11748 | <!----> | music  |\n| omarusiki     | Otha Marusik      | 12/4/1992  | omarusiki@cdbaby.com               | AF | 93981 | 2/4/2022   | travel |\n| craglesj      | Constancia Ragles | <!----> | craglesj@e-recht24.de              | NA | 85300 | 9/28/2021  | sports |\n| sspenclayk    | Scott Spenclay    | 12/7/1989  | sspenclayk@wikispaces.com          | AF | 31745 | 11/29/2022 | sports |\n| gklinckl      | Georgetta Klinck  | 7/26/1996  | gklinckl@over-blog.com             | SA | 69386 | 9/10/2023  | sports |\n| rhollowm      | Riccardo Hollow   | 1/18/1980  | rhollowm@dyndns.org                | OC | 73088 | 1/22/2020  | sports |\n| atrouncen     | Aube Trounce      | 9/5/1984   | atrouncen@shinystat.com            | AS | 51692 | <!----> | music  |\n| jquareo       | Joey Quare        | 11/19/1999 | jquareo@furl.net                   | AF | 68116 | <!----> | sports |\n| rbellonp      | Rodolph Bellon    | 8/30/2002  | rbellonp@cisco.com                 | AF | 96337 | <!----> | music  |\n| chawesq       | Courtnay Hawes    | <!----> | chawesq@deviantart.com             | AF |   435 | 3/19/2023  | music  |\n| acheshirr     | Ali Cheshir       | 4/19/1998  | acheshirr@phoca.cz                 | AS | 79802 | <!----> | sports |\n| galdrins      | Gerick Aldrin     | 7/31/1995  | galdrins@ca.gov                    | NA | 96491 | 5/26/2022  | music  |\n| ddimmockt     | Didi Dimmock      | 5/15/1985  | ddimmockt@wired.com                | EU | 81726 | 4/23/2021  | sports |\n| ⋮ | ⋮ | ⋮ | ⋮ | ⋮ | ⋮ | ⋮ | ⋮ |\n| sargerqy       | Shane Arger          | 2/21/1992  | sargerqy@exblog.jp              | AF | 53022 | 12/7/2021  | music  |\n| jgiorgiuttiqz  | Joy Giorgiutti       | 5/5/1988   | jgiorgiuttiqz@timesonline.co.uk | NA | 26125 | 6/1/2020   | travel |\n| bgerwoodr0     | Beverlee Gerwood     | 1/29/1980  | bgerwoodr0@fotki.com            | AS | 22633 | <!----> | music  |\n| fheinker1      | Fleurette Heinke     | <!----> | fheinker1@google.fr             | NA | 39891 | 8/17/2020  | travel |\n| acashellr2     | Aridatha Cashell     | <!----> | acashellr2@mediafire.com        | NA | 84669 | 7/29/2022  | music  |\n| dupstellr3     | Durward Upstell      | <!----> | dupstellr3@buzzfeed.com         | NA | 58154 | 6/8/2020   | sports |\n| ksturdeyr4     | Krissie Sturdey      | 8/13/1980  | ksturdeyr4@skyrock.com          | SA | 37880 | 4/17/2020  | travel |\n| qrogeronr5     | Quent Rogeron        | <!----> | qrogeronr5@merriam-webster.com  | SA | 76526 | 8/22/2023  | travel |\n| ggerrillr6     | Genevieve Gerrill    | 8/16/1994  | ggerrillr6@xrea.com             | OC | 78326 | 4/30/2022  | sports |\n| ftothacotr7    | Faustine Tothacot    | 12/3/1998  | ftothacotr7@usgs.gov            | NA |  9927 | <!----> | sports |\n| dfordhamr8     | Dean Fordham         | 5/6/1989   | dfordhamr8@google.com.au        | NA | 94828 | <!----> | music  |\n| rleningr9      | Roch Lening          | 9/1/1981   | rleningr9@taobao.com            | OC | 21333 | 2/23/2020  | music  |\n| gbilbeyra      | Grannie Bilbey       | 6/22/1992  | gbilbeyra@wisc.edu              | AS | 77316 | 5/4/2022   | music  |\n| araddenrb      | Anneliese Radden     | <!----> | araddenrb@umn.edu               | NA | 16230 | <!----> | music  |\n| vskirlinrc     | Van Skirlin          | <!----> | vskirlinrc@sphinn.com           | NA | 14500 | 6/21/2021  | music  |\n| efursserd      | Ekaterina Fursse     | 7/13/1994  | efursserd@flickr.com            | AS | 83588 | <!----> | travel |\n| acaldicottre   | Ashlee Caldicott     | 2/2/1996   | acaldicottre@furl.net           | OC | 67530 | 2/15/2022  | music  |\n| fdorgonrf      | Fritz Dorgon         | <!----> | fdorgonrf@homestead.com         | AS | 33272 | <!----> | music  |\n| kklicherg      | Kristine Kliche      | 10/20/1983 | kklicherg@indiatimes.com        | EU |  8487 | <!----> | music  |\n| jbirchallrh    | Jinny Birchall       | 11/3/1987  | jbirchallrh@senate.gov          | AF | 76102 | 3/4/2022   | music  |\n| lnorwellri     | Lelia Norwell        | <!----> | lnorwellri@slate.com            | SA | 51920 | 1/11/2023  | travel |\n| fwegenenrj     | Filippa Wegenen      | 10/25/1994 | fwegenenrj@nbcnews.com          | NA | 68133 | 9/20/2023  | travel |\n| bpierrork      | Bobbie Pierro        | 5/27/1991  | bpierrork@rambler.ru            | NA | 81408 | 6/6/2023   | sports |\n| hransomrl      | Helenka Ransom       | <!----> | hransomrl@qq.com                | EU | 69467 | 7/29/2023  | music  |\n| vmacterrellyrm | Virginie MacTerrelly | 10/8/1994  | vmacterrellyrm@dailymotion.com  | AS |    81 | 9/11/2023  | sports |\n| sschafflerrn   | Sallyann Schaffler   | 12/7/1999  | sschafflerrn@wsj.com            | OC | 89752 | 9/20/2020  | sports |\n| nilyinskiro    | Nanette Ilyinski     | 5/13/1989  | nilyinskiro@123-reg.co.uk       | NA | 47332 | 11/16/2020 | sports |\n| sgeertzrp      | Stephen Geertz       | 9/6/1994   | sgeertzrp@hp.com                | NA | 36511 | 11/19/2022 | music  |\n| cchurchmanrq   | Chrisse Churchman    | 4/23/1998  | cchurchmanrq@qq.com             | NA | 84037 | 2/12/2022  | music  |\n| crembrantrr    | Clementine Rembrant  | 3/15/2001  | crembrantrr@who.int             | NA | 11336 | 3/2/2020   | music  |\n\n",
            "text/latex": "A data.frame: 1000 × 8\n\\begin{tabular}{llllllll}\n username & full\\_name & birthdate & email & continent & followers & last\\_login & interests\\\\\n <chr> & <chr> & <chr> & <chr> & <chr> & <int> & <chr> & <chr>\\\\\n\\hline\n\t ckippen0      & Clevey Kippen     & 5/1/1991   & ckippen0@t-online.de               & NA & 12362 & 5/16/2023  & music \\\\\n\t tgergler1     & Tedi Gergler      & 10/5/1998  & tgergler1@salon.com                & NA & 21360 & 8/20/2020  & sports\\\\\n\t spomfrett2    & Steffie Pomfrett  &            & spomfrett2@imdb.com                & NA & 19530 & 11/19/2022 & sports\\\\\n\t rphettis3     & Ruddy Phettis     & 6/18/1984  & rphettis3@npr.org                  & EU & 80047 & 9/20/2023  & travel\\\\\n\t ngilcriest4   & Nico Gilcriest    & 10/11/1993 & ngilcriest4@dyndns.org             & NA & 33544 &            & music \\\\\n\t fhampson5     & Farrell Hampson   & 11/7/1985  & fhampson5@lulu.com                 & OC & 72161 &            & sports\\\\\n\t ttotman6      & Tamqrah Totman    & 8/7/1986   & ttotman6@elpais.com                & AF & 42669 & 3/10/2023  & music \\\\\n\t bdennes7      & Bonita Dennes     &            & bdennes7@cnet.com                  & NA & 22516 & 2/3/2023   & sports\\\\\n\t kgrigoryev8   & Krishna Grigoryev & 5/25/1990  & kgrigoryev8@quantcast.com          & EU & 93923 & 1/30/2023  & travel\\\\\n\t mbathoe9      & Mallissa Bathoe   &            & mbathoe9@bloomberg.com             & AS & 18554 & 3/5/2022   & travel\\\\\n\t hallensona    & Hayward Allenson  & 3/15/1983  & hallensona@wp.com                  & AF & 81042 &            & travel\\\\\n\t mchittockb    & Myriam Chittock   & 1/26/1989  & mchittockb@uiuc.edu                & AF & 46304 & 8/29/2023  & sports\\\\\n\t mfranzewitchc & Max Franzewitch   & 12/25/1997 & mfranzewitchc@paginegialle.it      & NA &  5640 &            & travel\\\\\n\t aeasbyd       & Alessandra Easby  & 1/5/1991   & aeasbyd@google.ca                  & AF & 16786 & 6/15/2023  & sports\\\\\n\t hschubarte    & Hubert Schubart   & 11/23/1984 & hschubarte@friendfeed.com          & NA & 74336 &            & sports\\\\\n\t dleishmanf    & Dyane Leishman    & 2/12/1990  & dleishmanf@lycos.com               & NA & 85070 & 6/5/2021   & travel\\\\\n\t scoilsg       & Shayla Coils      &            & scoilsg@hhs.gov                    & NA & 79667 & 10/14/2021 & travel\\\\\n\t bkrzysztofh   & Bendick Krzysztof & 10/19/1985 & bkrzysztofh@nationalgeographic.com & NA & 11748 &            & music \\\\\n\t omarusiki     & Otha Marusik      & 12/4/1992  & omarusiki@cdbaby.com               & AF & 93981 & 2/4/2022   & travel\\\\\n\t craglesj      & Constancia Ragles &            & craglesj@e-recht24.de              & NA & 85300 & 9/28/2021  & sports\\\\\n\t sspenclayk    & Scott Spenclay    & 12/7/1989  & sspenclayk@wikispaces.com          & AF & 31745 & 11/29/2022 & sports\\\\\n\t gklinckl      & Georgetta Klinck  & 7/26/1996  & gklinckl@over-blog.com             & SA & 69386 & 9/10/2023  & sports\\\\\n\t rhollowm      & Riccardo Hollow   & 1/18/1980  & rhollowm@dyndns.org                & OC & 73088 & 1/22/2020  & sports\\\\\n\t atrouncen     & Aube Trounce      & 9/5/1984   & atrouncen@shinystat.com            & AS & 51692 &            & music \\\\\n\t jquareo       & Joey Quare        & 11/19/1999 & jquareo@furl.net                   & AF & 68116 &            & sports\\\\\n\t rbellonp      & Rodolph Bellon    & 8/30/2002  & rbellonp@cisco.com                 & AF & 96337 &            & music \\\\\n\t chawesq       & Courtnay Hawes    &            & chawesq@deviantart.com             & AF &   435 & 3/19/2023  & music \\\\\n\t acheshirr     & Ali Cheshir       & 4/19/1998  & acheshirr@phoca.cz                 & AS & 79802 &            & sports\\\\\n\t galdrins      & Gerick Aldrin     & 7/31/1995  & galdrins@ca.gov                    & NA & 96491 & 5/26/2022  & music \\\\\n\t ddimmockt     & Didi Dimmock      & 5/15/1985  & ddimmockt@wired.com                & EU & 81726 & 4/23/2021  & sports\\\\\n\t ⋮ & ⋮ & ⋮ & ⋮ & ⋮ & ⋮ & ⋮ & ⋮\\\\\n\t sargerqy       & Shane Arger          & 2/21/1992  & sargerqy@exblog.jp              & AF & 53022 & 12/7/2021  & music \\\\\n\t jgiorgiuttiqz  & Joy Giorgiutti       & 5/5/1988   & jgiorgiuttiqz@timesonline.co.uk & NA & 26125 & 6/1/2020   & travel\\\\\n\t bgerwoodr0     & Beverlee Gerwood     & 1/29/1980  & bgerwoodr0@fotki.com            & AS & 22633 &            & music \\\\\n\t fheinker1      & Fleurette Heinke     &            & fheinker1@google.fr             & NA & 39891 & 8/17/2020  & travel\\\\\n\t acashellr2     & Aridatha Cashell     &            & acashellr2@mediafire.com        & NA & 84669 & 7/29/2022  & music \\\\\n\t dupstellr3     & Durward Upstell      &            & dupstellr3@buzzfeed.com         & NA & 58154 & 6/8/2020   & sports\\\\\n\t ksturdeyr4     & Krissie Sturdey      & 8/13/1980  & ksturdeyr4@skyrock.com          & SA & 37880 & 4/17/2020  & travel\\\\\n\t qrogeronr5     & Quent Rogeron        &            & qrogeronr5@merriam-webster.com  & SA & 76526 & 8/22/2023  & travel\\\\\n\t ggerrillr6     & Genevieve Gerrill    & 8/16/1994  & ggerrillr6@xrea.com             & OC & 78326 & 4/30/2022  & sports\\\\\n\t ftothacotr7    & Faustine Tothacot    & 12/3/1998  & ftothacotr7@usgs.gov            & NA &  9927 &            & sports\\\\\n\t dfordhamr8     & Dean Fordham         & 5/6/1989   & dfordhamr8@google.com.au        & NA & 94828 &            & music \\\\\n\t rleningr9      & Roch Lening          & 9/1/1981   & rleningr9@taobao.com            & OC & 21333 & 2/23/2020  & music \\\\\n\t gbilbeyra      & Grannie Bilbey       & 6/22/1992  & gbilbeyra@wisc.edu              & AS & 77316 & 5/4/2022   & music \\\\\n\t araddenrb      & Anneliese Radden     &            & araddenrb@umn.edu               & NA & 16230 &            & music \\\\\n\t vskirlinrc     & Van Skirlin          &            & vskirlinrc@sphinn.com           & NA & 14500 & 6/21/2021  & music \\\\\n\t efursserd      & Ekaterina Fursse     & 7/13/1994  & efursserd@flickr.com            & AS & 83588 &            & travel\\\\\n\t acaldicottre   & Ashlee Caldicott     & 2/2/1996   & acaldicottre@furl.net           & OC & 67530 & 2/15/2022  & music \\\\\n\t fdorgonrf      & Fritz Dorgon         &            & fdorgonrf@homestead.com         & AS & 33272 &            & music \\\\\n\t kklicherg      & Kristine Kliche      & 10/20/1983 & kklicherg@indiatimes.com        & EU &  8487 &            & music \\\\\n\t jbirchallrh    & Jinny Birchall       & 11/3/1987  & jbirchallrh@senate.gov          & AF & 76102 & 3/4/2022   & music \\\\\n\t lnorwellri     & Lelia Norwell        &            & lnorwellri@slate.com            & SA & 51920 & 1/11/2023  & travel\\\\\n\t fwegenenrj     & Filippa Wegenen      & 10/25/1994 & fwegenenrj@nbcnews.com          & NA & 68133 & 9/20/2023  & travel\\\\\n\t bpierrork      & Bobbie Pierro        & 5/27/1991  & bpierrork@rambler.ru            & NA & 81408 & 6/6/2023   & sports\\\\\n\t hransomrl      & Helenka Ransom       &            & hransomrl@qq.com                & EU & 69467 & 7/29/2023  & music \\\\\n\t vmacterrellyrm & Virginie MacTerrelly & 10/8/1994  & vmacterrellyrm@dailymotion.com  & AS &    81 & 9/11/2023  & sports\\\\\n\t sschafflerrn   & Sallyann Schaffler   & 12/7/1999  & sschafflerrn@wsj.com            & OC & 89752 & 9/20/2020  & sports\\\\\n\t nilyinskiro    & Nanette Ilyinski     & 5/13/1989  & nilyinskiro@123-reg.co.uk       & NA & 47332 & 11/16/2020 & sports\\\\\n\t sgeertzrp      & Stephen Geertz       & 9/6/1994   & sgeertzrp@hp.com                & NA & 36511 & 11/19/2022 & music \\\\\n\t cchurchmanrq   & Chrisse Churchman    & 4/23/1998  & cchurchmanrq@qq.com             & NA & 84037 & 2/12/2022  & music \\\\\n\t crembrantrr    & Clementine Rembrant  & 3/15/2001  & crembrantrr@who.int             & NA & 11336 & 3/2/2020   & music \\\\\n\\end{tabular}\n",
            "text/plain": [
              "     username       full_name            birthdate \n",
              "1    ckippen0       Clevey Kippen        5/1/1991  \n",
              "2    tgergler1      Tedi Gergler         10/5/1998 \n",
              "3    spomfrett2     Steffie Pomfrett               \n",
              "4    rphettis3      Ruddy Phettis        6/18/1984 \n",
              "5    ngilcriest4    Nico Gilcriest       10/11/1993\n",
              "6    fhampson5      Farrell Hampson      11/7/1985 \n",
              "7    ttotman6       Tamqrah Totman       8/7/1986  \n",
              "8    bdennes7       Bonita Dennes                  \n",
              "9    kgrigoryev8    Krishna Grigoryev    5/25/1990 \n",
              "10   mbathoe9       Mallissa Bathoe                \n",
              "11   hallensona     Hayward Allenson     3/15/1983 \n",
              "12   mchittockb     Myriam Chittock      1/26/1989 \n",
              "13   mfranzewitchc  Max Franzewitch      12/25/1997\n",
              "14   aeasbyd        Alessandra Easby     1/5/1991  \n",
              "15   hschubarte     Hubert Schubart      11/23/1984\n",
              "16   dleishmanf     Dyane Leishman       2/12/1990 \n",
              "17   scoilsg        Shayla Coils                   \n",
              "18   bkrzysztofh    Bendick Krzysztof    10/19/1985\n",
              "19   omarusiki      Otha Marusik         12/4/1992 \n",
              "20   craglesj       Constancia Ragles              \n",
              "21   sspenclayk     Scott Spenclay       12/7/1989 \n",
              "22   gklinckl       Georgetta Klinck     7/26/1996 \n",
              "23   rhollowm       Riccardo Hollow      1/18/1980 \n",
              "24   atrouncen      Aube Trounce         9/5/1984  \n",
              "25   jquareo        Joey Quare           11/19/1999\n",
              "26   rbellonp       Rodolph Bellon       8/30/2002 \n",
              "27   chawesq        Courtnay Hawes                 \n",
              "28   acheshirr      Ali Cheshir          4/19/1998 \n",
              "29   galdrins       Gerick Aldrin        7/31/1995 \n",
              "30   ddimmockt      Didi Dimmock         5/15/1985 \n",
              "⋮    ⋮              ⋮                    ⋮         \n",
              "971  sargerqy       Shane Arger          2/21/1992 \n",
              "972  jgiorgiuttiqz  Joy Giorgiutti       5/5/1988  \n",
              "973  bgerwoodr0     Beverlee Gerwood     1/29/1980 \n",
              "974  fheinker1      Fleurette Heinke               \n",
              "975  acashellr2     Aridatha Cashell               \n",
              "976  dupstellr3     Durward Upstell                \n",
              "977  ksturdeyr4     Krissie Sturdey      8/13/1980 \n",
              "978  qrogeronr5     Quent Rogeron                  \n",
              "979  ggerrillr6     Genevieve Gerrill    8/16/1994 \n",
              "980  ftothacotr7    Faustine Tothacot    12/3/1998 \n",
              "981  dfordhamr8     Dean Fordham         5/6/1989  \n",
              "982  rleningr9      Roch Lening          9/1/1981  \n",
              "983  gbilbeyra      Grannie Bilbey       6/22/1992 \n",
              "984  araddenrb      Anneliese Radden               \n",
              "985  vskirlinrc     Van Skirlin                    \n",
              "986  efursserd      Ekaterina Fursse     7/13/1994 \n",
              "987  acaldicottre   Ashlee Caldicott     2/2/1996  \n",
              "988  fdorgonrf      Fritz Dorgon                   \n",
              "989  kklicherg      Kristine Kliche      10/20/1983\n",
              "990  jbirchallrh    Jinny Birchall       11/3/1987 \n",
              "991  lnorwellri     Lelia Norwell                  \n",
              "992  fwegenenrj     Filippa Wegenen      10/25/1994\n",
              "993  bpierrork      Bobbie Pierro        5/27/1991 \n",
              "994  hransomrl      Helenka Ransom                 \n",
              "995  vmacterrellyrm Virginie MacTerrelly 10/8/1994 \n",
              "996  sschafflerrn   Sallyann Schaffler   12/7/1999 \n",
              "997  nilyinskiro    Nanette Ilyinski     5/13/1989 \n",
              "998  sgeertzrp      Stephen Geertz       9/6/1994  \n",
              "999  cchurchmanrq   Chrisse Churchman    4/23/1998 \n",
              "1000 crembrantrr    Clementine Rembrant  3/15/2001 \n",
              "     email                              continent followers last_login\n",
              "1    ckippen0@t-online.de               NA        12362     5/16/2023 \n",
              "2    tgergler1@salon.com                NA        21360     8/20/2020 \n",
              "3    spomfrett2@imdb.com                NA        19530     11/19/2022\n",
              "4    rphettis3@npr.org                  EU        80047     9/20/2023 \n",
              "5    ngilcriest4@dyndns.org             NA        33544               \n",
              "6    fhampson5@lulu.com                 OC        72161               \n",
              "7    ttotman6@elpais.com                AF        42669     3/10/2023 \n",
              "8    bdennes7@cnet.com                  NA        22516     2/3/2023  \n",
              "9    kgrigoryev8@quantcast.com          EU        93923     1/30/2023 \n",
              "10   mbathoe9@bloomberg.com             AS        18554     3/5/2022  \n",
              "11   hallensona@wp.com                  AF        81042               \n",
              "12   mchittockb@uiuc.edu                AF        46304     8/29/2023 \n",
              "13   mfranzewitchc@paginegialle.it      NA         5640               \n",
              "14   aeasbyd@google.ca                  AF        16786     6/15/2023 \n",
              "15   hschubarte@friendfeed.com          NA        74336               \n",
              "16   dleishmanf@lycos.com               NA        85070     6/5/2021  \n",
              "17   scoilsg@hhs.gov                    NA        79667     10/14/2021\n",
              "18   bkrzysztofh@nationalgeographic.com NA        11748               \n",
              "19   omarusiki@cdbaby.com               AF        93981     2/4/2022  \n",
              "20   craglesj@e-recht24.de              NA        85300     9/28/2021 \n",
              "21   sspenclayk@wikispaces.com          AF        31745     11/29/2022\n",
              "22   gklinckl@over-blog.com             SA        69386     9/10/2023 \n",
              "23   rhollowm@dyndns.org                OC        73088     1/22/2020 \n",
              "24   atrouncen@shinystat.com            AS        51692               \n",
              "25   jquareo@furl.net                   AF        68116               \n",
              "26   rbellonp@cisco.com                 AF        96337               \n",
              "27   chawesq@deviantart.com             AF          435     3/19/2023 \n",
              "28   acheshirr@phoca.cz                 AS        79802               \n",
              "29   galdrins@ca.gov                    NA        96491     5/26/2022 \n",
              "30   ddimmockt@wired.com                EU        81726     4/23/2021 \n",
              "⋮    ⋮                                  ⋮         ⋮         ⋮         \n",
              "971  sargerqy@exblog.jp                 AF        53022     12/7/2021 \n",
              "972  jgiorgiuttiqz@timesonline.co.uk    NA        26125     6/1/2020  \n",
              "973  bgerwoodr0@fotki.com               AS        22633               \n",
              "974  fheinker1@google.fr                NA        39891     8/17/2020 \n",
              "975  acashellr2@mediafire.com           NA        84669     7/29/2022 \n",
              "976  dupstellr3@buzzfeed.com            NA        58154     6/8/2020  \n",
              "977  ksturdeyr4@skyrock.com             SA        37880     4/17/2020 \n",
              "978  qrogeronr5@merriam-webster.com     SA        76526     8/22/2023 \n",
              "979  ggerrillr6@xrea.com                OC        78326     4/30/2022 \n",
              "980  ftothacotr7@usgs.gov               NA         9927               \n",
              "981  dfordhamr8@google.com.au           NA        94828               \n",
              "982  rleningr9@taobao.com               OC        21333     2/23/2020 \n",
              "983  gbilbeyra@wisc.edu                 AS        77316     5/4/2022  \n",
              "984  araddenrb@umn.edu                  NA        16230               \n",
              "985  vskirlinrc@sphinn.com              NA        14500     6/21/2021 \n",
              "986  efursserd@flickr.com               AS        83588               \n",
              "987  acaldicottre@furl.net              OC        67530     2/15/2022 \n",
              "988  fdorgonrf@homestead.com            AS        33272               \n",
              "989  kklicherg@indiatimes.com           EU         8487               \n",
              "990  jbirchallrh@senate.gov             AF        76102     3/4/2022  \n",
              "991  lnorwellri@slate.com               SA        51920     1/11/2023 \n",
              "992  fwegenenrj@nbcnews.com             NA        68133     9/20/2023 \n",
              "993  bpierrork@rambler.ru               NA        81408     6/6/2023  \n",
              "994  hransomrl@qq.com                   EU        69467     7/29/2023 \n",
              "995  vmacterrellyrm@dailymotion.com     AS           81     9/11/2023 \n",
              "996  sschafflerrn@wsj.com               OC        89752     9/20/2020 \n",
              "997  nilyinskiro@123-reg.co.uk          NA        47332     11/16/2020\n",
              "998  sgeertzrp@hp.com                   NA        36511     11/19/2022\n",
              "999  cchurchmanrq@qq.com                NA        84037     2/12/2022 \n",
              "1000 crembrantrr@who.int                NA        11336     3/2/2020  \n",
              "     interests\n",
              "1    music    \n",
              "2    sports   \n",
              "3    sports   \n",
              "4    travel   \n",
              "5    music    \n",
              "6    sports   \n",
              "7    music    \n",
              "8    sports   \n",
              "9    travel   \n",
              "10   travel   \n",
              "11   travel   \n",
              "12   sports   \n",
              "13   travel   \n",
              "14   sports   \n",
              "15   sports   \n",
              "16   travel   \n",
              "17   travel   \n",
              "18   music    \n",
              "19   travel   \n",
              "20   sports   \n",
              "21   sports   \n",
              "22   sports   \n",
              "23   sports   \n",
              "24   music    \n",
              "25   sports   \n",
              "26   music    \n",
              "27   music    \n",
              "28   sports   \n",
              "29   music    \n",
              "30   sports   \n",
              "⋮    ⋮        \n",
              "971  music    \n",
              "972  travel   \n",
              "973  music    \n",
              "974  travel   \n",
              "975  music    \n",
              "976  sports   \n",
              "977  travel   \n",
              "978  travel   \n",
              "979  sports   \n",
              "980  sports   \n",
              "981  music    \n",
              "982  music    \n",
              "983  music    \n",
              "984  music    \n",
              "985  music    \n",
              "986  travel   \n",
              "987  music    \n",
              "988  music    \n",
              "989  music    \n",
              "990  music    \n",
              "991  travel   \n",
              "992  travel   \n",
              "993  sports   \n",
              "994  music    \n",
              "995  sports   \n",
              "996  sports   \n",
              "997  sports   \n",
              "998  music    \n",
              "999  music    \n",
              "1000 music    "
            ]
          },
          "metadata": {}
        }
      ]
    },
    {
      "cell_type": "code",
      "source": [
        "#\n",
        "df1[df1==\"\"] <- NA\n",
        "df2 <- na.omit(df1)\n",
        "df2"
      ],
      "metadata": {
        "id": "7qa100btlI4Z",
        "outputId": "a0f298ec-075d-43b1-8569-4f99393fae4f",
        "colab": {
          "base_uri": "https://localhost:8080/",
          "height": 1000
        }
      },
      "execution_count": 15,
      "outputs": [
        {
          "output_type": "display_data",
          "data": {
            "text/html": [
              "<table class=\"dataframe\">\n",
              "<caption>A data.frame: 422 × 8</caption>\n",
              "<thead>\n",
              "\t<tr><th></th><th scope=col>username</th><th scope=col>full_name</th><th scope=col>birthdate</th><th scope=col>email</th><th scope=col>continent</th><th scope=col>followers</th><th scope=col>last_login</th><th scope=col>interests</th></tr>\n",
              "\t<tr><th></th><th scope=col>&lt;chr&gt;</th><th scope=col>&lt;chr&gt;</th><th scope=col>&lt;chr&gt;</th><th scope=col>&lt;chr&gt;</th><th scope=col>&lt;chr&gt;</th><th scope=col>&lt;int&gt;</th><th scope=col>&lt;chr&gt;</th><th scope=col>&lt;chr&gt;</th></tr>\n",
              "</thead>\n",
              "<tbody>\n",
              "\t<tr><th scope=row>4</th><td>rphettis3    </td><td>Ruddy Phettis      </td><td>6/18/1984 </td><td>rphettis3@npr.org          </td><td>EU</td><td>80047</td><td>9/20/2023 </td><td>travel</td></tr>\n",
              "\t<tr><th scope=row>7</th><td>ttotman6     </td><td>Tamqrah Totman     </td><td>8/7/1986  </td><td>ttotman6@elpais.com        </td><td>AF</td><td>42669</td><td>3/10/2023 </td><td>music </td></tr>\n",
              "\t<tr><th scope=row>9</th><td>kgrigoryev8  </td><td>Krishna Grigoryev  </td><td>5/25/1990 </td><td>kgrigoryev8@quantcast.com  </td><td>EU</td><td>93923</td><td>1/30/2023 </td><td>travel</td></tr>\n",
              "\t<tr><th scope=row>12</th><td>mchittockb   </td><td>Myriam Chittock    </td><td>1/26/1989 </td><td>mchittockb@uiuc.edu        </td><td>AF</td><td>46304</td><td>8/29/2023 </td><td>sports</td></tr>\n",
              "\t<tr><th scope=row>14</th><td>aeasbyd      </td><td>Alessandra Easby   </td><td>1/5/1991  </td><td>aeasbyd@google.ca          </td><td>AF</td><td>16786</td><td>6/15/2023 </td><td>sports</td></tr>\n",
              "\t<tr><th scope=row>19</th><td>omarusiki    </td><td>Otha Marusik       </td><td>12/4/1992 </td><td>omarusiki@cdbaby.com       </td><td>AF</td><td>93981</td><td>2/4/2022  </td><td>travel</td></tr>\n",
              "\t<tr><th scope=row>21</th><td>sspenclayk   </td><td>Scott Spenclay     </td><td>12/7/1989 </td><td>sspenclayk@wikispaces.com  </td><td>AF</td><td>31745</td><td>11/29/2022</td><td>sports</td></tr>\n",
              "\t<tr><th scope=row>22</th><td>gklinckl     </td><td>Georgetta Klinck   </td><td>7/26/1996 </td><td>gklinckl@over-blog.com     </td><td>SA</td><td>69386</td><td>9/10/2023 </td><td>sports</td></tr>\n",
              "\t<tr><th scope=row>23</th><td>rhollowm     </td><td>Riccardo Hollow    </td><td>1/18/1980 </td><td>rhollowm@dyndns.org        </td><td>OC</td><td>73088</td><td>1/22/2020 </td><td>sports</td></tr>\n",
              "\t<tr><th scope=row>30</th><td>ddimmockt    </td><td>Didi Dimmock       </td><td>5/15/1985 </td><td>ddimmockt@wired.com        </td><td>EU</td><td>81726</td><td>4/23/2021 </td><td>sports</td></tr>\n",
              "\t<tr><th scope=row>31</th><td>fpythonu     </td><td>Franz Python       </td><td>4/5/1984  </td><td>fpythonu@fastcompany.com   </td><td>SA</td><td>28388</td><td>7/9/2023  </td><td>music </td></tr>\n",
              "\t<tr><th scope=row>36</th><td>amcclellandz </td><td>Annabela McClelland</td><td>8/12/1983 </td><td>amcclellandz@soundcloud.com</td><td>AF</td><td>51483</td><td>5/3/2020  </td><td>sports</td></tr>\n",
              "\t<tr><th scope=row>38</th><td>kpietzker11  </td><td>Keane Pietzker     </td><td>11/26/1996</td><td>kpietzker11@tumblr.com     </td><td>AS</td><td>96249</td><td>8/7/2023  </td><td>music </td></tr>\n",
              "\t<tr><th scope=row>39</th><td>olandreth12  </td><td>Orsa Landreth      </td><td>1/10/2000 </td><td>olandreth12@oaic.gov.au    </td><td>SA</td><td>21065</td><td>9/2/2020  </td><td>music </td></tr>\n",
              "\t<tr><th scope=row>41</th><td>clettice14   </td><td>Cosette Lettice    </td><td>12/23/1981</td><td>clettice14@cmu.edu         </td><td>AS</td><td>58637</td><td>12/7/2021 </td><td>travel</td></tr>\n",
              "\t<tr><th scope=row>48</th><td>bgribbon1b   </td><td>Bennie Gribbon     </td><td>11/12/1984</td><td>bgribbon1b@dailymail.co.uk </td><td>AS</td><td> 8772</td><td>11/21/2021</td><td>music </td></tr>\n",
              "\t<tr><th scope=row>50</th><td>lherley1d    </td><td>Lorianne Herley    </td><td>11/30/1984</td><td>lherley1d@baidu.com        </td><td>AS</td><td>33535</td><td>8/18/2022 </td><td>travel</td></tr>\n",
              "\t<tr><th scope=row>52</th><td>scleyburn1f  </td><td>Steward Cleyburn   </td><td>11/18/1985</td><td>scleyburn1f@msn.com        </td><td>EU</td><td>69684</td><td>11/6/2022 </td><td>sports</td></tr>\n",
              "\t<tr><th scope=row>54</th><td>fsoares1h    </td><td>Fiorenze Soares    </td><td>5/23/1997 </td><td>fsoares1h@usatoday.com     </td><td>OC</td><td>60286</td><td>8/9/2020  </td><td>sports</td></tr>\n",
              "\t<tr><th scope=row>57</th><td>chepher1k    </td><td>Cleo Hepher        </td><td>11/13/1998</td><td>chepher1k@bizjournals.com  </td><td>OC</td><td>66939</td><td>1/31/2022 </td><td>sports</td></tr>\n",
              "\t<tr><th scope=row>61</th><td>tpotkin1o    </td><td>Tamarah Potkin     </td><td>4/11/2002 </td><td>tpotkin1o@spotify.com      </td><td>SA</td><td>78402</td><td>12/13/2021</td><td>travel</td></tr>\n",
              "\t<tr><th scope=row>62</th><td>pgreenhough1p</td><td>Piotr Greenhough   </td><td>4/7/1986  </td><td>pgreenhough1p@google.nl    </td><td>OC</td><td>27299</td><td>6/29/2020 </td><td>music </td></tr>\n",
              "\t<tr><th scope=row>63</th><td>tatling1q    </td><td>Tobin Atling       </td><td>11/11/1992</td><td>tatling1q@nih.gov          </td><td>AS</td><td>64230</td><td>1/28/2020 </td><td>sports</td></tr>\n",
              "\t<tr><th scope=row>64</th><td>cferroli1r   </td><td>Cullin Ferroli     </td><td>2/9/1998  </td><td>cferroli1r@hud.gov         </td><td>AS</td><td> 2574</td><td>5/2/2022  </td><td>music </td></tr>\n",
              "\t<tr><th scope=row>65</th><td>vwoods1s     </td><td>Vernen Woods       </td><td>1/11/1988 </td><td>vwoods1s@csmonitor.com     </td><td>AS</td><td>69902</td><td>3/1/2021  </td><td>travel</td></tr>\n",
              "\t<tr><th scope=row>67</th><td>tmcnish1u    </td><td>Tally McNish       </td><td>10/24/1990</td><td>tmcnish1u@unesco.org       </td><td>AF</td><td>16933</td><td>12/24/2021</td><td>music </td></tr>\n",
              "\t<tr><th scope=row>69</th><td>abydaway1w   </td><td>Ancell Bydaway     </td><td>7/16/1989 </td><td>abydaway1w@walmart.com     </td><td>AF</td><td>68712</td><td>6/8/2023  </td><td>travel</td></tr>\n",
              "\t<tr><th scope=row>70</th><td>fhamer1x     </td><td>Field Hamer        </td><td>10/18/1990</td><td>fhamer1x@apple.com         </td><td>AS</td><td>33920</td><td>7/4/2020  </td><td>sports</td></tr>\n",
              "\t<tr><th scope=row>73</th><td>rcoghlin20   </td><td>Renault Coghlin    </td><td>11/10/2001</td><td>rcoghlin20@blogspot.com    </td><td>AS</td><td> 8172</td><td>11/21/2020</td><td>sports</td></tr>\n",
              "\t<tr><th scope=row>74</th><td>kadam21      </td><td>Kirstyn Adam       </td><td>6/24/2000 </td><td>kadam21@bloglovin.com      </td><td>EU</td><td>65857</td><td>10/4/2023 </td><td>sports</td></tr>\n",
              "\t<tr><th scope=row>⋮</th><td>⋮</td><td>⋮</td><td>⋮</td><td>⋮</td><td>⋮</td><td>⋮</td><td>⋮</td><td>⋮</td></tr>\n",
              "\t<tr><th scope=row>925</th><td>tbaptiepo     </td><td>Thorvald Baptie     </td><td>10/23/1981</td><td>tbaptiepo@indiegogo.com       </td><td>OC</td><td>98233</td><td>5/27/2022 </td><td>sports</td></tr>\n",
              "\t<tr><th scope=row>927</th><td>hlivzeypq     </td><td>Herc Livzey         </td><td>8/11/1998 </td><td>hlivzeypq@mozilla.org         </td><td>AS</td><td> 3915</td><td>5/24/2023 </td><td>sports</td></tr>\n",
              "\t<tr><th scope=row>929</th><td>eilesps       </td><td>Elladine Iles       </td><td>3/8/1983  </td><td>eilesps@skype.com             </td><td>AS</td><td>87443</td><td>10/26/2020</td><td>travel</td></tr>\n",
              "\t<tr><th scope=row>930</th><td>kraspelpt     </td><td>Kippie Raspel       </td><td>5/17/2002 </td><td>kraspelpt@networksolutions.com</td><td>SA</td><td> 4114</td><td>2/14/2022 </td><td>music </td></tr>\n",
              "\t<tr><th scope=row>932</th><td>pcarpmilepv   </td><td>Penrod Carpmile     </td><td>1/7/1985  </td><td>pcarpmilepv@tmall.com         </td><td>AS</td><td> 8212</td><td>6/9/2023  </td><td>music </td></tr>\n",
              "\t<tr><th scope=row>934</th><td>otollettpx    </td><td>Olimpia Tollett     </td><td>8/10/1995 </td><td>otollettpx@slideshare.net     </td><td>OC</td><td>68515</td><td>3/3/2023  </td><td>music </td></tr>\n",
              "\t<tr><th scope=row>937</th><td>ebradlaughq0  </td><td>Edita Bradlaugh     </td><td>9/10/1981 </td><td>ebradlaughq0@delicious.com    </td><td>SA</td><td>62398</td><td>9/17/2023 </td><td>music </td></tr>\n",
              "\t<tr><th scope=row>938</th><td>nmasserelq1   </td><td>Nomi Masserel       </td><td>9/30/1984 </td><td>nmasserelq1@bing.com          </td><td>AF</td><td>37607</td><td>4/23/2020 </td><td>music </td></tr>\n",
              "\t<tr><th scope=row>939</th><td>nbarbeyq2     </td><td>Nelson Barbey       </td><td>12/15/1984</td><td>nbarbeyq2@histats.com         </td><td>OC</td><td>98172</td><td>6/18/2022 </td><td>music </td></tr>\n",
              "\t<tr><th scope=row>940</th><td>maimq3        </td><td>Maggy Aim           </td><td>3/4/1980  </td><td>maimq3@timesonline.co.uk      </td><td>OC</td><td>44423</td><td>7/12/2023 </td><td>travel</td></tr>\n",
              "\t<tr><th scope=row>941</th><td>bilchenkoq4   </td><td>Basilius Ilchenko   </td><td>10/16/1985</td><td>bilchenkoq4@wisc.edu          </td><td>EU</td><td>29691</td><td>6/25/2020 </td><td>music </td></tr>\n",
              "\t<tr><th scope=row>944</th><td>etimbridgeq7  </td><td>Ellswerth Timbridge </td><td>7/18/1993 </td><td>etimbridgeq7@cbslocal.com     </td><td>SA</td><td>50884</td><td>1/8/2023  </td><td>sports</td></tr>\n",
              "\t<tr><th scope=row>946</th><td>ebroomq9      </td><td>Early Broom         </td><td>3/10/2000 </td><td>ebroomq9@fastcompany.com      </td><td>AF</td><td>98606</td><td>10/22/2023</td><td>sports</td></tr>\n",
              "\t<tr><th scope=row>947</th><td>ffanthomeqa   </td><td>Fabe Fanthome       </td><td>3/24/1994 </td><td>ffanthomeqa@redcross.org      </td><td>EU</td><td>62888</td><td>6/8/2022  </td><td>travel</td></tr>\n",
              "\t<tr><th scope=row>948</th><td>jmacaskillqb  </td><td>Jinny MacAskill     </td><td>9/20/2002 </td><td>jmacaskillqb@weebly.com       </td><td>OC</td><td>67895</td><td>11/10/2020</td><td>travel</td></tr>\n",
              "\t<tr><th scope=row>951</th><td>clabbqe       </td><td>Constantia Labb     </td><td>4/29/1983 </td><td>clabbqe@phpbb.com             </td><td>AS</td><td>19170</td><td>4/17/2020 </td><td>sports</td></tr>\n",
              "\t<tr><th scope=row>955</th><td>mmatteaqi     </td><td>Maxy Mattea         </td><td>1/14/1991 </td><td>mmatteaqi@mit.edu             </td><td>AS</td><td>58766</td><td>12/16/2021</td><td>travel</td></tr>\n",
              "\t<tr><th scope=row>959</th><td>hscraceqm     </td><td>Haze Scrace         </td><td>6/11/2001 </td><td>hscraceqm@economist.com       </td><td>AS</td><td>12639</td><td>9/6/2020  </td><td>music </td></tr>\n",
              "\t<tr><th scope=row>962</th><td>lbyasqp       </td><td>Lothaire Byas       </td><td>1/28/1992 </td><td>lbyasqp@merriam-webster.com   </td><td>SA</td><td>10235</td><td>8/22/2021 </td><td>sports</td></tr>\n",
              "\t<tr><th scope=row>966</th><td>cvogeleinqt   </td><td>Codi Vogelein       </td><td>1/20/1998 </td><td>cvogeleinqt@stanford.edu      </td><td>EU</td><td>47689</td><td>5/6/2023  </td><td>travel</td></tr>\n",
              "\t<tr><th scope=row>967</th><td>lblinkhornqu  </td><td>Lolita Blinkhorn    </td><td>6/11/1980 </td><td>lblinkhornqu@hud.gov          </td><td>AS</td><td>64080</td><td>9/23/2023 </td><td>sports</td></tr>\n",
              "\t<tr><th scope=row>971</th><td>sargerqy      </td><td>Shane Arger         </td><td>2/21/1992 </td><td>sargerqy@exblog.jp            </td><td>AF</td><td>53022</td><td>12/7/2021 </td><td>music </td></tr>\n",
              "\t<tr><th scope=row>977</th><td>ksturdeyr4    </td><td>Krissie Sturdey     </td><td>8/13/1980 </td><td>ksturdeyr4@skyrock.com        </td><td>SA</td><td>37880</td><td>4/17/2020 </td><td>travel</td></tr>\n",
              "\t<tr><th scope=row>979</th><td>ggerrillr6    </td><td>Genevieve Gerrill   </td><td>8/16/1994 </td><td>ggerrillr6@xrea.com           </td><td>OC</td><td>78326</td><td>4/30/2022 </td><td>sports</td></tr>\n",
              "\t<tr><th scope=row>982</th><td>rleningr9     </td><td>Roch Lening         </td><td>9/1/1981  </td><td>rleningr9@taobao.com          </td><td>OC</td><td>21333</td><td>2/23/2020 </td><td>music </td></tr>\n",
              "\t<tr><th scope=row>983</th><td>gbilbeyra     </td><td>Grannie Bilbey      </td><td>6/22/1992 </td><td>gbilbeyra@wisc.edu            </td><td>AS</td><td>77316</td><td>5/4/2022  </td><td>music </td></tr>\n",
              "\t<tr><th scope=row>987</th><td>acaldicottre  </td><td>Ashlee Caldicott    </td><td>2/2/1996  </td><td>acaldicottre@furl.net         </td><td>OC</td><td>67530</td><td>2/15/2022 </td><td>music </td></tr>\n",
              "\t<tr><th scope=row>990</th><td>jbirchallrh   </td><td>Jinny Birchall      </td><td>11/3/1987 </td><td>jbirchallrh@senate.gov        </td><td>AF</td><td>76102</td><td>3/4/2022  </td><td>music </td></tr>\n",
              "\t<tr><th scope=row>995</th><td>vmacterrellyrm</td><td>Virginie MacTerrelly</td><td>10/8/1994 </td><td>vmacterrellyrm@dailymotion.com</td><td>AS</td><td>   81</td><td>9/11/2023 </td><td>sports</td></tr>\n",
              "\t<tr><th scope=row>996</th><td>sschafflerrn  </td><td>Sallyann Schaffler  </td><td>12/7/1999 </td><td>sschafflerrn@wsj.com          </td><td>OC</td><td>89752</td><td>9/20/2020 </td><td>sports</td></tr>\n",
              "</tbody>\n",
              "</table>\n"
            ],
            "text/markdown": "\nA data.frame: 422 × 8\n\n| <!--/--> | username &lt;chr&gt; | full_name &lt;chr&gt; | birthdate &lt;chr&gt; | email &lt;chr&gt; | continent &lt;chr&gt; | followers &lt;int&gt; | last_login &lt;chr&gt; | interests &lt;chr&gt; |\n|---|---|---|---|---|---|---|---|---|\n| 4 | rphettis3     | Ruddy Phettis       | 6/18/1984  | rphettis3@npr.org           | EU | 80047 | 9/20/2023  | travel |\n| 7 | ttotman6      | Tamqrah Totman      | 8/7/1986   | ttotman6@elpais.com         | AF | 42669 | 3/10/2023  | music  |\n| 9 | kgrigoryev8   | Krishna Grigoryev   | 5/25/1990  | kgrigoryev8@quantcast.com   | EU | 93923 | 1/30/2023  | travel |\n| 12 | mchittockb    | Myriam Chittock     | 1/26/1989  | mchittockb@uiuc.edu         | AF | 46304 | 8/29/2023  | sports |\n| 14 | aeasbyd       | Alessandra Easby    | 1/5/1991   | aeasbyd@google.ca           | AF | 16786 | 6/15/2023  | sports |\n| 19 | omarusiki     | Otha Marusik        | 12/4/1992  | omarusiki@cdbaby.com        | AF | 93981 | 2/4/2022   | travel |\n| 21 | sspenclayk    | Scott Spenclay      | 12/7/1989  | sspenclayk@wikispaces.com   | AF | 31745 | 11/29/2022 | sports |\n| 22 | gklinckl      | Georgetta Klinck    | 7/26/1996  | gklinckl@over-blog.com      | SA | 69386 | 9/10/2023  | sports |\n| 23 | rhollowm      | Riccardo Hollow     | 1/18/1980  | rhollowm@dyndns.org         | OC | 73088 | 1/22/2020  | sports |\n| 30 | ddimmockt     | Didi Dimmock        | 5/15/1985  | ddimmockt@wired.com         | EU | 81726 | 4/23/2021  | sports |\n| 31 | fpythonu      | Franz Python        | 4/5/1984   | fpythonu@fastcompany.com    | SA | 28388 | 7/9/2023   | music  |\n| 36 | amcclellandz  | Annabela McClelland | 8/12/1983  | amcclellandz@soundcloud.com | AF | 51483 | 5/3/2020   | sports |\n| 38 | kpietzker11   | Keane Pietzker      | 11/26/1996 | kpietzker11@tumblr.com      | AS | 96249 | 8/7/2023   | music  |\n| 39 | olandreth12   | Orsa Landreth       | 1/10/2000  | olandreth12@oaic.gov.au     | SA | 21065 | 9/2/2020   | music  |\n| 41 | clettice14    | Cosette Lettice     | 12/23/1981 | clettice14@cmu.edu          | AS | 58637 | 12/7/2021  | travel |\n| 48 | bgribbon1b    | Bennie Gribbon      | 11/12/1984 | bgribbon1b@dailymail.co.uk  | AS |  8772 | 11/21/2021 | music  |\n| 50 | lherley1d     | Lorianne Herley     | 11/30/1984 | lherley1d@baidu.com         | AS | 33535 | 8/18/2022  | travel |\n| 52 | scleyburn1f   | Steward Cleyburn    | 11/18/1985 | scleyburn1f@msn.com         | EU | 69684 | 11/6/2022  | sports |\n| 54 | fsoares1h     | Fiorenze Soares     | 5/23/1997  | fsoares1h@usatoday.com      | OC | 60286 | 8/9/2020   | sports |\n| 57 | chepher1k     | Cleo Hepher         | 11/13/1998 | chepher1k@bizjournals.com   | OC | 66939 | 1/31/2022  | sports |\n| 61 | tpotkin1o     | Tamarah Potkin      | 4/11/2002  | tpotkin1o@spotify.com       | SA | 78402 | 12/13/2021 | travel |\n| 62 | pgreenhough1p | Piotr Greenhough    | 4/7/1986   | pgreenhough1p@google.nl     | OC | 27299 | 6/29/2020  | music  |\n| 63 | tatling1q     | Tobin Atling        | 11/11/1992 | tatling1q@nih.gov           | AS | 64230 | 1/28/2020  | sports |\n| 64 | cferroli1r    | Cullin Ferroli      | 2/9/1998   | cferroli1r@hud.gov          | AS |  2574 | 5/2/2022   | music  |\n| 65 | vwoods1s      | Vernen Woods        | 1/11/1988  | vwoods1s@csmonitor.com      | AS | 69902 | 3/1/2021   | travel |\n| 67 | tmcnish1u     | Tally McNish        | 10/24/1990 | tmcnish1u@unesco.org        | AF | 16933 | 12/24/2021 | music  |\n| 69 | abydaway1w    | Ancell Bydaway      | 7/16/1989  | abydaway1w@walmart.com      | AF | 68712 | 6/8/2023   | travel |\n| 70 | fhamer1x      | Field Hamer         | 10/18/1990 | fhamer1x@apple.com          | AS | 33920 | 7/4/2020   | sports |\n| 73 | rcoghlin20    | Renault Coghlin     | 11/10/2001 | rcoghlin20@blogspot.com     | AS |  8172 | 11/21/2020 | sports |\n| 74 | kadam21       | Kirstyn Adam        | 6/24/2000  | kadam21@bloglovin.com       | EU | 65857 | 10/4/2023  | sports |\n| ⋮ | ⋮ | ⋮ | ⋮ | ⋮ | ⋮ | ⋮ | ⋮ | ⋮ |\n| 925 | tbaptiepo      | Thorvald Baptie      | 10/23/1981 | tbaptiepo@indiegogo.com        | OC | 98233 | 5/27/2022  | sports |\n| 927 | hlivzeypq      | Herc Livzey          | 8/11/1998  | hlivzeypq@mozilla.org          | AS |  3915 | 5/24/2023  | sports |\n| 929 | eilesps        | Elladine Iles        | 3/8/1983   | eilesps@skype.com              | AS | 87443 | 10/26/2020 | travel |\n| 930 | kraspelpt      | Kippie Raspel        | 5/17/2002  | kraspelpt@networksolutions.com | SA |  4114 | 2/14/2022  | music  |\n| 932 | pcarpmilepv    | Penrod Carpmile      | 1/7/1985   | pcarpmilepv@tmall.com          | AS |  8212 | 6/9/2023   | music  |\n| 934 | otollettpx     | Olimpia Tollett      | 8/10/1995  | otollettpx@slideshare.net      | OC | 68515 | 3/3/2023   | music  |\n| 937 | ebradlaughq0   | Edita Bradlaugh      | 9/10/1981  | ebradlaughq0@delicious.com     | SA | 62398 | 9/17/2023  | music  |\n| 938 | nmasserelq1    | Nomi Masserel        | 9/30/1984  | nmasserelq1@bing.com           | AF | 37607 | 4/23/2020  | music  |\n| 939 | nbarbeyq2      | Nelson Barbey        | 12/15/1984 | nbarbeyq2@histats.com          | OC | 98172 | 6/18/2022  | music  |\n| 940 | maimq3         | Maggy Aim            | 3/4/1980   | maimq3@timesonline.co.uk       | OC | 44423 | 7/12/2023  | travel |\n| 941 | bilchenkoq4    | Basilius Ilchenko    | 10/16/1985 | bilchenkoq4@wisc.edu           | EU | 29691 | 6/25/2020  | music  |\n| 944 | etimbridgeq7   | Ellswerth Timbridge  | 7/18/1993  | etimbridgeq7@cbslocal.com      | SA | 50884 | 1/8/2023   | sports |\n| 946 | ebroomq9       | Early Broom          | 3/10/2000  | ebroomq9@fastcompany.com       | AF | 98606 | 10/22/2023 | sports |\n| 947 | ffanthomeqa    | Fabe Fanthome        | 3/24/1994  | ffanthomeqa@redcross.org       | EU | 62888 | 6/8/2022   | travel |\n| 948 | jmacaskillqb   | Jinny MacAskill      | 9/20/2002  | jmacaskillqb@weebly.com        | OC | 67895 | 11/10/2020 | travel |\n| 951 | clabbqe        | Constantia Labb      | 4/29/1983  | clabbqe@phpbb.com              | AS | 19170 | 4/17/2020  | sports |\n| 955 | mmatteaqi      | Maxy Mattea          | 1/14/1991  | mmatteaqi@mit.edu              | AS | 58766 | 12/16/2021 | travel |\n| 959 | hscraceqm      | Haze Scrace          | 6/11/2001  | hscraceqm@economist.com        | AS | 12639 | 9/6/2020   | music  |\n| 962 | lbyasqp        | Lothaire Byas        | 1/28/1992  | lbyasqp@merriam-webster.com    | SA | 10235 | 8/22/2021  | sports |\n| 966 | cvogeleinqt    | Codi Vogelein        | 1/20/1998  | cvogeleinqt@stanford.edu       | EU | 47689 | 5/6/2023   | travel |\n| 967 | lblinkhornqu   | Lolita Blinkhorn     | 6/11/1980  | lblinkhornqu@hud.gov           | AS | 64080 | 9/23/2023  | sports |\n| 971 | sargerqy       | Shane Arger          | 2/21/1992  | sargerqy@exblog.jp             | AF | 53022 | 12/7/2021  | music  |\n| 977 | ksturdeyr4     | Krissie Sturdey      | 8/13/1980  | ksturdeyr4@skyrock.com         | SA | 37880 | 4/17/2020  | travel |\n| 979 | ggerrillr6     | Genevieve Gerrill    | 8/16/1994  | ggerrillr6@xrea.com            | OC | 78326 | 4/30/2022  | sports |\n| 982 | rleningr9      | Roch Lening          | 9/1/1981   | rleningr9@taobao.com           | OC | 21333 | 2/23/2020  | music  |\n| 983 | gbilbeyra      | Grannie Bilbey       | 6/22/1992  | gbilbeyra@wisc.edu             | AS | 77316 | 5/4/2022   | music  |\n| 987 | acaldicottre   | Ashlee Caldicott     | 2/2/1996   | acaldicottre@furl.net          | OC | 67530 | 2/15/2022  | music  |\n| 990 | jbirchallrh    | Jinny Birchall       | 11/3/1987  | jbirchallrh@senate.gov         | AF | 76102 | 3/4/2022   | music  |\n| 995 | vmacterrellyrm | Virginie MacTerrelly | 10/8/1994  | vmacterrellyrm@dailymotion.com | AS |    81 | 9/11/2023  | sports |\n| 996 | sschafflerrn   | Sallyann Schaffler   | 12/7/1999  | sschafflerrn@wsj.com           | OC | 89752 | 9/20/2020  | sports |\n\n",
            "text/latex": "A data.frame: 422 × 8\n\\begin{tabular}{r|llllllll}\n  & username & full\\_name & birthdate & email & continent & followers & last\\_login & interests\\\\\n  & <chr> & <chr> & <chr> & <chr> & <chr> & <int> & <chr> & <chr>\\\\\n\\hline\n\t4 & rphettis3     & Ruddy Phettis       & 6/18/1984  & rphettis3@npr.org           & EU & 80047 & 9/20/2023  & travel\\\\\n\t7 & ttotman6      & Tamqrah Totman      & 8/7/1986   & ttotman6@elpais.com         & AF & 42669 & 3/10/2023  & music \\\\\n\t9 & kgrigoryev8   & Krishna Grigoryev   & 5/25/1990  & kgrigoryev8@quantcast.com   & EU & 93923 & 1/30/2023  & travel\\\\\n\t12 & mchittockb    & Myriam Chittock     & 1/26/1989  & mchittockb@uiuc.edu         & AF & 46304 & 8/29/2023  & sports\\\\\n\t14 & aeasbyd       & Alessandra Easby    & 1/5/1991   & aeasbyd@google.ca           & AF & 16786 & 6/15/2023  & sports\\\\\n\t19 & omarusiki     & Otha Marusik        & 12/4/1992  & omarusiki@cdbaby.com        & AF & 93981 & 2/4/2022   & travel\\\\\n\t21 & sspenclayk    & Scott Spenclay      & 12/7/1989  & sspenclayk@wikispaces.com   & AF & 31745 & 11/29/2022 & sports\\\\\n\t22 & gklinckl      & Georgetta Klinck    & 7/26/1996  & gklinckl@over-blog.com      & SA & 69386 & 9/10/2023  & sports\\\\\n\t23 & rhollowm      & Riccardo Hollow     & 1/18/1980  & rhollowm@dyndns.org         & OC & 73088 & 1/22/2020  & sports\\\\\n\t30 & ddimmockt     & Didi Dimmock        & 5/15/1985  & ddimmockt@wired.com         & EU & 81726 & 4/23/2021  & sports\\\\\n\t31 & fpythonu      & Franz Python        & 4/5/1984   & fpythonu@fastcompany.com    & SA & 28388 & 7/9/2023   & music \\\\\n\t36 & amcclellandz  & Annabela McClelland & 8/12/1983  & amcclellandz@soundcloud.com & AF & 51483 & 5/3/2020   & sports\\\\\n\t38 & kpietzker11   & Keane Pietzker      & 11/26/1996 & kpietzker11@tumblr.com      & AS & 96249 & 8/7/2023   & music \\\\\n\t39 & olandreth12   & Orsa Landreth       & 1/10/2000  & olandreth12@oaic.gov.au     & SA & 21065 & 9/2/2020   & music \\\\\n\t41 & clettice14    & Cosette Lettice     & 12/23/1981 & clettice14@cmu.edu          & AS & 58637 & 12/7/2021  & travel\\\\\n\t48 & bgribbon1b    & Bennie Gribbon      & 11/12/1984 & bgribbon1b@dailymail.co.uk  & AS &  8772 & 11/21/2021 & music \\\\\n\t50 & lherley1d     & Lorianne Herley     & 11/30/1984 & lherley1d@baidu.com         & AS & 33535 & 8/18/2022  & travel\\\\\n\t52 & scleyburn1f   & Steward Cleyburn    & 11/18/1985 & scleyburn1f@msn.com         & EU & 69684 & 11/6/2022  & sports\\\\\n\t54 & fsoares1h     & Fiorenze Soares     & 5/23/1997  & fsoares1h@usatoday.com      & OC & 60286 & 8/9/2020   & sports\\\\\n\t57 & chepher1k     & Cleo Hepher         & 11/13/1998 & chepher1k@bizjournals.com   & OC & 66939 & 1/31/2022  & sports\\\\\n\t61 & tpotkin1o     & Tamarah Potkin      & 4/11/2002  & tpotkin1o@spotify.com       & SA & 78402 & 12/13/2021 & travel\\\\\n\t62 & pgreenhough1p & Piotr Greenhough    & 4/7/1986   & pgreenhough1p@google.nl     & OC & 27299 & 6/29/2020  & music \\\\\n\t63 & tatling1q     & Tobin Atling        & 11/11/1992 & tatling1q@nih.gov           & AS & 64230 & 1/28/2020  & sports\\\\\n\t64 & cferroli1r    & Cullin Ferroli      & 2/9/1998   & cferroli1r@hud.gov          & AS &  2574 & 5/2/2022   & music \\\\\n\t65 & vwoods1s      & Vernen Woods        & 1/11/1988  & vwoods1s@csmonitor.com      & AS & 69902 & 3/1/2021   & travel\\\\\n\t67 & tmcnish1u     & Tally McNish        & 10/24/1990 & tmcnish1u@unesco.org        & AF & 16933 & 12/24/2021 & music \\\\\n\t69 & abydaway1w    & Ancell Bydaway      & 7/16/1989  & abydaway1w@walmart.com      & AF & 68712 & 6/8/2023   & travel\\\\\n\t70 & fhamer1x      & Field Hamer         & 10/18/1990 & fhamer1x@apple.com          & AS & 33920 & 7/4/2020   & sports\\\\\n\t73 & rcoghlin20    & Renault Coghlin     & 11/10/2001 & rcoghlin20@blogspot.com     & AS &  8172 & 11/21/2020 & sports\\\\\n\t74 & kadam21       & Kirstyn Adam        & 6/24/2000  & kadam21@bloglovin.com       & EU & 65857 & 10/4/2023  & sports\\\\\n\t⋮ & ⋮ & ⋮ & ⋮ & ⋮ & ⋮ & ⋮ & ⋮ & ⋮\\\\\n\t925 & tbaptiepo      & Thorvald Baptie      & 10/23/1981 & tbaptiepo@indiegogo.com        & OC & 98233 & 5/27/2022  & sports\\\\\n\t927 & hlivzeypq      & Herc Livzey          & 8/11/1998  & hlivzeypq@mozilla.org          & AS &  3915 & 5/24/2023  & sports\\\\\n\t929 & eilesps        & Elladine Iles        & 3/8/1983   & eilesps@skype.com              & AS & 87443 & 10/26/2020 & travel\\\\\n\t930 & kraspelpt      & Kippie Raspel        & 5/17/2002  & kraspelpt@networksolutions.com & SA &  4114 & 2/14/2022  & music \\\\\n\t932 & pcarpmilepv    & Penrod Carpmile      & 1/7/1985   & pcarpmilepv@tmall.com          & AS &  8212 & 6/9/2023   & music \\\\\n\t934 & otollettpx     & Olimpia Tollett      & 8/10/1995  & otollettpx@slideshare.net      & OC & 68515 & 3/3/2023   & music \\\\\n\t937 & ebradlaughq0   & Edita Bradlaugh      & 9/10/1981  & ebradlaughq0@delicious.com     & SA & 62398 & 9/17/2023  & music \\\\\n\t938 & nmasserelq1    & Nomi Masserel        & 9/30/1984  & nmasserelq1@bing.com           & AF & 37607 & 4/23/2020  & music \\\\\n\t939 & nbarbeyq2      & Nelson Barbey        & 12/15/1984 & nbarbeyq2@histats.com          & OC & 98172 & 6/18/2022  & music \\\\\n\t940 & maimq3         & Maggy Aim            & 3/4/1980   & maimq3@timesonline.co.uk       & OC & 44423 & 7/12/2023  & travel\\\\\n\t941 & bilchenkoq4    & Basilius Ilchenko    & 10/16/1985 & bilchenkoq4@wisc.edu           & EU & 29691 & 6/25/2020  & music \\\\\n\t944 & etimbridgeq7   & Ellswerth Timbridge  & 7/18/1993  & etimbridgeq7@cbslocal.com      & SA & 50884 & 1/8/2023   & sports\\\\\n\t946 & ebroomq9       & Early Broom          & 3/10/2000  & ebroomq9@fastcompany.com       & AF & 98606 & 10/22/2023 & sports\\\\\n\t947 & ffanthomeqa    & Fabe Fanthome        & 3/24/1994  & ffanthomeqa@redcross.org       & EU & 62888 & 6/8/2022   & travel\\\\\n\t948 & jmacaskillqb   & Jinny MacAskill      & 9/20/2002  & jmacaskillqb@weebly.com        & OC & 67895 & 11/10/2020 & travel\\\\\n\t951 & clabbqe        & Constantia Labb      & 4/29/1983  & clabbqe@phpbb.com              & AS & 19170 & 4/17/2020  & sports\\\\\n\t955 & mmatteaqi      & Maxy Mattea          & 1/14/1991  & mmatteaqi@mit.edu              & AS & 58766 & 12/16/2021 & travel\\\\\n\t959 & hscraceqm      & Haze Scrace          & 6/11/2001  & hscraceqm@economist.com        & AS & 12639 & 9/6/2020   & music \\\\\n\t962 & lbyasqp        & Lothaire Byas        & 1/28/1992  & lbyasqp@merriam-webster.com    & SA & 10235 & 8/22/2021  & sports\\\\\n\t966 & cvogeleinqt    & Codi Vogelein        & 1/20/1998  & cvogeleinqt@stanford.edu       & EU & 47689 & 5/6/2023   & travel\\\\\n\t967 & lblinkhornqu   & Lolita Blinkhorn     & 6/11/1980  & lblinkhornqu@hud.gov           & AS & 64080 & 9/23/2023  & sports\\\\\n\t971 & sargerqy       & Shane Arger          & 2/21/1992  & sargerqy@exblog.jp             & AF & 53022 & 12/7/2021  & music \\\\\n\t977 & ksturdeyr4     & Krissie Sturdey      & 8/13/1980  & ksturdeyr4@skyrock.com         & SA & 37880 & 4/17/2020  & travel\\\\\n\t979 & ggerrillr6     & Genevieve Gerrill    & 8/16/1994  & ggerrillr6@xrea.com            & OC & 78326 & 4/30/2022  & sports\\\\\n\t982 & rleningr9      & Roch Lening          & 9/1/1981   & rleningr9@taobao.com           & OC & 21333 & 2/23/2020  & music \\\\\n\t983 & gbilbeyra      & Grannie Bilbey       & 6/22/1992  & gbilbeyra@wisc.edu             & AS & 77316 & 5/4/2022   & music \\\\\n\t987 & acaldicottre   & Ashlee Caldicott     & 2/2/1996   & acaldicottre@furl.net          & OC & 67530 & 2/15/2022  & music \\\\\n\t990 & jbirchallrh    & Jinny Birchall       & 11/3/1987  & jbirchallrh@senate.gov         & AF & 76102 & 3/4/2022   & music \\\\\n\t995 & vmacterrellyrm & Virginie MacTerrelly & 10/8/1994  & vmacterrellyrm@dailymotion.com & AS &    81 & 9/11/2023  & sports\\\\\n\t996 & sschafflerrn   & Sallyann Schaffler   & 12/7/1999  & sschafflerrn@wsj.com           & OC & 89752 & 9/20/2020  & sports\\\\\n\\end{tabular}\n",
            "text/plain": [
              "    username       full_name            birthdate \n",
              "4   rphettis3      Ruddy Phettis        6/18/1984 \n",
              "7   ttotman6       Tamqrah Totman       8/7/1986  \n",
              "9   kgrigoryev8    Krishna Grigoryev    5/25/1990 \n",
              "12  mchittockb     Myriam Chittock      1/26/1989 \n",
              "14  aeasbyd        Alessandra Easby     1/5/1991  \n",
              "19  omarusiki      Otha Marusik         12/4/1992 \n",
              "21  sspenclayk     Scott Spenclay       12/7/1989 \n",
              "22  gklinckl       Georgetta Klinck     7/26/1996 \n",
              "23  rhollowm       Riccardo Hollow      1/18/1980 \n",
              "30  ddimmockt      Didi Dimmock         5/15/1985 \n",
              "31  fpythonu       Franz Python         4/5/1984  \n",
              "36  amcclellandz   Annabela McClelland  8/12/1983 \n",
              "38  kpietzker11    Keane Pietzker       11/26/1996\n",
              "39  olandreth12    Orsa Landreth        1/10/2000 \n",
              "41  clettice14     Cosette Lettice      12/23/1981\n",
              "48  bgribbon1b     Bennie Gribbon       11/12/1984\n",
              "50  lherley1d      Lorianne Herley      11/30/1984\n",
              "52  scleyburn1f    Steward Cleyburn     11/18/1985\n",
              "54  fsoares1h      Fiorenze Soares      5/23/1997 \n",
              "57  chepher1k      Cleo Hepher          11/13/1998\n",
              "61  tpotkin1o      Tamarah Potkin       4/11/2002 \n",
              "62  pgreenhough1p  Piotr Greenhough     4/7/1986  \n",
              "63  tatling1q      Tobin Atling         11/11/1992\n",
              "64  cferroli1r     Cullin Ferroli       2/9/1998  \n",
              "65  vwoods1s       Vernen Woods         1/11/1988 \n",
              "67  tmcnish1u      Tally McNish         10/24/1990\n",
              "69  abydaway1w     Ancell Bydaway       7/16/1989 \n",
              "70  fhamer1x       Field Hamer          10/18/1990\n",
              "73  rcoghlin20     Renault Coghlin      11/10/2001\n",
              "74  kadam21        Kirstyn Adam         6/24/2000 \n",
              "⋮   ⋮              ⋮                    ⋮         \n",
              "925 tbaptiepo      Thorvald Baptie      10/23/1981\n",
              "927 hlivzeypq      Herc Livzey          8/11/1998 \n",
              "929 eilesps        Elladine Iles        3/8/1983  \n",
              "930 kraspelpt      Kippie Raspel        5/17/2002 \n",
              "932 pcarpmilepv    Penrod Carpmile      1/7/1985  \n",
              "934 otollettpx     Olimpia Tollett      8/10/1995 \n",
              "937 ebradlaughq0   Edita Bradlaugh      9/10/1981 \n",
              "938 nmasserelq1    Nomi Masserel        9/30/1984 \n",
              "939 nbarbeyq2      Nelson Barbey        12/15/1984\n",
              "940 maimq3         Maggy Aim            3/4/1980  \n",
              "941 bilchenkoq4    Basilius Ilchenko    10/16/1985\n",
              "944 etimbridgeq7   Ellswerth Timbridge  7/18/1993 \n",
              "946 ebroomq9       Early Broom          3/10/2000 \n",
              "947 ffanthomeqa    Fabe Fanthome        3/24/1994 \n",
              "948 jmacaskillqb   Jinny MacAskill      9/20/2002 \n",
              "951 clabbqe        Constantia Labb      4/29/1983 \n",
              "955 mmatteaqi      Maxy Mattea          1/14/1991 \n",
              "959 hscraceqm      Haze Scrace          6/11/2001 \n",
              "962 lbyasqp        Lothaire Byas        1/28/1992 \n",
              "966 cvogeleinqt    Codi Vogelein        1/20/1998 \n",
              "967 lblinkhornqu   Lolita Blinkhorn     6/11/1980 \n",
              "971 sargerqy       Shane Arger          2/21/1992 \n",
              "977 ksturdeyr4     Krissie Sturdey      8/13/1980 \n",
              "979 ggerrillr6     Genevieve Gerrill    8/16/1994 \n",
              "982 rleningr9      Roch Lening          9/1/1981  \n",
              "983 gbilbeyra      Grannie Bilbey       6/22/1992 \n",
              "987 acaldicottre   Ashlee Caldicott     2/2/1996  \n",
              "990 jbirchallrh    Jinny Birchall       11/3/1987 \n",
              "995 vmacterrellyrm Virginie MacTerrelly 10/8/1994 \n",
              "996 sschafflerrn   Sallyann Schaffler   12/7/1999 \n",
              "    email                          continent followers last_login interests\n",
              "4   rphettis3@npr.org              EU        80047     9/20/2023  travel   \n",
              "7   ttotman6@elpais.com            AF        42669     3/10/2023  music    \n",
              "9   kgrigoryev8@quantcast.com      EU        93923     1/30/2023  travel   \n",
              "12  mchittockb@uiuc.edu            AF        46304     8/29/2023  sports   \n",
              "14  aeasbyd@google.ca              AF        16786     6/15/2023  sports   \n",
              "19  omarusiki@cdbaby.com           AF        93981     2/4/2022   travel   \n",
              "21  sspenclayk@wikispaces.com      AF        31745     11/29/2022 sports   \n",
              "22  gklinckl@over-blog.com         SA        69386     9/10/2023  sports   \n",
              "23  rhollowm@dyndns.org            OC        73088     1/22/2020  sports   \n",
              "30  ddimmockt@wired.com            EU        81726     4/23/2021  sports   \n",
              "31  fpythonu@fastcompany.com       SA        28388     7/9/2023   music    \n",
              "36  amcclellandz@soundcloud.com    AF        51483     5/3/2020   sports   \n",
              "38  kpietzker11@tumblr.com         AS        96249     8/7/2023   music    \n",
              "39  olandreth12@oaic.gov.au        SA        21065     9/2/2020   music    \n",
              "41  clettice14@cmu.edu             AS        58637     12/7/2021  travel   \n",
              "48  bgribbon1b@dailymail.co.uk     AS         8772     11/21/2021 music    \n",
              "50  lherley1d@baidu.com            AS        33535     8/18/2022  travel   \n",
              "52  scleyburn1f@msn.com            EU        69684     11/6/2022  sports   \n",
              "54  fsoares1h@usatoday.com         OC        60286     8/9/2020   sports   \n",
              "57  chepher1k@bizjournals.com      OC        66939     1/31/2022  sports   \n",
              "61  tpotkin1o@spotify.com          SA        78402     12/13/2021 travel   \n",
              "62  pgreenhough1p@google.nl        OC        27299     6/29/2020  music    \n",
              "63  tatling1q@nih.gov              AS        64230     1/28/2020  sports   \n",
              "64  cferroli1r@hud.gov             AS         2574     5/2/2022   music    \n",
              "65  vwoods1s@csmonitor.com         AS        69902     3/1/2021   travel   \n",
              "67  tmcnish1u@unesco.org           AF        16933     12/24/2021 music    \n",
              "69  abydaway1w@walmart.com         AF        68712     6/8/2023   travel   \n",
              "70  fhamer1x@apple.com             AS        33920     7/4/2020   sports   \n",
              "73  rcoghlin20@blogspot.com        AS         8172     11/21/2020 sports   \n",
              "74  kadam21@bloglovin.com          EU        65857     10/4/2023  sports   \n",
              "⋮   ⋮                              ⋮         ⋮         ⋮          ⋮        \n",
              "925 tbaptiepo@indiegogo.com        OC        98233     5/27/2022  sports   \n",
              "927 hlivzeypq@mozilla.org          AS         3915     5/24/2023  sports   \n",
              "929 eilesps@skype.com              AS        87443     10/26/2020 travel   \n",
              "930 kraspelpt@networksolutions.com SA         4114     2/14/2022  music    \n",
              "932 pcarpmilepv@tmall.com          AS         8212     6/9/2023   music    \n",
              "934 otollettpx@slideshare.net      OC        68515     3/3/2023   music    \n",
              "937 ebradlaughq0@delicious.com     SA        62398     9/17/2023  music    \n",
              "938 nmasserelq1@bing.com           AF        37607     4/23/2020  music    \n",
              "939 nbarbeyq2@histats.com          OC        98172     6/18/2022  music    \n",
              "940 maimq3@timesonline.co.uk       OC        44423     7/12/2023  travel   \n",
              "941 bilchenkoq4@wisc.edu           EU        29691     6/25/2020  music    \n",
              "944 etimbridgeq7@cbslocal.com      SA        50884     1/8/2023   sports   \n",
              "946 ebroomq9@fastcompany.com       AF        98606     10/22/2023 sports   \n",
              "947 ffanthomeqa@redcross.org       EU        62888     6/8/2022   travel   \n",
              "948 jmacaskillqb@weebly.com        OC        67895     11/10/2020 travel   \n",
              "951 clabbqe@phpbb.com              AS        19170     4/17/2020  sports   \n",
              "955 mmatteaqi@mit.edu              AS        58766     12/16/2021 travel   \n",
              "959 hscraceqm@economist.com        AS        12639     9/6/2020   music    \n",
              "962 lbyasqp@merriam-webster.com    SA        10235     8/22/2021  sports   \n",
              "966 cvogeleinqt@stanford.edu       EU        47689     5/6/2023   travel   \n",
              "967 lblinkhornqu@hud.gov           AS        64080     9/23/2023  sports   \n",
              "971 sargerqy@exblog.jp             AF        53022     12/7/2021  music    \n",
              "977 ksturdeyr4@skyrock.com         SA        37880     4/17/2020  travel   \n",
              "979 ggerrillr6@xrea.com            OC        78326     4/30/2022  sports   \n",
              "982 rleningr9@taobao.com           OC        21333     2/23/2020  music    \n",
              "983 gbilbeyra@wisc.edu             AS        77316     5/4/2022   music    \n",
              "987 acaldicottre@furl.net          OC        67530     2/15/2022  music    \n",
              "990 jbirchallrh@senate.gov         AF        76102     3/4/2022   music    \n",
              "995 vmacterrellyrm@dailymotion.com AS           81     9/11/2023  sports   \n",
              "996 sschafflerrn@wsj.com           OC        89752     9/20/2020  sports   "
            ]
          },
          "metadata": {}
        }
      ]
    },
    {
      "cell_type": "code",
      "source": [
        "#\n",
        "df_top_ten <- df2 %>%\n",
        "  arrange(desc(followers)) %>%\n",
        "  head(10)\n",
        "\n",
        "df_top_ten"
      ],
      "metadata": {
        "id": "MjrZisnxlJUa",
        "outputId": "cf6e5856-91df-4f23-fd3e-71afbc9de258",
        "colab": {
          "base_uri": "https://localhost:8080/",
          "height": 412
        }
      },
      "execution_count": 16,
      "outputs": [
        {
          "output_type": "display_data",
          "data": {
            "text/html": [
              "<table class=\"dataframe\">\n",
              "<caption>A data.frame: 10 × 8</caption>\n",
              "<thead>\n",
              "\t<tr><th></th><th scope=col>username</th><th scope=col>full_name</th><th scope=col>birthdate</th><th scope=col>email</th><th scope=col>continent</th><th scope=col>followers</th><th scope=col>last_login</th><th scope=col>interests</th></tr>\n",
              "\t<tr><th></th><th scope=col>&lt;chr&gt;</th><th scope=col>&lt;chr&gt;</th><th scope=col>&lt;chr&gt;</th><th scope=col>&lt;chr&gt;</th><th scope=col>&lt;chr&gt;</th><th scope=col>&lt;int&gt;</th><th scope=col>&lt;chr&gt;</th><th scope=col>&lt;chr&gt;</th></tr>\n",
              "</thead>\n",
              "<tbody>\n",
              "\t<tr><th scope=row>1</th><td>lleckeyb6    </td><td>Lynne Leckey        </td><td>4/19/1998 </td><td>lleckeyb6@tripadvisor.com</td><td>SA</td><td>99977</td><td>3/14/2021 </td><td>sports</td></tr>\n",
              "\t<tr><th scope=row>2</th><td>cduftondy    </td><td>Celisse Dufton      </td><td>8/24/1995 </td><td>cduftondy@ox.ac.uk       </td><td>OC</td><td>99707</td><td>9/26/2021 </td><td>sports</td></tr>\n",
              "\t<tr><th scope=row>3</th><td>dbartalin77  </td><td>Desiree Bartalin    </td><td>8/23/1993 </td><td>dbartalin77@usda.gov     </td><td>AF</td><td>99618</td><td>5/30/2022 </td><td>music </td></tr>\n",
              "\t<tr><th scope=row>4</th><td>grivardmp    </td><td>Gwen Rivard         </td><td>9/12/1982 </td><td>grivardmp@google.com.hk  </td><td>OC</td><td>99526</td><td>4/4/2020  </td><td>music </td></tr>\n",
              "\t<tr><th scope=row>5</th><td>kmorriceht   </td><td>Kitti Morrice       </td><td>6/3/1995  </td><td>kmorriceht@privacy.gov.au</td><td>SA</td><td>98936</td><td>3/24/2021 </td><td>sports</td></tr>\n",
              "\t<tr><th scope=row>6</th><td>smacdonnell7o</td><td>Shoshanna MacDonnell</td><td>9/12/2002 </td><td>smacdonnell7o@toplist.cz </td><td>AS</td><td>98760</td><td>7/20/2021 </td><td>music </td></tr>\n",
              "\t<tr><th scope=row>7</th><td>ebroomq9     </td><td>Early Broom         </td><td>3/10/2000 </td><td>ebroomq9@fastcompany.com </td><td>AF</td><td>98606</td><td>10/22/2023</td><td>sports</td></tr>\n",
              "\t<tr><th scope=row>8</th><td>schapell4j   </td><td>Shepard Chapell     </td><td>9/3/1993  </td><td>schapell4j@noaa.gov      </td><td>AS</td><td>98479</td><td>2/14/2021 </td><td>music </td></tr>\n",
              "\t<tr><th scope=row>9</th><td>tbaptiepo    </td><td>Thorvald Baptie     </td><td>10/23/1981</td><td>tbaptiepo@indiegogo.com  </td><td>OC</td><td>98233</td><td>5/27/2022 </td><td>sports</td></tr>\n",
              "\t<tr><th scope=row>10</th><td>nbarbeyq2    </td><td>Nelson Barbey       </td><td>12/15/1984</td><td>nbarbeyq2@histats.com    </td><td>OC</td><td>98172</td><td>6/18/2022 </td><td>music </td></tr>\n",
              "</tbody>\n",
              "</table>\n"
            ],
            "text/markdown": "\nA data.frame: 10 × 8\n\n| <!--/--> | username &lt;chr&gt; | full_name &lt;chr&gt; | birthdate &lt;chr&gt; | email &lt;chr&gt; | continent &lt;chr&gt; | followers &lt;int&gt; | last_login &lt;chr&gt; | interests &lt;chr&gt; |\n|---|---|---|---|---|---|---|---|---|\n| 1 | lleckeyb6     | Lynne Leckey         | 4/19/1998  | lleckeyb6@tripadvisor.com | SA | 99977 | 3/14/2021  | sports |\n| 2 | cduftondy     | Celisse Dufton       | 8/24/1995  | cduftondy@ox.ac.uk        | OC | 99707 | 9/26/2021  | sports |\n| 3 | dbartalin77   | Desiree Bartalin     | 8/23/1993  | dbartalin77@usda.gov      | AF | 99618 | 5/30/2022  | music  |\n| 4 | grivardmp     | Gwen Rivard          | 9/12/1982  | grivardmp@google.com.hk   | OC | 99526 | 4/4/2020   | music  |\n| 5 | kmorriceht    | Kitti Morrice        | 6/3/1995   | kmorriceht@privacy.gov.au | SA | 98936 | 3/24/2021  | sports |\n| 6 | smacdonnell7o | Shoshanna MacDonnell | 9/12/2002  | smacdonnell7o@toplist.cz  | AS | 98760 | 7/20/2021  | music  |\n| 7 | ebroomq9      | Early Broom          | 3/10/2000  | ebroomq9@fastcompany.com  | AF | 98606 | 10/22/2023 | sports |\n| 8 | schapell4j    | Shepard Chapell      | 9/3/1993   | schapell4j@noaa.gov       | AS | 98479 | 2/14/2021  | music  |\n| 9 | tbaptiepo     | Thorvald Baptie      | 10/23/1981 | tbaptiepo@indiegogo.com   | OC | 98233 | 5/27/2022  | sports |\n| 10 | nbarbeyq2     | Nelson Barbey        | 12/15/1984 | nbarbeyq2@histats.com     | OC | 98172 | 6/18/2022  | music  |\n\n",
            "text/latex": "A data.frame: 10 × 8\n\\begin{tabular}{r|llllllll}\n  & username & full\\_name & birthdate & email & continent & followers & last\\_login & interests\\\\\n  & <chr> & <chr> & <chr> & <chr> & <chr> & <int> & <chr> & <chr>\\\\\n\\hline\n\t1 & lleckeyb6     & Lynne Leckey         & 4/19/1998  & lleckeyb6@tripadvisor.com & SA & 99977 & 3/14/2021  & sports\\\\\n\t2 & cduftondy     & Celisse Dufton       & 8/24/1995  & cduftondy@ox.ac.uk        & OC & 99707 & 9/26/2021  & sports\\\\\n\t3 & dbartalin77   & Desiree Bartalin     & 8/23/1993  & dbartalin77@usda.gov      & AF & 99618 & 5/30/2022  & music \\\\\n\t4 & grivardmp     & Gwen Rivard          & 9/12/1982  & grivardmp@google.com.hk   & OC & 99526 & 4/4/2020   & music \\\\\n\t5 & kmorriceht    & Kitti Morrice        & 6/3/1995   & kmorriceht@privacy.gov.au & SA & 98936 & 3/24/2021  & sports\\\\\n\t6 & smacdonnell7o & Shoshanna MacDonnell & 9/12/2002  & smacdonnell7o@toplist.cz  & AS & 98760 & 7/20/2021  & music \\\\\n\t7 & ebroomq9      & Early Broom          & 3/10/2000  & ebroomq9@fastcompany.com  & AF & 98606 & 10/22/2023 & sports\\\\\n\t8 & schapell4j    & Shepard Chapell      & 9/3/1993   & schapell4j@noaa.gov       & AS & 98479 & 2/14/2021  & music \\\\\n\t9 & tbaptiepo     & Thorvald Baptie      & 10/23/1981 & tbaptiepo@indiegogo.com   & OC & 98233 & 5/27/2022  & sports\\\\\n\t10 & nbarbeyq2     & Nelson Barbey        & 12/15/1984 & nbarbeyq2@histats.com     & OC & 98172 & 6/18/2022  & music \\\\\n\\end{tabular}\n",
            "text/plain": [
              "   username      full_name            birthdate  email                    \n",
              "1  lleckeyb6     Lynne Leckey         4/19/1998  lleckeyb6@tripadvisor.com\n",
              "2  cduftondy     Celisse Dufton       8/24/1995  cduftondy@ox.ac.uk       \n",
              "3  dbartalin77   Desiree Bartalin     8/23/1993  dbartalin77@usda.gov     \n",
              "4  grivardmp     Gwen Rivard          9/12/1982  grivardmp@google.com.hk  \n",
              "5  kmorriceht    Kitti Morrice        6/3/1995   kmorriceht@privacy.gov.au\n",
              "6  smacdonnell7o Shoshanna MacDonnell 9/12/2002  smacdonnell7o@toplist.cz \n",
              "7  ebroomq9      Early Broom          3/10/2000  ebroomq9@fastcompany.com \n",
              "8  schapell4j    Shepard Chapell      9/3/1993   schapell4j@noaa.gov      \n",
              "9  tbaptiepo     Thorvald Baptie      10/23/1981 tbaptiepo@indiegogo.com  \n",
              "10 nbarbeyq2     Nelson Barbey        12/15/1984 nbarbeyq2@histats.com    \n",
              "   continent followers last_login interests\n",
              "1  SA        99977     3/14/2021  sports   \n",
              "2  OC        99707     9/26/2021  sports   \n",
              "3  AF        99618     5/30/2022  music    \n",
              "4  OC        99526     4/4/2020   music    \n",
              "5  SA        98936     3/24/2021  sports   \n",
              "6  AS        98760     7/20/2021  music    \n",
              "7  AF        98606     10/22/2023 sports   \n",
              "8  AS        98479     2/14/2021  music    \n",
              "9  OC        98233     5/27/2022  sports   \n",
              "10 OC        98172     6/18/2022  music    "
            ]
          },
          "metadata": {}
        }
      ]
    },
    {
      "cell_type": "code",
      "source": [
        "df2 <- df2 %>%\n",
        "  group_by(continent) %>%\n",
        "  summarize(user_count = n())\n",
        "\n",
        "df2"
      ],
      "metadata": {
        "id": "b-SkYytls65q",
        "outputId": "f312d68c-b74e-4077-e09e-ad44435df68a",
        "colab": {
          "base_uri": "https://localhost:8080/",
          "height": 255
        }
      },
      "execution_count": 17,
      "outputs": [
        {
          "output_type": "display_data",
          "data": {
            "text/html": [
              "<table class=\"dataframe\">\n",
              "<caption>A tibble: 5 × 2</caption>\n",
              "<thead>\n",
              "\t<tr><th scope=col>continent</th><th scope=col>user_count</th></tr>\n",
              "\t<tr><th scope=col>&lt;chr&gt;</th><th scope=col>&lt;int&gt;</th></tr>\n",
              "</thead>\n",
              "<tbody>\n",
              "\t<tr><td>AF</td><td> 70</td></tr>\n",
              "\t<tr><td>AS</td><td>111</td></tr>\n",
              "\t<tr><td>EU</td><td> 77</td></tr>\n",
              "\t<tr><td>OC</td><td> 95</td></tr>\n",
              "\t<tr><td>SA</td><td> 69</td></tr>\n",
              "</tbody>\n",
              "</table>\n"
            ],
            "text/markdown": "\nA tibble: 5 × 2\n\n| continent &lt;chr&gt; | user_count &lt;int&gt; |\n|---|---|\n| AF |  70 |\n| AS | 111 |\n| EU |  77 |\n| OC |  95 |\n| SA |  69 |\n\n",
            "text/latex": "A tibble: 5 × 2\n\\begin{tabular}{ll}\n continent & user\\_count\\\\\n <chr> & <int>\\\\\n\\hline\n\t AF &  70\\\\\n\t AS & 111\\\\\n\t EU &  77\\\\\n\t OC &  95\\\\\n\t SA &  69\\\\\n\\end{tabular}\n",
            "text/plain": [
              "  continent user_count\n",
              "1 AF         70       \n",
              "2 AS        111       \n",
              "3 EU         77       \n",
              "4 OC         95       \n",
              "5 SA         69       "
            ]
          },
          "metadata": {}
        }
      ]
    }
  ]
}