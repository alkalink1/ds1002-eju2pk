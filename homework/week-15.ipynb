{
  "nbformat": 4,
  "nbformat_minor": 0,
  "metadata": {
    "colab": {
      "provenance": [],
      "include_colab_link": true
    },
    "kernelspec": {
      "name": "ir",
      "display_name": "R"
    },
    "language_info": {
      "name": "R"
    }
  },
  "cells": [
    {
      "cell_type": "markdown",
      "metadata": {
        "id": "view-in-github",
        "colab_type": "text"
      },
      "source": [
        "<a href=\"https://colab.research.google.com/github/alkalink1/ds1002-eju2pk/blob/main/homework/week-15.ipynb\" target=\"_parent\"><img src=\"https://colab.research.google.com/assets/colab-badge.svg\" alt=\"Open In Colab\"/></a>"
      ]
    },
    {
      "cell_type": "markdown",
      "source": [
        "# Homework - Week 15\n",
        "\n",
        "Complete the following blocks as specified in the directions. Run each cell to return the desired output. Save your notebook back to your GitHub repository and submit the GitHub URL to your notebook for review."
      ],
      "metadata": {
        "id": "sZruw3XQogej"
      }
    },
    {
      "cell_type": "markdown",
      "source": [
        "## 1. Create Functions (4 pts)\n",
        "\n",
        "Create two functions in the cells below, according to the prompts given."
      ],
      "metadata": {
        "id": "lkaofBQypx1X"
      }
    },
    {
      "cell_type": "code",
      "source": [
        "# create a function in R that:\n",
        "#   1. takes a single integer as an input parameter\n",
        "#   2. determines whether the integer is even or odd\n",
        "#   3. returns a character statement \"The integer <x> is even\" or \"The integer <x> is odd\" (replace <x> with the actual input provided)\n",
        "#\n",
        "# then execute the function twice using two different input values, displaying even and odd results.\n",
        "even_or_odd <- function(x){if (x %% 2 == 1) {\n",
        "  return(\"odd\")\n",
        "} else {\n",
        "  return(\"even\")\n",
        "}\n",
        "}\n",
        "\n",
        "even_or_odd(17)\n",
        "even_or_odd(10)"
      ],
      "metadata": {
        "id": "1fjq5bkEp6Zv",
        "outputId": "1a6f0a7e-aea7-4ad8-9537-141ea365c05a",
        "colab": {
          "base_uri": "https://localhost:8080/",
          "height": 52
        }
      },
      "execution_count": 2,
      "outputs": [
        {
          "output_type": "display_data",
          "data": {
            "text/html": [
              "'odd'"
            ],
            "text/markdown": "'odd'",
            "text/latex": "'odd'",
            "text/plain": [
              "[1] \"odd\""
            ]
          },
          "metadata": {}
        },
        {
          "output_type": "display_data",
          "data": {
            "text/html": [
              "'even'"
            ],
            "text/markdown": "'even'",
            "text/latex": "'even'",
            "text/plain": [
              "[1] \"even\""
            ]
          },
          "metadata": {}
        }
      ]
    },
    {
      "cell_type": "code",
      "source": [
        "# create a function in R that:\n",
        "#   1. takes 4 integer input parameters\n",
        "#   2. returns the mean value of the inputs\n",
        "#   3. has default values for the 4 input parameters, in case they are not provided when the function is called.\n",
        "#\n",
        "# then execute the function twice: once where you provide the input values, and once where you do not.\n",
        "\n",
        "yas <- function(var1 = 2,var2 = 3,var3 = 4,var4 = 5) {\n",
        "  womp_womp <- c(var1,var2,var3,var4)\n",
        "  yas_new_val = mean(womp_womp)\n",
        "  yas_new_val\n",
        "}\n",
        "yas(1,2,3,4)\n",
        "yas()"
      ],
      "metadata": {
        "id": "f3IFD-T6p6Rd",
        "outputId": "40a331a7-67e6-4c5a-dad5-7f438e1a2628",
        "colab": {
          "base_uri": "https://localhost:8080/",
          "height": 52
        }
      },
      "execution_count": 13,
      "outputs": [
        {
          "output_type": "display_data",
          "data": {
            "text/html": [
              "2.5"
            ],
            "text/markdown": "2.5",
            "text/latex": "2.5",
            "text/plain": [
              "[1] 2.5"
            ]
          },
          "metadata": {}
        },
        {
          "output_type": "display_data",
          "data": {
            "text/html": [
              "3.5"
            ],
            "text/markdown": "3.5",
            "text/latex": "3.5",
            "text/plain": [
              "[1] 3.5"
            ]
          },
          "metadata": {}
        }
      ]
    },
    {
      "cell_type": "markdown",
      "source": [
        "## 2. Plot Data (4 pts)"
      ],
      "metadata": {
        "id": "F6Rx0GIGrpOB"
      }
    },
    {
      "cell_type": "markdown",
      "source": [
        "In the cell below, write the code required to plot from the `msleep` sample data set.\n",
        "\n",
        "1. Display only animals with body weights of 30 or greater.\n",
        "2. Group the animals by `order`.\n",
        "3. Display the mean `sleep_total` for each group in a bar plot."
      ],
      "metadata": {
        "id": "IDLyOjOJsFCX"
      }
    },
    {
      "cell_type": "code",
      "source": [
        "library(tidyverse)\n",
        "library(ggplot2)\n",
        "install.packages(\"gapminder\")\n",
        "library(gapminder)\n"
      ],
      "metadata": {
        "id": "0D5Ia-BPsoPZ",
        "outputId": "38c44232-da02-4efe-f8e0-cfb9eb691db5",
        "colab": {
          "base_uri": "https://localhost:8080/"
        }
      },
      "execution_count": 14,
      "outputs": [
        {
          "output_type": "stream",
          "name": "stderr",
          "text": [
            "── \u001b[1mAttaching core tidyverse packages\u001b[22m ──────────────────────── tidyverse 2.0.0 ──\n",
            "\u001b[32m✔\u001b[39m \u001b[34mdplyr    \u001b[39m 1.1.4     \u001b[32m✔\u001b[39m \u001b[34mreadr    \u001b[39m 2.1.4\n",
            "\u001b[32m✔\u001b[39m \u001b[34mforcats  \u001b[39m 1.0.0     \u001b[32m✔\u001b[39m \u001b[34mstringr  \u001b[39m 1.5.1\n",
            "\u001b[32m✔\u001b[39m \u001b[34mggplot2  \u001b[39m 3.4.4     \u001b[32m✔\u001b[39m \u001b[34mtibble   \u001b[39m 3.2.1\n",
            "\u001b[32m✔\u001b[39m \u001b[34mlubridate\u001b[39m 1.9.3     \u001b[32m✔\u001b[39m \u001b[34mtidyr    \u001b[39m 1.3.0\n",
            "\u001b[32m✔\u001b[39m \u001b[34mpurrr    \u001b[39m 1.0.2     \n",
            "── \u001b[1mConflicts\u001b[22m ────────────────────────────────────────── tidyverse_conflicts() ──\n",
            "\u001b[31m✖\u001b[39m \u001b[34mdplyr\u001b[39m::\u001b[32mfilter()\u001b[39m masks \u001b[34mstats\u001b[39m::filter()\n",
            "\u001b[31m✖\u001b[39m \u001b[34mdplyr\u001b[39m::\u001b[32mlag()\u001b[39m    masks \u001b[34mstats\u001b[39m::lag()\n",
            "\u001b[36mℹ\u001b[39m Use the conflicted package (\u001b[3m\u001b[34m<http://conflicted.r-lib.org/>\u001b[39m\u001b[23m) to force all conflicts to become errors\n",
            "Installing package into ‘/usr/local/lib/R/site-library’\n",
            "(as ‘lib’ is unspecified)\n",
            "\n"
          ]
        }
      ]
    },
    {
      "cell_type": "code",
      "source": [
        "msleep[df$bodywt >= 30]\n",
        "\n",
        "ggplot(msleep, aes(x=mean(sleep_total), fill=order)) + geom_histogram()\n",
        "\n"
      ],
      "metadata": {
        "id": "uNffUIAM8ISw",
        "outputId": "6fa19acd-656e-49f6-8bea-15225f6d6b0a",
        "colab": {
          "base_uri": "https://localhost:8080/",
          "height": 143
        }
      },
      "execution_count": 42,
      "outputs": [
        {
          "output_type": "error",
          "ename": "ERROR",
          "evalue": "ignored",
          "traceback": [
            "Error in df$bodywt: object of type 'closure' is not subsettable\nTraceback:\n",
            "1. msleep[df$bodywt >= 30]"
          ]
        }
      ]
    },
    {
      "cell_type": "markdown",
      "source": [
        "## 3. Clean and Analyze Data Using R (4 pts)\n",
        "\n",
        "In the cells below use R to perform the following data cleaning steps on this file:\n",
        "https://raw.githubusercontent.com/nmagee/ds1002/main/data/social-media-users.csv\n",
        "\n",
        "1. Remove any duplicate rows.\n",
        "2. Remove any records where `last_login` or `birthdate` are empty.\n",
        "3. Display only the records with the 10 highest `follower` counts.\n",
        "4. Determine counts of users when grouped by continent."
      ],
      "metadata": {
        "id": "-2ZaFcCCv3o8"
      }
    },
    {
      "cell_type": "code",
      "source": [
        "#\n",
        "df <- read.csv(\"https://raw.githubusercontent.com/nmagee/ds1002/main/data/social-media-users.csv\")\n",
        "df"
      ],
      "metadata": {
        "id": "V4nBsdVsyauQ"
      },
      "execution_count": null,
      "outputs": []
    },
    {
      "cell_type": "code",
      "source": [
        "df2 <- df[!duplicated(df), ]"
      ],
      "metadata": {
        "id": "9kitczgQCnU_"
      },
      "execution_count": 52,
      "outputs": []
    },
    {
      "cell_type": "code",
      "source": [
        "#\n",
        "df1 <- na.omit(df2)\n",
        "#could not figure out how to specifically target last login or brithdate\n",
        "# i tried df1 <- na.omit(df.last_login) but this didn't work\n",
        "\n",
        "df1"
      ],
      "metadata": {
        "id": "LwXD1sNulIT3",
        "outputId": "49753d14-365a-465e-a98b-23523c4413a8",
        "colab": {
          "base_uri": "https://localhost:8080/",
          "height": 1000
        }
      },
      "execution_count": 60,
      "outputs": [
        {
          "output_type": "display_data",
          "data": {
            "text/html": [
              "<table class=\"dataframe\">\n",
              "<caption>A data.frame: 653 × 8</caption>\n",
              "<thead>\n",
              "\t<tr><th></th><th scope=col>username</th><th scope=col>full_name</th><th scope=col>birthdate</th><th scope=col>email</th><th scope=col>continent</th><th scope=col>followers</th><th scope=col>last_login</th><th scope=col>interests</th></tr>\n",
              "\t<tr><th></th><th scope=col>&lt;chr&gt;</th><th scope=col>&lt;chr&gt;</th><th scope=col>&lt;chr&gt;</th><th scope=col>&lt;chr&gt;</th><th scope=col>&lt;chr&gt;</th><th scope=col>&lt;int&gt;</th><th scope=col>&lt;chr&gt;</th><th scope=col>&lt;chr&gt;</th></tr>\n",
              "</thead>\n",
              "<tbody>\n",
              "\t<tr><th scope=row>4</th><td>rphettis3    </td><td>Ruddy Phettis      </td><td>6/18/1984 </td><td>rphettis3@npr.org          </td><td>EU</td><td>80047</td><td>9/20/2023 </td><td>travel</td></tr>\n",
              "\t<tr><th scope=row>6</th><td>fhampson5    </td><td>Farrell Hampson    </td><td>11/7/1985 </td><td>fhampson5@lulu.com         </td><td>OC</td><td>72161</td><td>          </td><td>sports</td></tr>\n",
              "\t<tr><th scope=row>7</th><td>ttotman6     </td><td>Tamqrah Totman     </td><td>8/7/1986  </td><td>ttotman6@elpais.com        </td><td>AF</td><td>42669</td><td>3/10/2023 </td><td>music </td></tr>\n",
              "\t<tr><th scope=row>9</th><td>kgrigoryev8  </td><td>Krishna Grigoryev  </td><td>5/25/1990 </td><td>kgrigoryev8@quantcast.com  </td><td>EU</td><td>93923</td><td>1/30/2023 </td><td>travel</td></tr>\n",
              "\t<tr><th scope=row>10</th><td>mbathoe9     </td><td>Mallissa Bathoe    </td><td>          </td><td>mbathoe9@bloomberg.com     </td><td>AS</td><td>18554</td><td>3/5/2022  </td><td>travel</td></tr>\n",
              "\t<tr><th scope=row>11</th><td>hallensona   </td><td>Hayward Allenson   </td><td>3/15/1983 </td><td>hallensona@wp.com          </td><td>AF</td><td>81042</td><td>          </td><td>travel</td></tr>\n",
              "\t<tr><th scope=row>12</th><td>mchittockb   </td><td>Myriam Chittock    </td><td>1/26/1989 </td><td>mchittockb@uiuc.edu        </td><td>AF</td><td>46304</td><td>8/29/2023 </td><td>sports</td></tr>\n",
              "\t<tr><th scope=row>14</th><td>aeasbyd      </td><td>Alessandra Easby   </td><td>1/5/1991  </td><td>aeasbyd@google.ca          </td><td>AF</td><td>16786</td><td>6/15/2023 </td><td>sports</td></tr>\n",
              "\t<tr><th scope=row>19</th><td>omarusiki    </td><td>Otha Marusik       </td><td>12/4/1992 </td><td>omarusiki@cdbaby.com       </td><td>AF</td><td>93981</td><td>2/4/2022  </td><td>travel</td></tr>\n",
              "\t<tr><th scope=row>21</th><td>sspenclayk   </td><td>Scott Spenclay     </td><td>12/7/1989 </td><td>sspenclayk@wikispaces.com  </td><td>AF</td><td>31745</td><td>11/29/2022</td><td>sports</td></tr>\n",
              "\t<tr><th scope=row>22</th><td>gklinckl     </td><td>Georgetta Klinck   </td><td>7/26/1996 </td><td>gklinckl@over-blog.com     </td><td>SA</td><td>69386</td><td>9/10/2023 </td><td>sports</td></tr>\n",
              "\t<tr><th scope=row>23</th><td>rhollowm     </td><td>Riccardo Hollow    </td><td>1/18/1980 </td><td>rhollowm@dyndns.org        </td><td>OC</td><td>73088</td><td>1/22/2020 </td><td>sports</td></tr>\n",
              "\t<tr><th scope=row>24</th><td>atrouncen    </td><td>Aube Trounce       </td><td>9/5/1984  </td><td>atrouncen@shinystat.com    </td><td>AS</td><td>51692</td><td>          </td><td>music </td></tr>\n",
              "\t<tr><th scope=row>25</th><td>jquareo      </td><td>Joey Quare         </td><td>11/19/1999</td><td>jquareo@furl.net           </td><td>AF</td><td>68116</td><td>          </td><td>sports</td></tr>\n",
              "\t<tr><th scope=row>26</th><td>rbellonp     </td><td>Rodolph Bellon     </td><td>8/30/2002 </td><td>rbellonp@cisco.com         </td><td>AF</td><td>96337</td><td>          </td><td>music </td></tr>\n",
              "\t<tr><th scope=row>27</th><td>chawesq      </td><td>Courtnay Hawes     </td><td>          </td><td>chawesq@deviantart.com     </td><td>AF</td><td>  435</td><td>3/19/2023 </td><td>music </td></tr>\n",
              "\t<tr><th scope=row>28</th><td>acheshirr    </td><td>Ali Cheshir        </td><td>4/19/1998 </td><td>acheshirr@phoca.cz         </td><td>AS</td><td>79802</td><td>          </td><td>sports</td></tr>\n",
              "\t<tr><th scope=row>30</th><td>ddimmockt    </td><td>Didi Dimmock       </td><td>5/15/1985 </td><td>ddimmockt@wired.com        </td><td>EU</td><td>81726</td><td>4/23/2021 </td><td>sports</td></tr>\n",
              "\t<tr><th scope=row>31</th><td>fpythonu     </td><td>Franz Python       </td><td>4/5/1984  </td><td>fpythonu@fastcompany.com   </td><td>SA</td><td>28388</td><td>7/9/2023  </td><td>music </td></tr>\n",
              "\t<tr><th scope=row>34</th><td>sledgertonx  </td><td>Sheffield Ledgerton</td><td>          </td><td>sledgertonx@geocities.com  </td><td>OC</td><td> 1891</td><td>9/13/2021 </td><td>music </td></tr>\n",
              "\t<tr><th scope=row>35</th><td>gwherretty   </td><td>Gillan Wherrett    </td><td>          </td><td>gwherretty@berkeley.edu    </td><td>AS</td><td>48390</td><td>          </td><td>sports</td></tr>\n",
              "\t<tr><th scope=row>36</th><td>amcclellandz </td><td>Annabela McClelland</td><td>8/12/1983 </td><td>amcclellandz@soundcloud.com</td><td>AF</td><td>51483</td><td>5/3/2020  </td><td>sports</td></tr>\n",
              "\t<tr><th scope=row>38</th><td>kpietzker11  </td><td>Keane Pietzker     </td><td>11/26/1996</td><td>kpietzker11@tumblr.com     </td><td>AS</td><td>96249</td><td>8/7/2023  </td><td>music </td></tr>\n",
              "\t<tr><th scope=row>39</th><td>olandreth12  </td><td>Orsa Landreth      </td><td>1/10/2000 </td><td>olandreth12@oaic.gov.au    </td><td>SA</td><td>21065</td><td>9/2/2020  </td><td>music </td></tr>\n",
              "\t<tr><th scope=row>41</th><td>clettice14   </td><td>Cosette Lettice    </td><td>12/23/1981</td><td>clettice14@cmu.edu         </td><td>AS</td><td>58637</td><td>12/7/2021 </td><td>travel</td></tr>\n",
              "\t<tr><th scope=row>46</th><td>lcordobes19  </td><td>Leigha Cordobes    </td><td>          </td><td>lcordobes19@phpbb.com      </td><td>EU</td><td>32458</td><td>12/15/2020</td><td>music </td></tr>\n",
              "\t<tr><th scope=row>48</th><td>bgribbon1b   </td><td>Bennie Gribbon     </td><td>11/12/1984</td><td>bgribbon1b@dailymail.co.uk </td><td>AS</td><td> 8772</td><td>11/21/2021</td><td>music </td></tr>\n",
              "\t<tr><th scope=row>49</th><td>tofearguise1c</td><td>Tiebold O'Fearguise</td><td>5/12/1997 </td><td>tofearguise1c@a8.net       </td><td>EU</td><td>86771</td><td>          </td><td>music </td></tr>\n",
              "\t<tr><th scope=row>50</th><td>lherley1d    </td><td>Lorianne Herley    </td><td>11/30/1984</td><td>lherley1d@baidu.com        </td><td>AS</td><td>33535</td><td>8/18/2022 </td><td>travel</td></tr>\n",
              "\t<tr><th scope=row>51</th><td>abalmadier1e </td><td>Abra Balmadier     </td><td>          </td><td>abalmadier1e@1und1.de      </td><td>AF</td><td>30487</td><td>          </td><td>music </td></tr>\n",
              "\t<tr><th scope=row>⋮</th><td>⋮</td><td>⋮</td><td>⋮</td><td>⋮</td><td>⋮</td><td>⋮</td><td>⋮</td><td>⋮</td></tr>\n",
              "\t<tr><th scope=row>1264</th><td>ebroomq9      </td><td>Early Broom         </td><td>3/10/2000 </td><td>ebroomq9@fastcompany.com           </td><td>AF</td><td>98606</td><td>10/22/2023</td><td>sports</td></tr>\n",
              "\t<tr><th scope=row>1265</th><td>ffanthomeqa   </td><td>Fabe Fanthome       </td><td>3/24/1994 </td><td>ffanthomeqa@redcross.org           </td><td>EU</td><td>62888</td><td>6/8/2022  </td><td>travel</td></tr>\n",
              "\t<tr><th scope=row>1266</th><td>jmacaskillqb  </td><td>Jinny MacAskill     </td><td>9/20/2002 </td><td>jmacaskillqb@weebly.com            </td><td>OC</td><td>67895</td><td>11/10/2020</td><td>travel</td></tr>\n",
              "\t<tr><th scope=row>1269</th><td>clabbqe       </td><td>Constantia Labb     </td><td>4/29/1983 </td><td>clabbqe@phpbb.com                  </td><td>AS</td><td>19170</td><td>4/17/2020 </td><td>sports</td></tr>\n",
              "\t<tr><th scope=row>1272</th><td>iavrahmqh     </td><td>Inga Avrahm         </td><td>          </td><td>iavrahmqh@issuu.com                </td><td>EU</td><td>75788</td><td>          </td><td>sports</td></tr>\n",
              "\t<tr><th scope=row>1273</th><td>mmatteaqi     </td><td>Maxy Mattea         </td><td>1/14/1991 </td><td>mmatteaqi@mit.edu                  </td><td>AS</td><td>58766</td><td>12/16/2021</td><td>travel</td></tr>\n",
              "\t<tr><th scope=row>1276</th><td>lbilneyql     </td><td>Lynn Bilney         </td><td>          </td><td>lbilneyql@last.fm                  </td><td>AS</td><td> 4473</td><td>5/12/2022 </td><td>music </td></tr>\n",
              "\t<tr><th scope=row>1277</th><td>hscraceqm     </td><td>Haze Scrace         </td><td>6/11/2001 </td><td>hscraceqm@economist.com            </td><td>AS</td><td>12639</td><td>9/6/2020  </td><td>music </td></tr>\n",
              "\t<tr><th scope=row>1279</th><td>ccuncliffeqo  </td><td>Clotilda Cuncliffe  </td><td>4/12/1984 </td><td>ccuncliffeqo@nhs.uk                </td><td>OC</td><td>79364</td><td>          </td><td>travel</td></tr>\n",
              "\t<tr><th scope=row>1280</th><td>lbyasqp       </td><td>Lothaire Byas       </td><td>1/28/1992 </td><td>lbyasqp@merriam-webster.com        </td><td>SA</td><td>10235</td><td>8/22/2021 </td><td>sports</td></tr>\n",
              "\t<tr><th scope=row>1281</th><td>vpierpointqq  </td><td>Valentin Pierpoint  </td><td>5/16/1998 </td><td>vpierpointqq@networkadvertising.org</td><td>AS</td><td>48776</td><td>          </td><td>music </td></tr>\n",
              "\t<tr><th scope=row>1284</th><td>cvogeleinqt   </td><td>Codi Vogelein       </td><td>1/20/1998 </td><td>cvogeleinqt@stanford.edu           </td><td>EU</td><td>47689</td><td>5/6/2023  </td><td>travel</td></tr>\n",
              "\t<tr><th scope=row>1285</th><td>lblinkhornqu  </td><td>Lolita Blinkhorn    </td><td>6/11/1980 </td><td>lblinkhornqu@hud.gov               </td><td>AS</td><td>64080</td><td>9/23/2023 </td><td>sports</td></tr>\n",
              "\t<tr><th scope=row>1288</th><td>tmacdearmaidqx</td><td>Tamara MacDearmaid  </td><td>          </td><td>tmacdearmaidqx@nymag.com           </td><td>EU</td><td>30665</td><td>          </td><td>music </td></tr>\n",
              "\t<tr><th scope=row>1289</th><td>sargerqy      </td><td>Shane Arger         </td><td>2/21/1992 </td><td>sargerqy@exblog.jp                 </td><td>AF</td><td>53022</td><td>12/7/2021 </td><td>music </td></tr>\n",
              "\t<tr><th scope=row>1291</th><td>bgerwoodr0    </td><td>Beverlee Gerwood    </td><td>1/29/1980 </td><td>bgerwoodr0@fotki.com               </td><td>AS</td><td>22633</td><td>          </td><td>music </td></tr>\n",
              "\t<tr><th scope=row>1295</th><td>ksturdeyr4    </td><td>Krissie Sturdey     </td><td>8/13/1980 </td><td>ksturdeyr4@skyrock.com             </td><td>SA</td><td>37880</td><td>4/17/2020 </td><td>travel</td></tr>\n",
              "\t<tr><th scope=row>1296</th><td>qrogeronr5    </td><td>Quent Rogeron       </td><td>          </td><td>qrogeronr5@merriam-webster.com     </td><td>SA</td><td>76526</td><td>8/22/2023 </td><td>travel</td></tr>\n",
              "\t<tr><th scope=row>1297</th><td>ggerrillr6    </td><td>Genevieve Gerrill   </td><td>8/16/1994 </td><td>ggerrillr6@xrea.com                </td><td>OC</td><td>78326</td><td>4/30/2022 </td><td>sports</td></tr>\n",
              "\t<tr><th scope=row>1300</th><td>rleningr9     </td><td>Roch Lening         </td><td>9/1/1981  </td><td>rleningr9@taobao.com               </td><td>OC</td><td>21333</td><td>2/23/2020 </td><td>music </td></tr>\n",
              "\t<tr><th scope=row>1301</th><td>gbilbeyra     </td><td>Grannie Bilbey      </td><td>6/22/1992 </td><td>gbilbeyra@wisc.edu                 </td><td>AS</td><td>77316</td><td>5/4/2022  </td><td>music </td></tr>\n",
              "\t<tr><th scope=row>1304</th><td>efursserd     </td><td>Ekaterina Fursse    </td><td>7/13/1994 </td><td>efursserd@flickr.com               </td><td>AS</td><td>83588</td><td>          </td><td>travel</td></tr>\n",
              "\t<tr><th scope=row>1305</th><td>acaldicottre  </td><td>Ashlee Caldicott    </td><td>2/2/1996  </td><td>acaldicottre@furl.net              </td><td>OC</td><td>67530</td><td>2/15/2022 </td><td>music </td></tr>\n",
              "\t<tr><th scope=row>1306</th><td>fdorgonrf     </td><td>Fritz Dorgon        </td><td>          </td><td>fdorgonrf@homestead.com            </td><td>AS</td><td>33272</td><td>          </td><td>music </td></tr>\n",
              "\t<tr><th scope=row>1307</th><td>kklicherg     </td><td>Kristine Kliche     </td><td>10/20/1983</td><td>kklicherg@indiatimes.com           </td><td>EU</td><td> 8487</td><td>          </td><td>music </td></tr>\n",
              "\t<tr><th scope=row>1308</th><td>jbirchallrh   </td><td>Jinny Birchall      </td><td>11/3/1987 </td><td>jbirchallrh@senate.gov             </td><td>AF</td><td>76102</td><td>3/4/2022  </td><td>music </td></tr>\n",
              "\t<tr><th scope=row>1309</th><td>lnorwellri    </td><td>Lelia Norwell       </td><td>          </td><td>lnorwellri@slate.com               </td><td>SA</td><td>51920</td><td>1/11/2023 </td><td>travel</td></tr>\n",
              "\t<tr><th scope=row>1312</th><td>hransomrl     </td><td>Helenka Ransom      </td><td>          </td><td>hransomrl@qq.com                   </td><td>EU</td><td>69467</td><td>7/29/2023 </td><td>music </td></tr>\n",
              "\t<tr><th scope=row>1313</th><td>vmacterrellyrm</td><td>Virginie MacTerrelly</td><td>10/8/1994 </td><td>vmacterrellyrm@dailymotion.com     </td><td>AS</td><td>   81</td><td>9/11/2023 </td><td>sports</td></tr>\n",
              "\t<tr><th scope=row>1314</th><td>sschafflerrn  </td><td>Sallyann Schaffler  </td><td>12/7/1999 </td><td>sschafflerrn@wsj.com               </td><td>OC</td><td>89752</td><td>9/20/2020 </td><td>sports</td></tr>\n",
              "</tbody>\n",
              "</table>\n"
            ],
            "text/markdown": "\nA data.frame: 653 × 8\n\n| <!--/--> | username &lt;chr&gt; | full_name &lt;chr&gt; | birthdate &lt;chr&gt; | email &lt;chr&gt; | continent &lt;chr&gt; | followers &lt;int&gt; | last_login &lt;chr&gt; | interests &lt;chr&gt; |\n|---|---|---|---|---|---|---|---|---|\n| 4 | rphettis3     | Ruddy Phettis       | 6/18/1984  | rphettis3@npr.org           | EU | 80047 | 9/20/2023  | travel |\n| 6 | fhampson5     | Farrell Hampson     | 11/7/1985  | fhampson5@lulu.com          | OC | 72161 | <!----> | sports |\n| 7 | ttotman6      | Tamqrah Totman      | 8/7/1986   | ttotman6@elpais.com         | AF | 42669 | 3/10/2023  | music  |\n| 9 | kgrigoryev8   | Krishna Grigoryev   | 5/25/1990  | kgrigoryev8@quantcast.com   | EU | 93923 | 1/30/2023  | travel |\n| 10 | mbathoe9      | Mallissa Bathoe     | <!----> | mbathoe9@bloomberg.com      | AS | 18554 | 3/5/2022   | travel |\n| 11 | hallensona    | Hayward Allenson    | 3/15/1983  | hallensona@wp.com           | AF | 81042 | <!----> | travel |\n| 12 | mchittockb    | Myriam Chittock     | 1/26/1989  | mchittockb@uiuc.edu         | AF | 46304 | 8/29/2023  | sports |\n| 14 | aeasbyd       | Alessandra Easby    | 1/5/1991   | aeasbyd@google.ca           | AF | 16786 | 6/15/2023  | sports |\n| 19 | omarusiki     | Otha Marusik        | 12/4/1992  | omarusiki@cdbaby.com        | AF | 93981 | 2/4/2022   | travel |\n| 21 | sspenclayk    | Scott Spenclay      | 12/7/1989  | sspenclayk@wikispaces.com   | AF | 31745 | 11/29/2022 | sports |\n| 22 | gklinckl      | Georgetta Klinck    | 7/26/1996  | gklinckl@over-blog.com      | SA | 69386 | 9/10/2023  | sports |\n| 23 | rhollowm      | Riccardo Hollow     | 1/18/1980  | rhollowm@dyndns.org         | OC | 73088 | 1/22/2020  | sports |\n| 24 | atrouncen     | Aube Trounce        | 9/5/1984   | atrouncen@shinystat.com     | AS | 51692 | <!----> | music  |\n| 25 | jquareo       | Joey Quare          | 11/19/1999 | jquareo@furl.net            | AF | 68116 | <!----> | sports |\n| 26 | rbellonp      | Rodolph Bellon      | 8/30/2002  | rbellonp@cisco.com          | AF | 96337 | <!----> | music  |\n| 27 | chawesq       | Courtnay Hawes      | <!----> | chawesq@deviantart.com      | AF |   435 | 3/19/2023  | music  |\n| 28 | acheshirr     | Ali Cheshir         | 4/19/1998  | acheshirr@phoca.cz          | AS | 79802 | <!----> | sports |\n| 30 | ddimmockt     | Didi Dimmock        | 5/15/1985  | ddimmockt@wired.com         | EU | 81726 | 4/23/2021  | sports |\n| 31 | fpythonu      | Franz Python        | 4/5/1984   | fpythonu@fastcompany.com    | SA | 28388 | 7/9/2023   | music  |\n| 34 | sledgertonx   | Sheffield Ledgerton | <!----> | sledgertonx@geocities.com   | OC |  1891 | 9/13/2021  | music  |\n| 35 | gwherretty    | Gillan Wherrett     | <!----> | gwherretty@berkeley.edu     | AS | 48390 | <!----> | sports |\n| 36 | amcclellandz  | Annabela McClelland | 8/12/1983  | amcclellandz@soundcloud.com | AF | 51483 | 5/3/2020   | sports |\n| 38 | kpietzker11   | Keane Pietzker      | 11/26/1996 | kpietzker11@tumblr.com      | AS | 96249 | 8/7/2023   | music  |\n| 39 | olandreth12   | Orsa Landreth       | 1/10/2000  | olandreth12@oaic.gov.au     | SA | 21065 | 9/2/2020   | music  |\n| 41 | clettice14    | Cosette Lettice     | 12/23/1981 | clettice14@cmu.edu          | AS | 58637 | 12/7/2021  | travel |\n| 46 | lcordobes19   | Leigha Cordobes     | <!----> | lcordobes19@phpbb.com       | EU | 32458 | 12/15/2020 | music  |\n| 48 | bgribbon1b    | Bennie Gribbon      | 11/12/1984 | bgribbon1b@dailymail.co.uk  | AS |  8772 | 11/21/2021 | music  |\n| 49 | tofearguise1c | Tiebold O'Fearguise | 5/12/1997  | tofearguise1c@a8.net        | EU | 86771 | <!----> | music  |\n| 50 | lherley1d     | Lorianne Herley     | 11/30/1984 | lherley1d@baidu.com         | AS | 33535 | 8/18/2022  | travel |\n| 51 | abalmadier1e  | Abra Balmadier      | <!----> | abalmadier1e@1und1.de       | AF | 30487 | <!----> | music  |\n| ⋮ | ⋮ | ⋮ | ⋮ | ⋮ | ⋮ | ⋮ | ⋮ | ⋮ |\n| 1264 | ebroomq9       | Early Broom          | 3/10/2000  | ebroomq9@fastcompany.com            | AF | 98606 | 10/22/2023 | sports |\n| 1265 | ffanthomeqa    | Fabe Fanthome        | 3/24/1994  | ffanthomeqa@redcross.org            | EU | 62888 | 6/8/2022   | travel |\n| 1266 | jmacaskillqb   | Jinny MacAskill      | 9/20/2002  | jmacaskillqb@weebly.com             | OC | 67895 | 11/10/2020 | travel |\n| 1269 | clabbqe        | Constantia Labb      | 4/29/1983  | clabbqe@phpbb.com                   | AS | 19170 | 4/17/2020  | sports |\n| 1272 | iavrahmqh      | Inga Avrahm          | <!----> | iavrahmqh@issuu.com                 | EU | 75788 | <!----> | sports |\n| 1273 | mmatteaqi      | Maxy Mattea          | 1/14/1991  | mmatteaqi@mit.edu                   | AS | 58766 | 12/16/2021 | travel |\n| 1276 | lbilneyql      | Lynn Bilney          | <!----> | lbilneyql@last.fm                   | AS |  4473 | 5/12/2022  | music  |\n| 1277 | hscraceqm      | Haze Scrace          | 6/11/2001  | hscraceqm@economist.com             | AS | 12639 | 9/6/2020   | music  |\n| 1279 | ccuncliffeqo   | Clotilda Cuncliffe   | 4/12/1984  | ccuncliffeqo@nhs.uk                 | OC | 79364 | <!----> | travel |\n| 1280 | lbyasqp        | Lothaire Byas        | 1/28/1992  | lbyasqp@merriam-webster.com         | SA | 10235 | 8/22/2021  | sports |\n| 1281 | vpierpointqq   | Valentin Pierpoint   | 5/16/1998  | vpierpointqq@networkadvertising.org | AS | 48776 | <!----> | music  |\n| 1284 | cvogeleinqt    | Codi Vogelein        | 1/20/1998  | cvogeleinqt@stanford.edu            | EU | 47689 | 5/6/2023   | travel |\n| 1285 | lblinkhornqu   | Lolita Blinkhorn     | 6/11/1980  | lblinkhornqu@hud.gov                | AS | 64080 | 9/23/2023  | sports |\n| 1288 | tmacdearmaidqx | Tamara MacDearmaid   | <!----> | tmacdearmaidqx@nymag.com            | EU | 30665 | <!----> | music  |\n| 1289 | sargerqy       | Shane Arger          | 2/21/1992  | sargerqy@exblog.jp                  | AF | 53022 | 12/7/2021  | music  |\n| 1291 | bgerwoodr0     | Beverlee Gerwood     | 1/29/1980  | bgerwoodr0@fotki.com                | AS | 22633 | <!----> | music  |\n| 1295 | ksturdeyr4     | Krissie Sturdey      | 8/13/1980  | ksturdeyr4@skyrock.com              | SA | 37880 | 4/17/2020  | travel |\n| 1296 | qrogeronr5     | Quent Rogeron        | <!----> | qrogeronr5@merriam-webster.com      | SA | 76526 | 8/22/2023  | travel |\n| 1297 | ggerrillr6     | Genevieve Gerrill    | 8/16/1994  | ggerrillr6@xrea.com                 | OC | 78326 | 4/30/2022  | sports |\n| 1300 | rleningr9      | Roch Lening          | 9/1/1981   | rleningr9@taobao.com                | OC | 21333 | 2/23/2020  | music  |\n| 1301 | gbilbeyra      | Grannie Bilbey       | 6/22/1992  | gbilbeyra@wisc.edu                  | AS | 77316 | 5/4/2022   | music  |\n| 1304 | efursserd      | Ekaterina Fursse     | 7/13/1994  | efursserd@flickr.com                | AS | 83588 | <!----> | travel |\n| 1305 | acaldicottre   | Ashlee Caldicott     | 2/2/1996   | acaldicottre@furl.net               | OC | 67530 | 2/15/2022  | music  |\n| 1306 | fdorgonrf      | Fritz Dorgon         | <!----> | fdorgonrf@homestead.com             | AS | 33272 | <!----> | music  |\n| 1307 | kklicherg      | Kristine Kliche      | 10/20/1983 | kklicherg@indiatimes.com            | EU |  8487 | <!----> | music  |\n| 1308 | jbirchallrh    | Jinny Birchall       | 11/3/1987  | jbirchallrh@senate.gov              | AF | 76102 | 3/4/2022   | music  |\n| 1309 | lnorwellri     | Lelia Norwell        | <!----> | lnorwellri@slate.com                | SA | 51920 | 1/11/2023  | travel |\n| 1312 | hransomrl      | Helenka Ransom       | <!----> | hransomrl@qq.com                    | EU | 69467 | 7/29/2023  | music  |\n| 1313 | vmacterrellyrm | Virginie MacTerrelly | 10/8/1994  | vmacterrellyrm@dailymotion.com      | AS |    81 | 9/11/2023  | sports |\n| 1314 | sschafflerrn   | Sallyann Schaffler   | 12/7/1999  | sschafflerrn@wsj.com                | OC | 89752 | 9/20/2020  | sports |\n\n",
            "text/latex": "A data.frame: 653 × 8\n\\begin{tabular}{r|llllllll}\n  & username & full\\_name & birthdate & email & continent & followers & last\\_login & interests\\\\\n  & <chr> & <chr> & <chr> & <chr> & <chr> & <int> & <chr> & <chr>\\\\\n\\hline\n\t4 & rphettis3     & Ruddy Phettis       & 6/18/1984  & rphettis3@npr.org           & EU & 80047 & 9/20/2023  & travel\\\\\n\t6 & fhampson5     & Farrell Hampson     & 11/7/1985  & fhampson5@lulu.com          & OC & 72161 &            & sports\\\\\n\t7 & ttotman6      & Tamqrah Totman      & 8/7/1986   & ttotman6@elpais.com         & AF & 42669 & 3/10/2023  & music \\\\\n\t9 & kgrigoryev8   & Krishna Grigoryev   & 5/25/1990  & kgrigoryev8@quantcast.com   & EU & 93923 & 1/30/2023  & travel\\\\\n\t10 & mbathoe9      & Mallissa Bathoe     &            & mbathoe9@bloomberg.com      & AS & 18554 & 3/5/2022   & travel\\\\\n\t11 & hallensona    & Hayward Allenson    & 3/15/1983  & hallensona@wp.com           & AF & 81042 &            & travel\\\\\n\t12 & mchittockb    & Myriam Chittock     & 1/26/1989  & mchittockb@uiuc.edu         & AF & 46304 & 8/29/2023  & sports\\\\\n\t14 & aeasbyd       & Alessandra Easby    & 1/5/1991   & aeasbyd@google.ca           & AF & 16786 & 6/15/2023  & sports\\\\\n\t19 & omarusiki     & Otha Marusik        & 12/4/1992  & omarusiki@cdbaby.com        & AF & 93981 & 2/4/2022   & travel\\\\\n\t21 & sspenclayk    & Scott Spenclay      & 12/7/1989  & sspenclayk@wikispaces.com   & AF & 31745 & 11/29/2022 & sports\\\\\n\t22 & gklinckl      & Georgetta Klinck    & 7/26/1996  & gklinckl@over-blog.com      & SA & 69386 & 9/10/2023  & sports\\\\\n\t23 & rhollowm      & Riccardo Hollow     & 1/18/1980  & rhollowm@dyndns.org         & OC & 73088 & 1/22/2020  & sports\\\\\n\t24 & atrouncen     & Aube Trounce        & 9/5/1984   & atrouncen@shinystat.com     & AS & 51692 &            & music \\\\\n\t25 & jquareo       & Joey Quare          & 11/19/1999 & jquareo@furl.net            & AF & 68116 &            & sports\\\\\n\t26 & rbellonp      & Rodolph Bellon      & 8/30/2002  & rbellonp@cisco.com          & AF & 96337 &            & music \\\\\n\t27 & chawesq       & Courtnay Hawes      &            & chawesq@deviantart.com      & AF &   435 & 3/19/2023  & music \\\\\n\t28 & acheshirr     & Ali Cheshir         & 4/19/1998  & acheshirr@phoca.cz          & AS & 79802 &            & sports\\\\\n\t30 & ddimmockt     & Didi Dimmock        & 5/15/1985  & ddimmockt@wired.com         & EU & 81726 & 4/23/2021  & sports\\\\\n\t31 & fpythonu      & Franz Python        & 4/5/1984   & fpythonu@fastcompany.com    & SA & 28388 & 7/9/2023   & music \\\\\n\t34 & sledgertonx   & Sheffield Ledgerton &            & sledgertonx@geocities.com   & OC &  1891 & 9/13/2021  & music \\\\\n\t35 & gwherretty    & Gillan Wherrett     &            & gwherretty@berkeley.edu     & AS & 48390 &            & sports\\\\\n\t36 & amcclellandz  & Annabela McClelland & 8/12/1983  & amcclellandz@soundcloud.com & AF & 51483 & 5/3/2020   & sports\\\\\n\t38 & kpietzker11   & Keane Pietzker      & 11/26/1996 & kpietzker11@tumblr.com      & AS & 96249 & 8/7/2023   & music \\\\\n\t39 & olandreth12   & Orsa Landreth       & 1/10/2000  & olandreth12@oaic.gov.au     & SA & 21065 & 9/2/2020   & music \\\\\n\t41 & clettice14    & Cosette Lettice     & 12/23/1981 & clettice14@cmu.edu          & AS & 58637 & 12/7/2021  & travel\\\\\n\t46 & lcordobes19   & Leigha Cordobes     &            & lcordobes19@phpbb.com       & EU & 32458 & 12/15/2020 & music \\\\\n\t48 & bgribbon1b    & Bennie Gribbon      & 11/12/1984 & bgribbon1b@dailymail.co.uk  & AS &  8772 & 11/21/2021 & music \\\\\n\t49 & tofearguise1c & Tiebold O'Fearguise & 5/12/1997  & tofearguise1c@a8.net        & EU & 86771 &            & music \\\\\n\t50 & lherley1d     & Lorianne Herley     & 11/30/1984 & lherley1d@baidu.com         & AS & 33535 & 8/18/2022  & travel\\\\\n\t51 & abalmadier1e  & Abra Balmadier      &            & abalmadier1e@1und1.de       & AF & 30487 &            & music \\\\\n\t⋮ & ⋮ & ⋮ & ⋮ & ⋮ & ⋮ & ⋮ & ⋮ & ⋮\\\\\n\t1264 & ebroomq9       & Early Broom          & 3/10/2000  & ebroomq9@fastcompany.com            & AF & 98606 & 10/22/2023 & sports\\\\\n\t1265 & ffanthomeqa    & Fabe Fanthome        & 3/24/1994  & ffanthomeqa@redcross.org            & EU & 62888 & 6/8/2022   & travel\\\\\n\t1266 & jmacaskillqb   & Jinny MacAskill      & 9/20/2002  & jmacaskillqb@weebly.com             & OC & 67895 & 11/10/2020 & travel\\\\\n\t1269 & clabbqe        & Constantia Labb      & 4/29/1983  & clabbqe@phpbb.com                   & AS & 19170 & 4/17/2020  & sports\\\\\n\t1272 & iavrahmqh      & Inga Avrahm          &            & iavrahmqh@issuu.com                 & EU & 75788 &            & sports\\\\\n\t1273 & mmatteaqi      & Maxy Mattea          & 1/14/1991  & mmatteaqi@mit.edu                   & AS & 58766 & 12/16/2021 & travel\\\\\n\t1276 & lbilneyql      & Lynn Bilney          &            & lbilneyql@last.fm                   & AS &  4473 & 5/12/2022  & music \\\\\n\t1277 & hscraceqm      & Haze Scrace          & 6/11/2001  & hscraceqm@economist.com             & AS & 12639 & 9/6/2020   & music \\\\\n\t1279 & ccuncliffeqo   & Clotilda Cuncliffe   & 4/12/1984  & ccuncliffeqo@nhs.uk                 & OC & 79364 &            & travel\\\\\n\t1280 & lbyasqp        & Lothaire Byas        & 1/28/1992  & lbyasqp@merriam-webster.com         & SA & 10235 & 8/22/2021  & sports\\\\\n\t1281 & vpierpointqq   & Valentin Pierpoint   & 5/16/1998  & vpierpointqq@networkadvertising.org & AS & 48776 &            & music \\\\\n\t1284 & cvogeleinqt    & Codi Vogelein        & 1/20/1998  & cvogeleinqt@stanford.edu            & EU & 47689 & 5/6/2023   & travel\\\\\n\t1285 & lblinkhornqu   & Lolita Blinkhorn     & 6/11/1980  & lblinkhornqu@hud.gov                & AS & 64080 & 9/23/2023  & sports\\\\\n\t1288 & tmacdearmaidqx & Tamara MacDearmaid   &            & tmacdearmaidqx@nymag.com            & EU & 30665 &            & music \\\\\n\t1289 & sargerqy       & Shane Arger          & 2/21/1992  & sargerqy@exblog.jp                  & AF & 53022 & 12/7/2021  & music \\\\\n\t1291 & bgerwoodr0     & Beverlee Gerwood     & 1/29/1980  & bgerwoodr0@fotki.com                & AS & 22633 &            & music \\\\\n\t1295 & ksturdeyr4     & Krissie Sturdey      & 8/13/1980  & ksturdeyr4@skyrock.com              & SA & 37880 & 4/17/2020  & travel\\\\\n\t1296 & qrogeronr5     & Quent Rogeron        &            & qrogeronr5@merriam-webster.com      & SA & 76526 & 8/22/2023  & travel\\\\\n\t1297 & ggerrillr6     & Genevieve Gerrill    & 8/16/1994  & ggerrillr6@xrea.com                 & OC & 78326 & 4/30/2022  & sports\\\\\n\t1300 & rleningr9      & Roch Lening          & 9/1/1981   & rleningr9@taobao.com                & OC & 21333 & 2/23/2020  & music \\\\\n\t1301 & gbilbeyra      & Grannie Bilbey       & 6/22/1992  & gbilbeyra@wisc.edu                  & AS & 77316 & 5/4/2022   & music \\\\\n\t1304 & efursserd      & Ekaterina Fursse     & 7/13/1994  & efursserd@flickr.com                & AS & 83588 &            & travel\\\\\n\t1305 & acaldicottre   & Ashlee Caldicott     & 2/2/1996   & acaldicottre@furl.net               & OC & 67530 & 2/15/2022  & music \\\\\n\t1306 & fdorgonrf      & Fritz Dorgon         &            & fdorgonrf@homestead.com             & AS & 33272 &            & music \\\\\n\t1307 & kklicherg      & Kristine Kliche      & 10/20/1983 & kklicherg@indiatimes.com            & EU &  8487 &            & music \\\\\n\t1308 & jbirchallrh    & Jinny Birchall       & 11/3/1987  & jbirchallrh@senate.gov              & AF & 76102 & 3/4/2022   & music \\\\\n\t1309 & lnorwellri     & Lelia Norwell        &            & lnorwellri@slate.com                & SA & 51920 & 1/11/2023  & travel\\\\\n\t1312 & hransomrl      & Helenka Ransom       &            & hransomrl@qq.com                    & EU & 69467 & 7/29/2023  & music \\\\\n\t1313 & vmacterrellyrm & Virginie MacTerrelly & 10/8/1994  & vmacterrellyrm@dailymotion.com      & AS &    81 & 9/11/2023  & sports\\\\\n\t1314 & sschafflerrn   & Sallyann Schaffler   & 12/7/1999  & sschafflerrn@wsj.com                & OC & 89752 & 9/20/2020  & sports\\\\\n\\end{tabular}\n",
            "text/plain": [
              "     username       full_name            birthdate \n",
              "4    rphettis3      Ruddy Phettis        6/18/1984 \n",
              "6    fhampson5      Farrell Hampson      11/7/1985 \n",
              "7    ttotman6       Tamqrah Totman       8/7/1986  \n",
              "9    kgrigoryev8    Krishna Grigoryev    5/25/1990 \n",
              "10   mbathoe9       Mallissa Bathoe                \n",
              "11   hallensona     Hayward Allenson     3/15/1983 \n",
              "12   mchittockb     Myriam Chittock      1/26/1989 \n",
              "14   aeasbyd        Alessandra Easby     1/5/1991  \n",
              "19   omarusiki      Otha Marusik         12/4/1992 \n",
              "21   sspenclayk     Scott Spenclay       12/7/1989 \n",
              "22   gklinckl       Georgetta Klinck     7/26/1996 \n",
              "23   rhollowm       Riccardo Hollow      1/18/1980 \n",
              "24   atrouncen      Aube Trounce         9/5/1984  \n",
              "25   jquareo        Joey Quare           11/19/1999\n",
              "26   rbellonp       Rodolph Bellon       8/30/2002 \n",
              "27   chawesq        Courtnay Hawes                 \n",
              "28   acheshirr      Ali Cheshir          4/19/1998 \n",
              "30   ddimmockt      Didi Dimmock         5/15/1985 \n",
              "31   fpythonu       Franz Python         4/5/1984  \n",
              "34   sledgertonx    Sheffield Ledgerton            \n",
              "35   gwherretty     Gillan Wherrett                \n",
              "36   amcclellandz   Annabela McClelland  8/12/1983 \n",
              "38   kpietzker11    Keane Pietzker       11/26/1996\n",
              "39   olandreth12    Orsa Landreth        1/10/2000 \n",
              "41   clettice14     Cosette Lettice      12/23/1981\n",
              "46   lcordobes19    Leigha Cordobes                \n",
              "48   bgribbon1b     Bennie Gribbon       11/12/1984\n",
              "49   tofearguise1c  Tiebold O'Fearguise  5/12/1997 \n",
              "50   lherley1d      Lorianne Herley      11/30/1984\n",
              "51   abalmadier1e   Abra Balmadier                 \n",
              "⋮    ⋮              ⋮                    ⋮         \n",
              "1264 ebroomq9       Early Broom          3/10/2000 \n",
              "1265 ffanthomeqa    Fabe Fanthome        3/24/1994 \n",
              "1266 jmacaskillqb   Jinny MacAskill      9/20/2002 \n",
              "1269 clabbqe        Constantia Labb      4/29/1983 \n",
              "1272 iavrahmqh      Inga Avrahm                    \n",
              "1273 mmatteaqi      Maxy Mattea          1/14/1991 \n",
              "1276 lbilneyql      Lynn Bilney                    \n",
              "1277 hscraceqm      Haze Scrace          6/11/2001 \n",
              "1279 ccuncliffeqo   Clotilda Cuncliffe   4/12/1984 \n",
              "1280 lbyasqp        Lothaire Byas        1/28/1992 \n",
              "1281 vpierpointqq   Valentin Pierpoint   5/16/1998 \n",
              "1284 cvogeleinqt    Codi Vogelein        1/20/1998 \n",
              "1285 lblinkhornqu   Lolita Blinkhorn     6/11/1980 \n",
              "1288 tmacdearmaidqx Tamara MacDearmaid             \n",
              "1289 sargerqy       Shane Arger          2/21/1992 \n",
              "1291 bgerwoodr0     Beverlee Gerwood     1/29/1980 \n",
              "1295 ksturdeyr4     Krissie Sturdey      8/13/1980 \n",
              "1296 qrogeronr5     Quent Rogeron                  \n",
              "1297 ggerrillr6     Genevieve Gerrill    8/16/1994 \n",
              "1300 rleningr9      Roch Lening          9/1/1981  \n",
              "1301 gbilbeyra      Grannie Bilbey       6/22/1992 \n",
              "1304 efursserd      Ekaterina Fursse     7/13/1994 \n",
              "1305 acaldicottre   Ashlee Caldicott     2/2/1996  \n",
              "1306 fdorgonrf      Fritz Dorgon                   \n",
              "1307 kklicherg      Kristine Kliche      10/20/1983\n",
              "1308 jbirchallrh    Jinny Birchall       11/3/1987 \n",
              "1309 lnorwellri     Lelia Norwell                  \n",
              "1312 hransomrl      Helenka Ransom                 \n",
              "1313 vmacterrellyrm Virginie MacTerrelly 10/8/1994 \n",
              "1314 sschafflerrn   Sallyann Schaffler   12/7/1999 \n",
              "     email                               continent followers last_login\n",
              "4    rphettis3@npr.org                   EU        80047     9/20/2023 \n",
              "6    fhampson5@lulu.com                  OC        72161               \n",
              "7    ttotman6@elpais.com                 AF        42669     3/10/2023 \n",
              "9    kgrigoryev8@quantcast.com           EU        93923     1/30/2023 \n",
              "10   mbathoe9@bloomberg.com              AS        18554     3/5/2022  \n",
              "11   hallensona@wp.com                   AF        81042               \n",
              "12   mchittockb@uiuc.edu                 AF        46304     8/29/2023 \n",
              "14   aeasbyd@google.ca                   AF        16786     6/15/2023 \n",
              "19   omarusiki@cdbaby.com                AF        93981     2/4/2022  \n",
              "21   sspenclayk@wikispaces.com           AF        31745     11/29/2022\n",
              "22   gklinckl@over-blog.com              SA        69386     9/10/2023 \n",
              "23   rhollowm@dyndns.org                 OC        73088     1/22/2020 \n",
              "24   atrouncen@shinystat.com             AS        51692               \n",
              "25   jquareo@furl.net                    AF        68116               \n",
              "26   rbellonp@cisco.com                  AF        96337               \n",
              "27   chawesq@deviantart.com              AF          435     3/19/2023 \n",
              "28   acheshirr@phoca.cz                  AS        79802               \n",
              "30   ddimmockt@wired.com                 EU        81726     4/23/2021 \n",
              "31   fpythonu@fastcompany.com            SA        28388     7/9/2023  \n",
              "34   sledgertonx@geocities.com           OC         1891     9/13/2021 \n",
              "35   gwherretty@berkeley.edu             AS        48390               \n",
              "36   amcclellandz@soundcloud.com         AF        51483     5/3/2020  \n",
              "38   kpietzker11@tumblr.com              AS        96249     8/7/2023  \n",
              "39   olandreth12@oaic.gov.au             SA        21065     9/2/2020  \n",
              "41   clettice14@cmu.edu                  AS        58637     12/7/2021 \n",
              "46   lcordobes19@phpbb.com               EU        32458     12/15/2020\n",
              "48   bgribbon1b@dailymail.co.uk          AS         8772     11/21/2021\n",
              "49   tofearguise1c@a8.net                EU        86771               \n",
              "50   lherley1d@baidu.com                 AS        33535     8/18/2022 \n",
              "51   abalmadier1e@1und1.de               AF        30487               \n",
              "⋮    ⋮                                   ⋮         ⋮         ⋮         \n",
              "1264 ebroomq9@fastcompany.com            AF        98606     10/22/2023\n",
              "1265 ffanthomeqa@redcross.org            EU        62888     6/8/2022  \n",
              "1266 jmacaskillqb@weebly.com             OC        67895     11/10/2020\n",
              "1269 clabbqe@phpbb.com                   AS        19170     4/17/2020 \n",
              "1272 iavrahmqh@issuu.com                 EU        75788               \n",
              "1273 mmatteaqi@mit.edu                   AS        58766     12/16/2021\n",
              "1276 lbilneyql@last.fm                   AS         4473     5/12/2022 \n",
              "1277 hscraceqm@economist.com             AS        12639     9/6/2020  \n",
              "1279 ccuncliffeqo@nhs.uk                 OC        79364               \n",
              "1280 lbyasqp@merriam-webster.com         SA        10235     8/22/2021 \n",
              "1281 vpierpointqq@networkadvertising.org AS        48776               \n",
              "1284 cvogeleinqt@stanford.edu            EU        47689     5/6/2023  \n",
              "1285 lblinkhornqu@hud.gov                AS        64080     9/23/2023 \n",
              "1288 tmacdearmaidqx@nymag.com            EU        30665               \n",
              "1289 sargerqy@exblog.jp                  AF        53022     12/7/2021 \n",
              "1291 bgerwoodr0@fotki.com                AS        22633               \n",
              "1295 ksturdeyr4@skyrock.com              SA        37880     4/17/2020 \n",
              "1296 qrogeronr5@merriam-webster.com      SA        76526     8/22/2023 \n",
              "1297 ggerrillr6@xrea.com                 OC        78326     4/30/2022 \n",
              "1300 rleningr9@taobao.com                OC        21333     2/23/2020 \n",
              "1301 gbilbeyra@wisc.edu                  AS        77316     5/4/2022  \n",
              "1304 efursserd@flickr.com                AS        83588               \n",
              "1305 acaldicottre@furl.net               OC        67530     2/15/2022 \n",
              "1306 fdorgonrf@homestead.com             AS        33272               \n",
              "1307 kklicherg@indiatimes.com            EU         8487               \n",
              "1308 jbirchallrh@senate.gov              AF        76102     3/4/2022  \n",
              "1309 lnorwellri@slate.com                SA        51920     1/11/2023 \n",
              "1312 hransomrl@qq.com                    EU        69467     7/29/2023 \n",
              "1313 vmacterrellyrm@dailymotion.com      AS           81     9/11/2023 \n",
              "1314 sschafflerrn@wsj.com                OC        89752     9/20/2020 \n",
              "     interests\n",
              "4    travel   \n",
              "6    sports   \n",
              "7    music    \n",
              "9    travel   \n",
              "10   travel   \n",
              "11   travel   \n",
              "12   sports   \n",
              "14   sports   \n",
              "19   travel   \n",
              "21   sports   \n",
              "22   sports   \n",
              "23   sports   \n",
              "24   music    \n",
              "25   sports   \n",
              "26   music    \n",
              "27   music    \n",
              "28   sports   \n",
              "30   sports   \n",
              "31   music    \n",
              "34   music    \n",
              "35   sports   \n",
              "36   sports   \n",
              "38   music    \n",
              "39   music    \n",
              "41   travel   \n",
              "46   music    \n",
              "48   music    \n",
              "49   music    \n",
              "50   travel   \n",
              "51   music    \n",
              "⋮    ⋮        \n",
              "1264 sports   \n",
              "1265 travel   \n",
              "1266 travel   \n",
              "1269 sports   \n",
              "1272 sports   \n",
              "1273 travel   \n",
              "1276 music    \n",
              "1277 music    \n",
              "1279 travel   \n",
              "1280 sports   \n",
              "1281 music    \n",
              "1284 travel   \n",
              "1285 sports   \n",
              "1288 music    \n",
              "1289 music    \n",
              "1291 music    \n",
              "1295 travel   \n",
              "1296 travel   \n",
              "1297 sports   \n",
              "1300 music    \n",
              "1301 music    \n",
              "1304 travel   \n",
              "1305 music    \n",
              "1306 music    \n",
              "1307 music    \n",
              "1308 music    \n",
              "1309 travel   \n",
              "1312 music    \n",
              "1313 sports   \n",
              "1314 sports   "
            ]
          },
          "metadata": {}
        }
      ]
    },
    {
      "cell_type": "code",
      "source": [
        "#\n",
        "order(df1$follower,decreasing = TRUE)\n",
        "\n"
      ],
      "metadata": {
        "id": "7qa100btlI4Z",
        "outputId": "8cf35071-4d34-42d0-8695-f6398121621a",
        "colab": {
          "base_uri": "https://localhost:8080/",
          "height": 208
        }
      },
      "execution_count": 59,
      "outputs": [
        {
          "output_type": "display_data",
          "data": {
            "text/html": [
              "<style>\n",
              ".list-inline {list-style: none; margin:0; padding: 0}\n",
              ".list-inline>li {display: inline-block}\n",
              ".list-inline>li:not(:last-child)::after {content: \"\\00b7\"; padding: 0 .5ex}\n",
              "</style>\n",
              "<ol class=list-inline><li>258</li><li>481</li><li>323</li><li>326</li><li>164</li><li>536</li><li>421</li><li>176</li><li>624</li><li>140</li><li>105</li><li>609</li><li>618</li><li>329</li><li>539</li><li>510</li><li>235</li><li>277</li><li>508</li><li>419</li><li>404</li><li>337</li><li>141</li><li>91</li><li>110</li><li>182</li><li>15</li><li>107</li><li>23</li><li>499</li><li>301</li><li>591</li><li>130</li><li>151</li><li>167</li><li>166</li><li>192</li><li>215</li><li>537</li><li>138</li><li>572</li><li>9</li><li>408</li><li>504</li><li>4</li><li>542</li><li>242</li><li>196</li><li>322</li><li>165</li><li>314</li><li>43</li><li>464</li><li>559</li><li>516</li><li>113</li><li>132</li><li>136</li><li>362</li><li>400</li><li>653</li><li>207</li><li>411</li><li>79</li><li>101</li><li>494</li><li>162</li><li>223</li><li>441</li><li>137</li><li>272</li><li>402</li><li>487</li><li>611</li><li>321</li><li>231</li><li>28</li><li>604</li><li>485</li><li>183</li><li>557</li><li>281</li><li>589</li><li>472</li><li>500</li><li>154</li><li>143</li><li>302</li><li>398</li><li>465</li><li>522</li><li>544</li><li>449</li><li>128</li><li>427</li><li>548</li><li>332</li><li>426</li><li>645</li><li>60</li><li>84</li><li>582</li><li>595</li><li>386</li><li>373</li><li>300</li><li>62</li><li>18</li><li>436</li><li>462</li><li>226</li><li>55</li><li>6</li><li>405</li><li>77</li><li>324</li><li>580</li><li>415</li><li>399</li><li>221</li><li>1</li><li>422</li><li>103</li><li>450</li><li>17</li><li>570</li><li>560</li><li>229</li><li>632</li><li>239</li><li>380</li><li>353</li><li>247</li><li>199</li><li>133</li><li>243</li><li>38</li><li>642</li><li>325</li><li>306</li><li>602</li><li>275</li><li>193</li><li>135</li><li>644</li><li>134</li><li>331</li><li>641</li><li>299</li><li>471</li><li>649</li><li>392</li><li>530</li><li>512</li><li>576</li><li>628</li><li>265</li><li>251</li><li>292</li><li>152</li><li>391</li><li>608</li><li>267</li><li>122</li><li>252</li><li>206</li><li>213</li><li>437</li><li>178</li><li>513</li><li>346</li><li>621</li><li>89</li><li>12</li><li>203</li><li>118</li><li>264</li><li>187</li><li>467</li><li>2</li><li>227</li><li>109</li><li>92</li><li>303</li><li>413</li><li>352</li><li>546</li><li>157</li><li>407</li><li>502</li><li>278</li><li>379</li><li>42</li><li>367</li><li>31</li><li>163</li><li>651</li><li>145</li><li>11</li><li>439</li><li>⋯</li><li>458</li><li>202</li><li>263</li><li>637</li><li>57</li><li>423</li><li>578</li><li>30</li><li>606</li><li>567</li><li>417</li><li>274</li><li>620</li><li>96</li><li>148</li><li>246</li><li>160</li><li>347</li><li>444</li><li>574</li><li>313</li><li>394</li><li>588</li><li>171</li><li>121</li><li>361</li><li>19</li><li>474</li><li>515</li><li>587</li><li>547</li><li>100</li><li>39</li><li>459</li><li>479</li><li>442</li><li>144</li><li>180</li><li>414</li><li>396</li><li>294</li><li>304</li><li>327</li><li>311</li><li>237</li><li>605</li><li>420</li><li>434</li><li>562</li><li>68</li><li>503</li><li>228</li><li>345</li><li>209</li><li>112</li><li>388</li><li>87</li><li>639</li><li>491</li><li>201</li><li>219</li><li>543</li><li>368</li><li>217</li><li>354</li><li>623</li><li>643</li><li>431</li><li>186</li><li>24</li><li>95</li><li>189</li><li>241</li><li>593</li><li>355</li><li>627</li><li>461</li><li>245</li><li>5</li><li>440</li><li>540</li><li>343</li><li>493</li><li>446</li><li>44</li><li>8</li><li>37</li><li>586</li><li>56</li><li>478</li><li>291</li><li>64</li><li>387</li><li>475</li><li>469</li><li>357</li><li>535</li><li>463</li><li>210</li><li>384</li><li>88</li><li>597</li><li>425</li><li>409</li><li>451</li><li>297</li><li>236</li><li>448</li><li>363</li><li>232</li><li>262</li><li>584</li><li>631</li><li>424</li><li>99</li><li>334</li><li>234</li><li>477</li><li>90</li><li>184</li><li>190</li><li>179</li><li>240</li><li>249</li><li>351</li><li>114</li><li>579</li><li>558</li><li>358</li><li>633</li><li>85</li><li>456</li><li>339</li><li>488</li><li>111</li><li>102</li><li>48</li><li>175</li><li>566</li><li>395</li><li>125</li><li>27</li><li>583</li><li>648</li><li>284</li><li>613</li><li>49</li><li>550</li><li>147</li><li>104</li><li>191</li><li>185</li><li>271</li><li>577</li><li>495</li><li>312</li><li>486</li><li>238</li><li>290</li><li>218</li><li>194</li><li>108</li><li>342</li><li>69</li><li>174</li><li>581</li><li>261</li><li>54</li><li>523</li><li>630</li><li>612</li><li>382</li><li>216</li><li>443</li><li>283</li><li>610</li><li>224</li><li>129</li><li>256</li><li>433</li><li>598</li><li>564</li><li>545</li><li>509</li><li>41</li><li>94</li><li>58</li><li>349</li><li>159</li><li>20</li><li>298</li><li>285</li><li>369</li><li>393</li><li>197</li><li>16</li><li>406</li><li>538</li><li>336</li><li>652</li></ol>\n"
            ],
            "text/markdown": "1. 258\n2. 481\n3. 323\n4. 326\n5. 164\n6. 536\n7. 421\n8. 176\n9. 624\n10. 140\n11. 105\n12. 609\n13. 618\n14. 329\n15. 539\n16. 510\n17. 235\n18. 277\n19. 508\n20. 419\n21. 404\n22. 337\n23. 141\n24. 91\n25. 110\n26. 182\n27. 15\n28. 107\n29. 23\n30. 499\n31. 301\n32. 591\n33. 130\n34. 151\n35. 167\n36. 166\n37. 192\n38. 215\n39. 537\n40. 138\n41. 572\n42. 9\n43. 408\n44. 504\n45. 4\n46. 542\n47. 242\n48. 196\n49. 322\n50. 165\n51. 314\n52. 43\n53. 464\n54. 559\n55. 516\n56. 113\n57. 132\n58. 136\n59. 362\n60. 400\n61. 653\n62. 207\n63. 411\n64. 79\n65. 101\n66. 494\n67. 162\n68. 223\n69. 441\n70. 137\n71. 272\n72. 402\n73. 487\n74. 611\n75. 321\n76. 231\n77. 28\n78. 604\n79. 485\n80. 183\n81. 557\n82. 281\n83. 589\n84. 472\n85. 500\n86. 154\n87. 143\n88. 302\n89. 398\n90. 465\n91. 522\n92. 544\n93. 449\n94. 128\n95. 427\n96. 548\n97. 332\n98. 426\n99. 645\n100. 60\n101. 84\n102. 582\n103. 595\n104. 386\n105. 373\n106. 300\n107. 62\n108. 18\n109. 436\n110. 462\n111. 226\n112. 55\n113. 6\n114. 405\n115. 77\n116. 324\n117. 580\n118. 415\n119. 399\n120. 221\n121. 1\n122. 422\n123. 103\n124. 450\n125. 17\n126. 570\n127. 560\n128. 229\n129. 632\n130. 239\n131. 380\n132. 353\n133. 247\n134. 199\n135. 133\n136. 243\n137. 38\n138. 642\n139. 325\n140. 306\n141. 602\n142. 275\n143. 193\n144. 135\n145. 644\n146. 134\n147. 331\n148. 641\n149. 299\n150. 471\n151. 649\n152. 392\n153. 530\n154. 512\n155. 576\n156. 628\n157. 265\n158. 251\n159. 292\n160. 152\n161. 391\n162. 608\n163. 267\n164. 122\n165. 252\n166. 206\n167. 213\n168. 437\n169. 178\n170. 513\n171. 346\n172. 621\n173. 89\n174. 12\n175. 203\n176. 118\n177. 264\n178. 187\n179. 467\n180. 2\n181. 227\n182. 109\n183. 92\n184. 303\n185. 413\n186. 352\n187. 546\n188. 157\n189. 407\n190. 502\n191. 278\n192. 379\n193. 42\n194. 367\n195. 31\n196. 163\n197. 651\n198. 145\n199. 11\n200. 439\n201. ⋯\n202. 458\n203. 202\n204. 263\n205. 637\n206. 57\n207. 423\n208. 578\n209. 30\n210. 606\n211. 567\n212. 417\n213. 274\n214. 620\n215. 96\n216. 148\n217. 246\n218. 160\n219. 347\n220. 444\n221. 574\n222. 313\n223. 394\n224. 588\n225. 171\n226. 121\n227. 361\n228. 19\n229. 474\n230. 515\n231. 587\n232. 547\n233. 100\n234. 39\n235. 459\n236. 479\n237. 442\n238. 144\n239. 180\n240. 414\n241. 396\n242. 294\n243. 304\n244. 327\n245. 311\n246. 237\n247. 605\n248. 420\n249. 434\n250. 562\n251. 68\n252. 503\n253. 228\n254. 345\n255. 209\n256. 112\n257. 388\n258. 87\n259. 639\n260. 491\n261. 201\n262. 219\n263. 543\n264. 368\n265. 217\n266. 354\n267. 623\n268. 643\n269. 431\n270. 186\n271. 24\n272. 95\n273. 189\n274. 241\n275. 593\n276. 355\n277. 627\n278. 461\n279. 245\n280. 5\n281. 440\n282. 540\n283. 343\n284. 493\n285. 446\n286. 44\n287. 8\n288. 37\n289. 586\n290. 56\n291. 478\n292. 291\n293. 64\n294. 387\n295. 475\n296. 469\n297. 357\n298. 535\n299. 463\n300. 210\n301. 384\n302. 88\n303. 597\n304. 425\n305. 409\n306. 451\n307. 297\n308. 236\n309. 448\n310. 363\n311. 232\n312. 262\n313. 584\n314. 631\n315. 424\n316. 99\n317. 334\n318. 234\n319. 477\n320. 90\n321. 184\n322. 190\n323. 179\n324. 240\n325. 249\n326. 351\n327. 114\n328. 579\n329. 558\n330. 358\n331. 633\n332. 85\n333. 456\n334. 339\n335. 488\n336. 111\n337. 102\n338. 48\n339. 175\n340. 566\n341. 395\n342. 125\n343. 27\n344. 583\n345. 648\n346. 284\n347. 613\n348. 49\n349. 550\n350. 147\n351. 104\n352. 191\n353. 185\n354. 271\n355. 577\n356. 495\n357. 312\n358. 486\n359. 238\n360. 290\n361. 218\n362. 194\n363. 108\n364. 342\n365. 69\n366. 174\n367. 581\n368. 261\n369. 54\n370. 523\n371. 630\n372. 612\n373. 382\n374. 216\n375. 443\n376. 283\n377. 610\n378. 224\n379. 129\n380. 256\n381. 433\n382. 598\n383. 564\n384. 545\n385. 509\n386. 41\n387. 94\n388. 58\n389. 349\n390. 159\n391. 20\n392. 298\n393. 285\n394. 369\n395. 393\n396. 197\n397. 16\n398. 406\n399. 538\n400. 336\n401. 652\n\n\n",
            "text/latex": "\\begin{enumerate*}\n\\item 258\n\\item 481\n\\item 323\n\\item 326\n\\item 164\n\\item 536\n\\item 421\n\\item 176\n\\item 624\n\\item 140\n\\item 105\n\\item 609\n\\item 618\n\\item 329\n\\item 539\n\\item 510\n\\item 235\n\\item 277\n\\item 508\n\\item 419\n\\item 404\n\\item 337\n\\item 141\n\\item 91\n\\item 110\n\\item 182\n\\item 15\n\\item 107\n\\item 23\n\\item 499\n\\item 301\n\\item 591\n\\item 130\n\\item 151\n\\item 167\n\\item 166\n\\item 192\n\\item 215\n\\item 537\n\\item 138\n\\item 572\n\\item 9\n\\item 408\n\\item 504\n\\item 4\n\\item 542\n\\item 242\n\\item 196\n\\item 322\n\\item 165\n\\item 314\n\\item 43\n\\item 464\n\\item 559\n\\item 516\n\\item 113\n\\item 132\n\\item 136\n\\item 362\n\\item 400\n\\item 653\n\\item 207\n\\item 411\n\\item 79\n\\item 101\n\\item 494\n\\item 162\n\\item 223\n\\item 441\n\\item 137\n\\item 272\n\\item 402\n\\item 487\n\\item 611\n\\item 321\n\\item 231\n\\item 28\n\\item 604\n\\item 485\n\\item 183\n\\item 557\n\\item 281\n\\item 589\n\\item 472\n\\item 500\n\\item 154\n\\item 143\n\\item 302\n\\item 398\n\\item 465\n\\item 522\n\\item 544\n\\item 449\n\\item 128\n\\item 427\n\\item 548\n\\item 332\n\\item 426\n\\item 645\n\\item 60\n\\item 84\n\\item 582\n\\item 595\n\\item 386\n\\item 373\n\\item 300\n\\item 62\n\\item 18\n\\item 436\n\\item 462\n\\item 226\n\\item 55\n\\item 6\n\\item 405\n\\item 77\n\\item 324\n\\item 580\n\\item 415\n\\item 399\n\\item 221\n\\item 1\n\\item 422\n\\item 103\n\\item 450\n\\item 17\n\\item 570\n\\item 560\n\\item 229\n\\item 632\n\\item 239\n\\item 380\n\\item 353\n\\item 247\n\\item 199\n\\item 133\n\\item 243\n\\item 38\n\\item 642\n\\item 325\n\\item 306\n\\item 602\n\\item 275\n\\item 193\n\\item 135\n\\item 644\n\\item 134\n\\item 331\n\\item 641\n\\item 299\n\\item 471\n\\item 649\n\\item 392\n\\item 530\n\\item 512\n\\item 576\n\\item 628\n\\item 265\n\\item 251\n\\item 292\n\\item 152\n\\item 391\n\\item 608\n\\item 267\n\\item 122\n\\item 252\n\\item 206\n\\item 213\n\\item 437\n\\item 178\n\\item 513\n\\item 346\n\\item 621\n\\item 89\n\\item 12\n\\item 203\n\\item 118\n\\item 264\n\\item 187\n\\item 467\n\\item 2\n\\item 227\n\\item 109\n\\item 92\n\\item 303\n\\item 413\n\\item 352\n\\item 546\n\\item 157\n\\item 407\n\\item 502\n\\item 278\n\\item 379\n\\item 42\n\\item 367\n\\item 31\n\\item 163\n\\item 651\n\\item 145\n\\item 11\n\\item 439\n\\item ⋯\n\\item 458\n\\item 202\n\\item 263\n\\item 637\n\\item 57\n\\item 423\n\\item 578\n\\item 30\n\\item 606\n\\item 567\n\\item 417\n\\item 274\n\\item 620\n\\item 96\n\\item 148\n\\item 246\n\\item 160\n\\item 347\n\\item 444\n\\item 574\n\\item 313\n\\item 394\n\\item 588\n\\item 171\n\\item 121\n\\item 361\n\\item 19\n\\item 474\n\\item 515\n\\item 587\n\\item 547\n\\item 100\n\\item 39\n\\item 459\n\\item 479\n\\item 442\n\\item 144\n\\item 180\n\\item 414\n\\item 396\n\\item 294\n\\item 304\n\\item 327\n\\item 311\n\\item 237\n\\item 605\n\\item 420\n\\item 434\n\\item 562\n\\item 68\n\\item 503\n\\item 228\n\\item 345\n\\item 209\n\\item 112\n\\item 388\n\\item 87\n\\item 639\n\\item 491\n\\item 201\n\\item 219\n\\item 543\n\\item 368\n\\item 217\n\\item 354\n\\item 623\n\\item 643\n\\item 431\n\\item 186\n\\item 24\n\\item 95\n\\item 189\n\\item 241\n\\item 593\n\\item 355\n\\item 627\n\\item 461\n\\item 245\n\\item 5\n\\item 440\n\\item 540\n\\item 343\n\\item 493\n\\item 446\n\\item 44\n\\item 8\n\\item 37\n\\item 586\n\\item 56\n\\item 478\n\\item 291\n\\item 64\n\\item 387\n\\item 475\n\\item 469\n\\item 357\n\\item 535\n\\item 463\n\\item 210\n\\item 384\n\\item 88\n\\item 597\n\\item 425\n\\item 409\n\\item 451\n\\item 297\n\\item 236\n\\item 448\n\\item 363\n\\item 232\n\\item 262\n\\item 584\n\\item 631\n\\item 424\n\\item 99\n\\item 334\n\\item 234\n\\item 477\n\\item 90\n\\item 184\n\\item 190\n\\item 179\n\\item 240\n\\item 249\n\\item 351\n\\item 114\n\\item 579\n\\item 558\n\\item 358\n\\item 633\n\\item 85\n\\item 456\n\\item 339\n\\item 488\n\\item 111\n\\item 102\n\\item 48\n\\item 175\n\\item 566\n\\item 395\n\\item 125\n\\item 27\n\\item 583\n\\item 648\n\\item 284\n\\item 613\n\\item 49\n\\item 550\n\\item 147\n\\item 104\n\\item 191\n\\item 185\n\\item 271\n\\item 577\n\\item 495\n\\item 312\n\\item 486\n\\item 238\n\\item 290\n\\item 218\n\\item 194\n\\item 108\n\\item 342\n\\item 69\n\\item 174\n\\item 581\n\\item 261\n\\item 54\n\\item 523\n\\item 630\n\\item 612\n\\item 382\n\\item 216\n\\item 443\n\\item 283\n\\item 610\n\\item 224\n\\item 129\n\\item 256\n\\item 433\n\\item 598\n\\item 564\n\\item 545\n\\item 509\n\\item 41\n\\item 94\n\\item 58\n\\item 349\n\\item 159\n\\item 20\n\\item 298\n\\item 285\n\\item 369\n\\item 393\n\\item 197\n\\item 16\n\\item 406\n\\item 538\n\\item 336\n\\item 652\n\\end{enumerate*}\n",
            "text/plain": [
              "  [1] 258 481 323 326 164 536 421 176 624 140 105 609 618 329 539 510 235 277\n",
              " [19] 508 419 404 337 141  91 110 182  15 107  23 499 301 591 130 151 167 166\n",
              " [37] 192 215 537 138 572   9 408 504   4 542 242 196 322 165 314  43 464 559\n",
              " [55] 516 113 132 136 362 400 653 207 411  79 101 494 162 223 441 137 272 402\n",
              " [73] 487 611 321 231  28 604 485 183 557 281 589 472 500 154 143 302 398 465\n",
              " [91] 522 544 449 128 427 548 332 426 645  60  84 582 595 386 373 300  62  18\n",
              "[109] 436 462 226  55   6 405  77 324 580 415 399 221   1 422 103 450  17 570\n",
              "[127] 560 229 632 239 380 353 247 199 133 243  38 642 325 306 602 275 193 135\n",
              "[145] 644 134 331 641 299 471 649 392 530 512 576 628 265 251 292 152 391 608\n",
              "[163] 267 122 252 206 213 437 178 513 346 621  89  12 203 118 264 187 467   2\n",
              "[181] 227 109  92 303 413 352 546 157 407 502 278 379  42 367  31 163 651 145\n",
              "[199]  11 439  86 198 430  46 552 438 615 511 614 117 139 254 244  14 330 626\n",
              "[217] 390  36 646 563 269 596 590 212  34 480 482  66 428 520 457 315 549 204\n",
              "[235] 497 374 492  50 116 150  76 412 293 220 397 328 607 266 375 289 156 585\n",
              "[253] 205  40  73 445 636 106 489 455 571 340 307 625 569  72 338 616 496  82\n",
              "[271] 276 126 454 172 320  52 561  33  80 529 534 629 350  25 524 452  70 603\n",
              "[289]  78 309 521 527 385 222 317  97 250 335  53  98 119 519 142 592 127 383\n",
              "[307] 316 483 146 225 525 476 253 470 124 381 453  81 554 514 638 366 460 528\n",
              "[325] 568 259 310 553 650 308 273  13  22  63 517 622 359 377 429 279 168 365\n",
              "[343] 131 600 468  67 295 634 360  21 505 372 635 333 268 401 248 370 255 286\n",
              "[361] 601   7 344 378  35 466  51 484 410 211 555 208 149 619 233 371 594  65\n",
              "[379] 305 348 507 282 341 526 170 280   3 318 490 416 551 498 518 418 531 364\n",
              "[397] 177 403 533  74 473 153  59 565 376 532 432 260 575 214 287 506  71 640\n",
              "[415] 200 617  61 257 556 173 169 296 356 115 319 181 599  32 230  45 288 389\n",
              "[433] 188 447 541  47  83 573  29 647 155 195 158 270  93 123  26  75 501  10\n",
              "[451] 161 435 120 458 202 263 637  57 423 578  30 606 567 417 274 620  96 148\n",
              "[469] 246 160 347 444 574 313 394 588 171 121 361  19 474 515 587 547 100  39\n",
              "[487] 459 479 442 144 180 414 396 294 304 327 311 237 605 420 434 562  68 503\n",
              "[505] 228 345 209 112 388  87 639 491 201 219 543 368 217 354 623 643 431 186\n",
              "[523]  24  95 189 241 593 355 627 461 245   5 440 540 343 493 446  44   8  37\n",
              "[541] 586  56 478 291  64 387 475 469 357 535 463 210 384  88 597 425 409 451\n",
              "[559] 297 236 448 363 232 262 584 631 424  99 334 234 477  90 184 190 179 240\n",
              "[577] 249 351 114 579 558 358 633  85 456 339 488 111 102  48 175 566 395 125\n",
              "[595]  27 583 648 284 613  49 550 147 104 191 185 271 577 495 312 486 238 290\n",
              "[613] 218 194 108 342  69 174 581 261  54 523 630 612 382 216 443 283 610 224\n",
              "[631] 129 256 433 598 564 545 509  41  94  58 349 159  20 298 285 369 393 197\n",
              "[649]  16 406 538 336 652"
            ]
          },
          "metadata": {}
        }
      ]
    },
    {
      "cell_type": "code",
      "source": [
        "#\n"
      ],
      "metadata": {
        "id": "MjrZisnxlJUa"
      },
      "execution_count": null,
      "outputs": []
    }
  ]
}