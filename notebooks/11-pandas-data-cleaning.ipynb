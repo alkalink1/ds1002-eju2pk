{
  "cells": [
    {
      "cell_type": "markdown",
      "metadata": {
        "id": "view-in-github",
        "colab_type": "text"
      },
      "source": [
        "<a href=\"https://colab.research.google.com/github/alkalink1/ds1002-eju2pk/blob/main/notebooks/11-pandas-data-cleaning.ipynb\" target=\"_parent\"><img src=\"https://colab.research.google.com/assets/colab-badge.svg\" alt=\"Open In Colab\"/></a>"
      ]
    },
    {
      "cell_type": "markdown",
      "metadata": {
        "id": "uIrV-2OhXyfr"
      },
      "source": [
        "# Pandas DataFrames - Data Cleaning\n",
        "\n",
        "```\n",
        "  University of Virginia\n",
        "  Programming for Data Science\n",
        "  Last Updated: September 22, 2023\n",
        "```  \n",
        "\n",
        "### OBJECTIVES\n",
        "- Introduce pandas data cleaning tools"
      ]
    },
    {
      "cell_type": "code",
      "execution_count": 5,
      "metadata": {
        "id": "_r8w9mpzXyfs"
      },
      "outputs": [],
      "source": [
        "#import dependencies\n",
        "import pandas as pd"
      ]
    },
    {
      "cell_type": "code",
      "execution_count": 6,
      "metadata": {
        "id": "6nkZfo-pXyfs",
        "outputId": "bdfe92f3-9d76-48e0-8654-cd75dce855b8",
        "colab": {
          "base_uri": "https://localhost:8080/",
          "height": 346
        }
      },
      "outputs": [
        {
          "output_type": "error",
          "ename": "FileNotFoundError",
          "evalue": "ignored",
          "traceback": [
            "\u001b[0;31m---------------------------------------------------------------------------\u001b[0m",
            "\u001b[0;31mFileNotFoundError\u001b[0m                         Traceback (most recent call last)",
            "\u001b[0;32m<ipython-input-6-b8fc8ebfb372>\u001b[0m in \u001b[0;36m<cell line: 1>\u001b[0;34m()\u001b[0m\n\u001b[0;32m----> 1\u001b[0;31m \u001b[0mdupes\u001b[0m \u001b[0;34m=\u001b[0m \u001b[0mpd\u001b[0m\u001b[0;34m.\u001b[0m\u001b[0mread_csv\u001b[0m\u001b[0;34m(\u001b[0m\u001b[0;34m'./dupe-vals.csv'\u001b[0m\u001b[0;34m)\u001b[0m\u001b[0;34m\u001b[0m\u001b[0;34m\u001b[0m\u001b[0m\n\u001b[0m",
            "\u001b[0;32m/usr/local/lib/python3.10/dist-packages/pandas/util/_decorators.py\u001b[0m in \u001b[0;36mwrapper\u001b[0;34m(*args, **kwargs)\u001b[0m\n\u001b[1;32m    209\u001b[0m                 \u001b[0;32melse\u001b[0m\u001b[0;34m:\u001b[0m\u001b[0;34m\u001b[0m\u001b[0;34m\u001b[0m\u001b[0m\n\u001b[1;32m    210\u001b[0m                     \u001b[0mkwargs\u001b[0m\u001b[0;34m[\u001b[0m\u001b[0mnew_arg_name\u001b[0m\u001b[0;34m]\u001b[0m \u001b[0;34m=\u001b[0m \u001b[0mnew_arg_value\u001b[0m\u001b[0;34m\u001b[0m\u001b[0;34m\u001b[0m\u001b[0m\n\u001b[0;32m--> 211\u001b[0;31m             \u001b[0;32mreturn\u001b[0m \u001b[0mfunc\u001b[0m\u001b[0;34m(\u001b[0m\u001b[0;34m*\u001b[0m\u001b[0margs\u001b[0m\u001b[0;34m,\u001b[0m \u001b[0;34m**\u001b[0m\u001b[0mkwargs\u001b[0m\u001b[0;34m)\u001b[0m\u001b[0;34m\u001b[0m\u001b[0;34m\u001b[0m\u001b[0m\n\u001b[0m\u001b[1;32m    212\u001b[0m \u001b[0;34m\u001b[0m\u001b[0m\n\u001b[1;32m    213\u001b[0m         \u001b[0;32mreturn\u001b[0m \u001b[0mcast\u001b[0m\u001b[0;34m(\u001b[0m\u001b[0mF\u001b[0m\u001b[0;34m,\u001b[0m \u001b[0mwrapper\u001b[0m\u001b[0;34m)\u001b[0m\u001b[0;34m\u001b[0m\u001b[0;34m\u001b[0m\u001b[0m\n",
            "\u001b[0;32m/usr/local/lib/python3.10/dist-packages/pandas/util/_decorators.py\u001b[0m in \u001b[0;36mwrapper\u001b[0;34m(*args, **kwargs)\u001b[0m\n\u001b[1;32m    329\u001b[0m                     \u001b[0mstacklevel\u001b[0m\u001b[0;34m=\u001b[0m\u001b[0mfind_stack_level\u001b[0m\u001b[0;34m(\u001b[0m\u001b[0;34m)\u001b[0m\u001b[0;34m,\u001b[0m\u001b[0;34m\u001b[0m\u001b[0;34m\u001b[0m\u001b[0m\n\u001b[1;32m    330\u001b[0m                 )\n\u001b[0;32m--> 331\u001b[0;31m             \u001b[0;32mreturn\u001b[0m \u001b[0mfunc\u001b[0m\u001b[0;34m(\u001b[0m\u001b[0;34m*\u001b[0m\u001b[0margs\u001b[0m\u001b[0;34m,\u001b[0m \u001b[0;34m**\u001b[0m\u001b[0mkwargs\u001b[0m\u001b[0;34m)\u001b[0m\u001b[0;34m\u001b[0m\u001b[0;34m\u001b[0m\u001b[0m\n\u001b[0m\u001b[1;32m    332\u001b[0m \u001b[0;34m\u001b[0m\u001b[0m\n\u001b[1;32m    333\u001b[0m         \u001b[0;31m# error: \"Callable[[VarArg(Any), KwArg(Any)], Any]\" has no\u001b[0m\u001b[0;34m\u001b[0m\u001b[0;34m\u001b[0m\u001b[0m\n",
            "\u001b[0;32m/usr/local/lib/python3.10/dist-packages/pandas/io/parsers/readers.py\u001b[0m in \u001b[0;36mread_csv\u001b[0;34m(filepath_or_buffer, sep, delimiter, header, names, index_col, usecols, squeeze, prefix, mangle_dupe_cols, dtype, engine, converters, true_values, false_values, skipinitialspace, skiprows, skipfooter, nrows, na_values, keep_default_na, na_filter, verbose, skip_blank_lines, parse_dates, infer_datetime_format, keep_date_col, date_parser, dayfirst, cache_dates, iterator, chunksize, compression, thousands, decimal, lineterminator, quotechar, quoting, doublequote, escapechar, comment, encoding, encoding_errors, dialect, error_bad_lines, warn_bad_lines, on_bad_lines, delim_whitespace, low_memory, memory_map, float_precision, storage_options)\u001b[0m\n\u001b[1;32m    948\u001b[0m     \u001b[0mkwds\u001b[0m\u001b[0;34m.\u001b[0m\u001b[0mupdate\u001b[0m\u001b[0;34m(\u001b[0m\u001b[0mkwds_defaults\u001b[0m\u001b[0;34m)\u001b[0m\u001b[0;34m\u001b[0m\u001b[0;34m\u001b[0m\u001b[0m\n\u001b[1;32m    949\u001b[0m \u001b[0;34m\u001b[0m\u001b[0m\n\u001b[0;32m--> 950\u001b[0;31m     \u001b[0;32mreturn\u001b[0m \u001b[0m_read\u001b[0m\u001b[0;34m(\u001b[0m\u001b[0mfilepath_or_buffer\u001b[0m\u001b[0;34m,\u001b[0m \u001b[0mkwds\u001b[0m\u001b[0;34m)\u001b[0m\u001b[0;34m\u001b[0m\u001b[0;34m\u001b[0m\u001b[0m\n\u001b[0m\u001b[1;32m    951\u001b[0m \u001b[0;34m\u001b[0m\u001b[0m\n\u001b[1;32m    952\u001b[0m \u001b[0;34m\u001b[0m\u001b[0m\n",
            "\u001b[0;32m/usr/local/lib/python3.10/dist-packages/pandas/io/parsers/readers.py\u001b[0m in \u001b[0;36m_read\u001b[0;34m(filepath_or_buffer, kwds)\u001b[0m\n\u001b[1;32m    603\u001b[0m \u001b[0;34m\u001b[0m\u001b[0m\n\u001b[1;32m    604\u001b[0m     \u001b[0;31m# Create the parser.\u001b[0m\u001b[0;34m\u001b[0m\u001b[0;34m\u001b[0m\u001b[0m\n\u001b[0;32m--> 605\u001b[0;31m     \u001b[0mparser\u001b[0m \u001b[0;34m=\u001b[0m \u001b[0mTextFileReader\u001b[0m\u001b[0;34m(\u001b[0m\u001b[0mfilepath_or_buffer\u001b[0m\u001b[0;34m,\u001b[0m \u001b[0;34m**\u001b[0m\u001b[0mkwds\u001b[0m\u001b[0;34m)\u001b[0m\u001b[0;34m\u001b[0m\u001b[0;34m\u001b[0m\u001b[0m\n\u001b[0m\u001b[1;32m    606\u001b[0m \u001b[0;34m\u001b[0m\u001b[0m\n\u001b[1;32m    607\u001b[0m     \u001b[0;32mif\u001b[0m \u001b[0mchunksize\u001b[0m \u001b[0;32mor\u001b[0m \u001b[0miterator\u001b[0m\u001b[0;34m:\u001b[0m\u001b[0;34m\u001b[0m\u001b[0;34m\u001b[0m\u001b[0m\n",
            "\u001b[0;32m/usr/local/lib/python3.10/dist-packages/pandas/io/parsers/readers.py\u001b[0m in \u001b[0;36m__init__\u001b[0;34m(self, f, engine, **kwds)\u001b[0m\n\u001b[1;32m   1440\u001b[0m \u001b[0;34m\u001b[0m\u001b[0m\n\u001b[1;32m   1441\u001b[0m         \u001b[0mself\u001b[0m\u001b[0;34m.\u001b[0m\u001b[0mhandles\u001b[0m\u001b[0;34m:\u001b[0m \u001b[0mIOHandles\u001b[0m \u001b[0;34m|\u001b[0m \u001b[0;32mNone\u001b[0m \u001b[0;34m=\u001b[0m \u001b[0;32mNone\u001b[0m\u001b[0;34m\u001b[0m\u001b[0;34m\u001b[0m\u001b[0m\n\u001b[0;32m-> 1442\u001b[0;31m         \u001b[0mself\u001b[0m\u001b[0;34m.\u001b[0m\u001b[0m_engine\u001b[0m \u001b[0;34m=\u001b[0m \u001b[0mself\u001b[0m\u001b[0;34m.\u001b[0m\u001b[0m_make_engine\u001b[0m\u001b[0;34m(\u001b[0m\u001b[0mf\u001b[0m\u001b[0;34m,\u001b[0m \u001b[0mself\u001b[0m\u001b[0;34m.\u001b[0m\u001b[0mengine\u001b[0m\u001b[0;34m)\u001b[0m\u001b[0;34m\u001b[0m\u001b[0;34m\u001b[0m\u001b[0m\n\u001b[0m\u001b[1;32m   1443\u001b[0m \u001b[0;34m\u001b[0m\u001b[0m\n\u001b[1;32m   1444\u001b[0m     \u001b[0;32mdef\u001b[0m \u001b[0mclose\u001b[0m\u001b[0;34m(\u001b[0m\u001b[0mself\u001b[0m\u001b[0;34m)\u001b[0m \u001b[0;34m->\u001b[0m \u001b[0;32mNone\u001b[0m\u001b[0;34m:\u001b[0m\u001b[0;34m\u001b[0m\u001b[0;34m\u001b[0m\u001b[0m\n",
            "\u001b[0;32m/usr/local/lib/python3.10/dist-packages/pandas/io/parsers/readers.py\u001b[0m in \u001b[0;36m_make_engine\u001b[0;34m(self, f, engine)\u001b[0m\n\u001b[1;32m   1733\u001b[0m                 \u001b[0;32mif\u001b[0m \u001b[0;34m\"b\"\u001b[0m \u001b[0;32mnot\u001b[0m \u001b[0;32min\u001b[0m \u001b[0mmode\u001b[0m\u001b[0;34m:\u001b[0m\u001b[0;34m\u001b[0m\u001b[0;34m\u001b[0m\u001b[0m\n\u001b[1;32m   1734\u001b[0m                     \u001b[0mmode\u001b[0m \u001b[0;34m+=\u001b[0m \u001b[0;34m\"b\"\u001b[0m\u001b[0;34m\u001b[0m\u001b[0;34m\u001b[0m\u001b[0m\n\u001b[0;32m-> 1735\u001b[0;31m             self.handles = get_handle(\n\u001b[0m\u001b[1;32m   1736\u001b[0m                 \u001b[0mf\u001b[0m\u001b[0;34m,\u001b[0m\u001b[0;34m\u001b[0m\u001b[0;34m\u001b[0m\u001b[0m\n\u001b[1;32m   1737\u001b[0m                 \u001b[0mmode\u001b[0m\u001b[0;34m,\u001b[0m\u001b[0;34m\u001b[0m\u001b[0;34m\u001b[0m\u001b[0m\n",
            "\u001b[0;32m/usr/local/lib/python3.10/dist-packages/pandas/io/common.py\u001b[0m in \u001b[0;36mget_handle\u001b[0;34m(path_or_buf, mode, encoding, compression, memory_map, is_text, errors, storage_options)\u001b[0m\n\u001b[1;32m    854\u001b[0m         \u001b[0;32mif\u001b[0m \u001b[0mioargs\u001b[0m\u001b[0;34m.\u001b[0m\u001b[0mencoding\u001b[0m \u001b[0;32mand\u001b[0m \u001b[0;34m\"b\"\u001b[0m \u001b[0;32mnot\u001b[0m \u001b[0;32min\u001b[0m \u001b[0mioargs\u001b[0m\u001b[0;34m.\u001b[0m\u001b[0mmode\u001b[0m\u001b[0;34m:\u001b[0m\u001b[0;34m\u001b[0m\u001b[0;34m\u001b[0m\u001b[0m\n\u001b[1;32m    855\u001b[0m             \u001b[0;31m# Encoding\u001b[0m\u001b[0;34m\u001b[0m\u001b[0;34m\u001b[0m\u001b[0m\n\u001b[0;32m--> 856\u001b[0;31m             handle = open(\n\u001b[0m\u001b[1;32m    857\u001b[0m                 \u001b[0mhandle\u001b[0m\u001b[0;34m,\u001b[0m\u001b[0;34m\u001b[0m\u001b[0;34m\u001b[0m\u001b[0m\n\u001b[1;32m    858\u001b[0m                 \u001b[0mioargs\u001b[0m\u001b[0;34m.\u001b[0m\u001b[0mmode\u001b[0m\u001b[0;34m,\u001b[0m\u001b[0;34m\u001b[0m\u001b[0;34m\u001b[0m\u001b[0m\n",
            "\u001b[0;31mFileNotFoundError\u001b[0m: [Errno 2] No such file or directory: './dupe-vals.csv'"
          ]
        }
      ],
      "source": [
        "dupes = pd.read_csv('./dupe-vals.csv')"
      ]
    },
    {
      "cell_type": "markdown",
      "metadata": {
        "id": "jdq3AJGNXyft"
      },
      "source": [
        "**`.tail()`**\n",
        "* last records in dataframe"
      ]
    },
    {
      "cell_type": "code",
      "execution_count": null,
      "metadata": {
        "id": "NOujg6fNXyft"
      },
      "outputs": [],
      "source": [
        "dupes.tail(40)\n",
        "# len(dupes)"
      ]
    },
    {
      "cell_type": "markdown",
      "metadata": {
        "id": "2YYSCd-25yFf"
      },
      "source": [
        "# Working with Duplicate Data\n",
        "\n",
        "Pandas can identify duplicate rows and duplicate columns within a DataFrame"
      ]
    },
    {
      "cell_type": "code",
      "execution_count": null,
      "metadata": {
        "id": "EnkaREBiXyf1"
      },
      "outputs": [],
      "source": [
        "dupes.duplicated()"
      ]
    },
    {
      "cell_type": "code",
      "execution_count": null,
      "metadata": {
        "id": "mJXNtmB45yFf"
      },
      "outputs": [],
      "source": [
        "# let's get a total of how many rows are duplicate\n",
        "print(dupes.duplicated().sum())"
      ]
    },
    {
      "cell_type": "code",
      "execution_count": null,
      "metadata": {
        "id": "xq2tO0zD5yFf"
      },
      "outputs": [],
      "source": [
        "# remove the duplicate rows - but be sure to keep one copy!\n",
        "dupes = dupes.drop_duplicates()"
      ]
    },
    {
      "cell_type": "code",
      "source": [
        "len(dupes)"
      ],
      "metadata": {
        "id": "S9816anLUDYK"
      },
      "execution_count": null,
      "outputs": []
    },
    {
      "cell_type": "markdown",
      "metadata": {
        "id": "1TgxK5rOXyf2"
      },
      "source": [
        "# Working with Missing Data\n",
        "\n",
        "Pandas primarily uses the data type `np.nan` from NumPy to represent missing data."
      ]
    },
    {
      "cell_type": "code",
      "execution_count": null,
      "metadata": {
        "id": "Gb_DpN6JXyf2"
      },
      "outputs": [],
      "source": [
        "import numpy as np"
      ]
    },
    {
      "cell_type": "code",
      "execution_count": null,
      "metadata": {
        "id": "jmfj2iVNXyf2"
      },
      "outputs": [],
      "source": [
        "df_miss = pd.DataFrame({\n",
        "    'x':[2, np.nan, 1],\n",
        "    'y':[np.nan, np.nan, 6],\n",
        "    'z':[4, np.nan, np.nan]}\n",
        ")"
      ]
    },
    {
      "cell_type": "code",
      "execution_count": null,
      "metadata": {
        "id": "8-FLSfd8Xyf2"
      },
      "outputs": [],
      "source": [
        "df_miss"
      ]
    },
    {
      "cell_type": "markdown",
      "metadata": {
        "id": "xOXCVw01Xyf2"
      },
      "source": [
        "## `.dropna()`\n",
        "\n",
        "This will drop all rows with missing data in any column.\n",
        "\n",
        "[Details](https://pandas.pydata.org/pandas-docs/stable/reference/api/pandas.DataFrame.dropna.html)"
      ]
    },
    {
      "cell_type": "code",
      "execution_count": null,
      "metadata": {
        "id": "ls3ZuVPpXyf2"
      },
      "outputs": [],
      "source": [
        "df_drop_all = df_miss.dropna()\n",
        "df_drop_all"
      ]
    },
    {
      "cell_type": "markdown",
      "metadata": {
        "id": "atVqS4edXyf2"
      },
      "source": [
        "The `subset` parameter takes a list of column names to specify which columns should have missing values."
      ]
    },
    {
      "cell_type": "code",
      "execution_count": null,
      "metadata": {
        "id": "OHaK0BzDXyf2"
      },
      "outputs": [],
      "source": [
        "df_drop_x = df_miss.dropna(subset=['x'])\n",
        "df_drop_x"
      ]
    },
    {
      "cell_type": "markdown",
      "metadata": {
        "id": "awIeMPTJXyf2"
      },
      "source": [
        "## `.fillna()`\n",
        "\n",
        "This will replace missing values with whatever you set it to, e.g. $0$s.\n",
        "\n",
        "[Details](https://pandas.pydata.org/pandas-docs/stable/reference/api/pandas.DataFrame.fillna.html)\n",
        "\n",
        "We can pass the results of an operation -- for example to peform simple imputation, we can replace missing values in each column with the median value of the respective column:"
      ]
    },
    {
      "cell_type": "code",
      "execution_count": null,
      "metadata": {
        "id": "oF1VXTDfXyf2"
      },
      "outputs": [],
      "source": [
        "df_filled = df_miss.fillna(df_miss.median())"
      ]
    },
    {
      "cell_type": "code",
      "execution_count": null,
      "metadata": {
        "id": "iX0V2V_6Xyf2"
      },
      "outputs": [],
      "source": [
        "df_filled"
      ]
    },
    {
      "cell_type": "markdown",
      "source": [
        "# Try It Yourself\n",
        "\n",
        "Fetch the `very-messy-data.csv` file [here](https://github.com/nmagee/ds1002/blob/main/data/very-messy-data.csv) and drag it into the files of this notebook.\n",
        "\n",
        "Using the methods you learned above, practice your skills by doing the following:\n",
        "\n",
        "1. Remove duplicate lines\n",
        "2. Where you are missing species data, remove those lines.\n",
        "3. Where you are missing other data, impute data based on the mean of the rest of that column. Repeat for any columns with missing data."
      ],
      "metadata": {
        "id": "0_0xccQG-49-"
      }
    },
    {
      "cell_type": "code",
      "source": [
        "messy = pd.read_csv('./very-messy-data.csv')\n",
        "print(messy)"
      ],
      "metadata": {
        "id": "6PccwdayXGtk",
        "outputId": "f4aef937-b183-4682-b9d6-29fc430468a7",
        "colab": {
          "base_uri": "https://localhost:8080/"
        }
      },
      "execution_count": 7,
      "outputs": [
        {
          "output_type": "stream",
          "name": "stdout",
          "text": [
            "       id  sepal_length  sepal_width  petal_length  petal_width    species\n",
            "0       1           3.5          2.9           1.4          0.5  virginica\n",
            "1       2           3.6          3.2           3.0          0.5     setosa\n",
            "2       3           3.8          NaN           2.2          1.5     setosa\n",
            "3       4           5.8          2.7           2.6          1.2  virginica\n",
            "4       5           4.9          3.6           3.0          1.2  virginica\n",
            "...   ...           ...          ...           ...          ...        ...\n",
            "1311  412           NaN          3.6           2.9          0.5  virginica\n",
            "1312  413           5.8          2.7           2.0          0.1  virginica\n",
            "1313  414           3.3          3.7           1.3          2.8     setosa\n",
            "1314  415           3.1          NaN           1.1          NaN  virginica\n",
            "1315  416           4.3          2.5           1.3          1.0     setosa\n",
            "\n",
            "[1316 rows x 6 columns]\n"
          ]
        }
      ]
    },
    {
      "cell_type": "code",
      "source": [
        "print(messy.duplicated().sum())"
      ],
      "metadata": {
        "id": "yFWYb5lzXbNV",
        "outputId": "21823b6c-120a-4872-f926-981da2332708",
        "colab": {
          "base_uri": "https://localhost:8080/"
        }
      },
      "execution_count": 8,
      "outputs": [
        {
          "output_type": "stream",
          "name": "stdout",
          "text": [
            "316\n"
          ]
        }
      ]
    },
    {
      "cell_type": "code",
      "source": [
        "messy = messy.drop_duplicates()\n"
      ],
      "metadata": {
        "id": "BaOQJ62TXiOA"
      },
      "execution_count": 9,
      "outputs": []
    },
    {
      "cell_type": "code",
      "source": [
        "less_messy = messy.dropna(subset=['species'])\n",
        "print(less_messy)"
      ],
      "metadata": {
        "id": "--BIt65S0Uw0",
        "outputId": "fc18a5b3-596a-4caf-cef8-d5ac9f700676",
        "colab": {
          "base_uri": "https://localhost:8080/"
        }
      },
      "execution_count": 12,
      "outputs": [
        {
          "output_type": "stream",
          "name": "stdout",
          "text": [
            "       id  sepal_length  sepal_width  petal_length  petal_width    species\n",
            "0       1           3.5          2.9           1.4          0.5  virginica\n",
            "1       2           3.6          3.2           3.0          0.5     setosa\n",
            "2       3           3.8          NaN           2.2          1.5     setosa\n",
            "3       4           5.8          2.7           2.6          1.2  virginica\n",
            "4       5           4.9          3.6           3.0          1.2  virginica\n",
            "..    ...           ...          ...           ...          ...        ...\n",
            "994   995           4.0          2.9           1.0          0.2  virginica\n",
            "995   996           4.5          3.6           NaN          2.7     setosa\n",
            "996   997           4.0          2.1           NaN          2.1     setosa\n",
            "997   998           5.9          2.5           2.1          2.5  virginica\n",
            "999  1000           3.4          3.9           1.9          1.5     setosa\n",
            "\n",
            "[934 rows x 6 columns]\n"
          ]
        }
      ]
    },
    {
      "cell_type": "code",
      "source": [
        "messy_filled = messy.fillna(messy.median())\n",
        "print(messy_filled)"
      ],
      "metadata": {
        "id": "SRcTO3By04xr",
        "outputId": "8c6824a8-51ce-41f2-b487-9a33ae6e7083",
        "colab": {
          "base_uri": "https://localhost:8080/"
        }
      },
      "execution_count": 15,
      "outputs": [
        {
          "output_type": "stream",
          "name": "stdout",
          "text": [
            "       id  sepal_length  sepal_width  petal_length  petal_width    species\n",
            "0       1           3.5          2.9           1.4          0.5  virginica\n",
            "1       2           3.6          3.2           3.0          0.5     setosa\n",
            "2       3           3.8          3.0           2.2          1.5     setosa\n",
            "3       4           5.8          2.7           2.6          1.2  virginica\n",
            "4       5           4.9          3.6           3.0          1.2  virginica\n",
            "..    ...           ...          ...           ...          ...        ...\n",
            "995   996           4.5          3.6           2.0          2.7     setosa\n",
            "996   997           4.0          2.1           2.0          2.1     setosa\n",
            "997   998           5.9          2.5           2.1          2.5  virginica\n",
            "998   999           5.0          2.6           1.9          1.6        NaN\n",
            "999  1000           3.4          3.9           1.9          1.5     setosa\n",
            "\n",
            "[1000 rows x 6 columns]\n"
          ]
        },
        {
          "output_type": "stream",
          "name": "stderr",
          "text": [
            "<ipython-input-15-3563164d9517>:1: FutureWarning: The default value of numeric_only in DataFrame.median is deprecated. In a future version, it will default to False. In addition, specifying 'numeric_only=None' is deprecated. Select only valid columns or specify the value of numeric_only to silence this warning.\n",
            "  messy_filled = messy.fillna(messy.median())\n"
          ]
        }
      ]
    }
  ],
  "metadata": {
    "anaconda-cloud": {},
    "colab": {
      "provenance": [],
      "include_colab_link": true
    },
    "kernelspec": {
      "display_name": "Python 3.8.9 64-bit",
      "language": "python",
      "name": "python3"
    },
    "language_info": {
      "codemirror_mode": {
        "name": "ipython",
        "version": 3
      },
      "file_extension": ".py",
      "mimetype": "text/x-python",
      "name": "python",
      "nbconvert_exporter": "python",
      "pygments_lexer": "ipython3",
      "version": "3.9.6"
    },
    "vscode": {
      "interpreter": {
        "hash": "31f2aee4e71d21fbe5cf8b01ff0e069b9275f58929596ceb00d14d90e3e16cd6"
      }
    }
  },
  "nbformat": 4,
  "nbformat_minor": 0
}