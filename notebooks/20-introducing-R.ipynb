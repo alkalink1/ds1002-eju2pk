{
  "nbformat": 4,
  "nbformat_minor": 0,
  "metadata": {
    "colab": {
      "provenance": [],
      "include_colab_link": true
    },
    "kernelspec": {
      "name": "ir",
      "display_name": "R"
    },
    "language_info": {
      "name": "R"
    }
  },
  "cells": [
    {
      "cell_type": "markdown",
      "metadata": {
        "id": "view-in-github",
        "colab_type": "text"
      },
      "source": [
        "<a href=\"https://colab.research.google.com/github/alkalink1/ds1002-eju2pk/blob/main/notebooks/20-introducing-R.ipynb\" target=\"_parent\"><img src=\"https://colab.research.google.com/assets/colab-badge.svg\" alt=\"Open In Colab\"/></a>"
      ]
    },
    {
      "cell_type": "markdown",
      "source": [
        "# Introducing R\n",
        "\n",
        "<img align=\"right\" width=\"200\" height=\"200\" src=\"https://stamsgroup.com/wp-content/uploads/2020/08/R.programming-300x300.png\">\n",
        "\n",
        "**What is R?** R is a programming language for statistical computing and graphics supported by the R Core Team and the R Foundation for Statistical Computing. It was created at the University of Auckland in 1991 and became an open source project in 1995.\n",
        "\n",
        "**What are the pros and cons of R?**\n",
        "\n",
        "There are a few advantages R has over Python in the realm of statistics and data analysis:\n",
        "\n",
        "- Built for statistics\n",
        "- Data visualization\n",
        "- Additional statistical packages\n",
        "- Data wrangling\n",
        "- Academic focus\n",
        "- Customizable\n",
        "\n",
        "Disadvantages of R vs. Python:\n",
        "\n",
        "- Less readable\n",
        "- More difficult to learn well\n",
        "- Not as beginner-friendly\n",
        "\n",
        "- - -"
      ],
      "metadata": {
        "id": "FK-OA1E3FGOl"
      }
    },
    {
      "cell_type": "markdown",
      "source": [
        "## The Basics\n",
        "\n",
        "### Design:\n",
        "\n",
        "-   Designed to support statistical computing\n",
        "-   Very strong community\n",
        "-   Many domain-specific functions are built in\n",
        "-   Vector first thinking\n",
        "-   Everything is an object\n",
        "\n",
        "### R Syntax\n",
        "\n",
        "-   Syntax loosely follows traditional `C`-style\n",
        "    -   **Braces** `{` and `}` are used to form blocks.\n",
        "    -   **Semi-colons** are used optionally to end statements, required\n",
        "        if on same line.\n",
        "-   **Assignments** are made with `<-` or `->` (or `=`)\n",
        "-   **Dots** `.` have no special meaning -- they are not operators.\n",
        "-   Single and double **quotes** have the same meaning, but double\n",
        "    quotes tend to be preferred.\n",
        "    -   Use single quotes if you expect your string to contain double\n",
        "        quotes.\n",
        "\n",
        "- - -"
      ],
      "metadata": {
        "id": "w2AT-cm7GJkO"
      }
    },
    {
      "cell_type": "markdown",
      "source": [
        "## Variables\n",
        "\n",
        "Like other languages, variables (known as \"objects\" in R) can be named arbitrarily. The limits on naming are:\n",
        "\n",
        "- A variable name must start with a letter and can be a combination of letters, digits, period(.)\n",
        "and underscore(_).\n",
        "- If it starts with period(.), it cannot be followed by a digit.\n",
        "- A variable name cannot start with a number or underscore (_)\n",
        "- Variable names are case-sensitive (age, Age and AGE are three different variables)\n",
        "- Reserved words cannot be used as variables (TRUE, FALSE, NULL, if...)\n",
        "\n",
        "To assign a value to a variable, use the ` <- ` notation, which suggests \"pushing\" value into the variable.\n",
        "\n",
        "Note: Just like in Python, variables/objects can be ANYTHING. A string, an integer, a data frame, a list, etc. And just like in Python you can always print out that variable to see what it contains."
      ],
      "metadata": {
        "id": "igcp_r77Hu20"
      }
    },
    {
      "cell_type": "code",
      "source": [
        "# comments also use hashtags to indicate they are comments!\n",
        "# let's create an object and populate it.\n",
        "\n",
        "myvar <- 1.45"
      ],
      "metadata": {
        "id": "wULaaJZ_IRhV"
      },
      "execution_count": 1,
      "outputs": []
    },
    {
      "cell_type": "code",
      "source": [
        "# you can learn what datatype an object is using the typeof() function.\n",
        "# A \"double\" is a type of integer.\n",
        "\n",
        "typeof(myvar)"
      ],
      "metadata": {
        "id": "DdETH23sIcr5",
        "outputId": "9b60665d-259a-4990-9a21-6ba627e4f7ad",
        "colab": {
          "base_uri": "https://localhost:8080/",
          "height": 34
        }
      },
      "execution_count": 2,
      "outputs": [
        {
          "output_type": "display_data",
          "data": {
            "text/html": [
              "'double'"
            ],
            "text/markdown": "'double'",
            "text/latex": "'double'",
            "text/plain": [
              "[1] \"double\""
            ]
          },
          "metadata": {}
        }
      ]
    },
    {
      "cell_type": "code",
      "source": [
        "# you can also assign in the other direction if you want (though the convention is R to L)\n",
        "\n",
        "\"mickey\" -> mousename\n",
        "mousename"
      ],
      "metadata": {
        "id": "jU9Q0JT_JgDJ",
        "outputId": "ee3063ec-1859-4b1d-e57a-75234002e230",
        "colab": {
          "base_uri": "https://localhost:8080/",
          "height": 34
        }
      },
      "execution_count": 3,
      "outputs": [
        {
          "output_type": "display_data",
          "data": {
            "text/html": [
              "'mickey'"
            ],
            "text/markdown": "'mickey'",
            "text/latex": "'mickey'",
            "text/plain": [
              "[1] \"mickey\""
            ]
          },
          "metadata": {}
        }
      ]
    },
    {
      "cell_type": "code",
      "source": [
        "# Another very basic operation is to concatenate values into an object using the c() function:\n",
        "\n",
        "myname <- c(\"Bob\", \"Dylan\")\n",
        "myname"
      ],
      "metadata": {
        "id": "E-YTJ7MxJ1Kr",
        "outputId": "2e8140fd-8076-452f-8a72-3a72bd2952a5",
        "colab": {
          "base_uri": "https://localhost:8080/",
          "height": 34
        }
      },
      "execution_count": 4,
      "outputs": [
        {
          "output_type": "display_data",
          "data": {
            "text/html": [
              "<style>\n",
              ".list-inline {list-style: none; margin:0; padding: 0}\n",
              ".list-inline>li {display: inline-block}\n",
              ".list-inline>li:not(:last-child)::after {content: \"\\00b7\"; padding: 0 .5ex}\n",
              "</style>\n",
              "<ol class=list-inline><li>'Bob'</li><li>'Dylan'</li></ol>\n"
            ],
            "text/markdown": "1. 'Bob'\n2. 'Dylan'\n\n\n",
            "text/latex": "\\begin{enumerate*}\n\\item 'Bob'\n\\item 'Dylan'\n\\end{enumerate*}\n",
            "text/plain": [
              "[1] \"Bob\"   \"Dylan\""
            ]
          },
          "metadata": {}
        }
      ]
    },
    {
      "cell_type": "markdown",
      "source": [
        "### R Data Types\n",
        "\n",
        "There are several basic R data types.\n",
        "\n",
        "-   [Numeric](#scrollTo=hNZPBBDdHKzi&line=35&uniqifier=1)\n",
        "-   [Integer](#scrollTo=eikm2wiRHiC_&line=47&uniqifier=1)\n",
        "-   Complex\n",
        "-   [Logical](#scrollTo=fYk9koTOHYxR&line=42&uniqifier=1)\n",
        "-   [Character](#scrollTo=nnEP2VnkHPkd&line=61&uniqifier=1)\n"
      ],
      "metadata": {
        "id": "Nf2zdOlEHofg"
      }
    },
    {
      "cell_type": "markdown",
      "source": [
        "## Numeric\n",
        "\n",
        "Decimal values are called \"numerics\" in R.\n",
        "\n",
        "It is the **default** computational data type.\n",
        "\n",
        "If we assign a decimal value to a variable x, x will be of numeric type:\n",
        "\n",
        "```{r}\n",
        "x <- 10.5       # assign a decimal value\n",
        "x              # print the value of x\n",
        "```\n",
        "\n",
        "```{r}\n",
        "class(x)      # print the class name of x\n",
        "```\n",
        "\n",
        "Even if we assign an integer to a variable k, it will still be saved\n",
        "as a numeric value.\n",
        "\n",
        "```{r}\n",
        "k <- 1\n",
        "k              # print the value of k\n",
        "```\n",
        "\n",
        "```{r}\n",
        "class(k)       # print the class name of k\n",
        "```\n",
        "\n",
        "That k is not an integer can be confirmed with `is.integer()`:\n",
        "\n",
        "```{r}\n",
        "is.integer(k)  # is k an integer?\n",
        "```\n"
      ],
      "metadata": {
        "id": "hNZPBBDdHKzi"
      }
    },
    {
      "cell_type": "markdown",
      "source": [
        "## Integers\n",
        "\n",
        "To create an integer variable in R, we use `as.integer()`.\n",
        "\n",
        "```{r}\n",
        "y <- as.integer(3)\n",
        "y              # print the value of y\n",
        "```\n",
        "\n",
        "```{r}\n",
        "class(y)       # print the class name of y\n",
        "is.integer(y)  # is y an integer?\n",
        "```\n",
        "\n",
        "We can also declare an integer by appending an `L` suffix.\n",
        "\n",
        "```{r}\n",
        "y <- 3L\n",
        "is.integer(y)  # is y an integer?\n",
        "```\n",
        "\n",
        "We can coerce, or cast, a numeric value into an integer with\n",
        "`as.integer()`.\n",
        "\n",
        "```{r}\n",
        "as.integer(3.14)    # coerce a numeric value\n",
        "```\n",
        "\n",
        "And we can parse a string for decimal values in much the same way.\n",
        "\n",
        "```{r}\n",
        "as.integer(\"5.27\")  # coerce a decimal string\n",
        "```\n",
        "\n",
        "On the other hand, it is erroneous trying to parse a non-decimal string.\n",
        "\n",
        "```{r}\n",
        "as.integer(\"Joe\")   # coerce an non-decimal string\n",
        "```\n",
        "\n",
        "We can convert booleans to numbers this way, too.\n",
        "\n",
        "```{r}\n",
        "as.integer(TRUE)    # the numeric value of TRUE\n",
        "as.integer(FALSE)   # the numeric value of FALSE\n",
        "```\n"
      ],
      "metadata": {
        "id": "eikm2wiRHiC_"
      }
    },
    {
      "cell_type": "markdown",
      "source": [
        "## Math Operators\n",
        "\n",
        "| **Operator**   | **Description**             |\n",
        "|----------------|-----------------------------|\n",
        "| **+**          | addition                    |\n",
        "| **-**          | subtraction                 |\n",
        "| **\\***         | multiplication              |\n",
        "| **/**          | division                    |\n",
        "| **\\^ or \\*\\*** | exponentiation              |\n",
        "| **x %% y**     | modulus (x mod y) 5%%2 is 1 |\n",
        "| **x %/% y**    | integer division 5%/%2 is 2 |\n",
        "\n"
      ],
      "metadata": {
        "id": "vXV6GU1KHeOe"
      }
    },
    {
      "cell_type": "code",
      "source": [
        "4^2 * (4 + 8 * 2)\n",
        "14^3\n",
        "7 %/% 3"
      ],
      "metadata": {
        "id": "0w2Rr2xVWKpU",
        "outputId": "3e43f7df-84eb-4a3a-d93c-784cedb9ba08",
        "colab": {
          "base_uri": "https://localhost:8080/",
          "height": 69
        }
      },
      "execution_count": 5,
      "outputs": [
        {
          "output_type": "display_data",
          "data": {
            "text/html": [
              "320"
            ],
            "text/markdown": "320",
            "text/latex": "320",
            "text/plain": [
              "[1] 320"
            ]
          },
          "metadata": {}
        },
        {
          "output_type": "display_data",
          "data": {
            "text/html": [
              "2744"
            ],
            "text/markdown": "2744",
            "text/latex": "2744",
            "text/plain": [
              "[1] 2744"
            ]
          },
          "metadata": {}
        },
        {
          "output_type": "display_data",
          "data": {
            "text/html": [
              "2"
            ],
            "text/markdown": "2",
            "text/latex": "2",
            "text/plain": [
              "[1] 2"
            ]
          },
          "metadata": {}
        }
      ]
    },
    {
      "cell_type": "markdown",
      "source": [
        "## Logical (Boolean)\n",
        "\n",
        "A logical value is often created via comparison between variables.\n",
        "\n",
        "```{r}\n",
        "x <- 1\n",
        "y <- 2   # sample values\n",
        "z <- x > y      # is x larger than y?\n",
        "z              # print the logical value\n",
        "```\n",
        "\n",
        "```{r}\n",
        "class(z)       # print the class name of z\n",
        "```"
      ],
      "metadata": {
        "id": "fYk9koTOHYxR"
      }
    },
    {
      "cell_type": "code",
      "source": [
        "x <- 1\n",
        "y <- 2\n",
        "\n",
        "x > y"
      ],
      "metadata": {
        "id": "4an-qZ_0Vqli",
        "outputId": "75d8d80f-6190-4517-94f9-6278c94f197a",
        "colab": {
          "base_uri": "https://localhost:8080/",
          "height": 34
        }
      },
      "execution_count": 6,
      "outputs": [
        {
          "output_type": "display_data",
          "data": {
            "text/html": [
              "FALSE"
            ],
            "text/markdown": "FALSE",
            "text/latex": "FALSE",
            "text/plain": [
              "[1] FALSE"
            ]
          },
          "metadata": {}
        }
      ]
    },
    {
      "cell_type": "markdown",
      "source": [
        "### Logical Operators\n",
        "\n",
        "Standard logical operations are `&` (and), `|` (or), and `!` (negation).\n",
        "\n",
        "```{r}\n",
        "u <- TRUE\n",
        "v <- FALSE\n",
        "u & v          # u AND v\n",
        "```\n",
        "\n",
        "```{r}\n",
        "u | v          # u OR v\n",
        "```\n",
        "\n",
        "```{r}\n",
        "!u             # negation of u\n",
        "```\n",
        "\n",
        "Note that you can use `T` and `F` instead of `TRUE` and `FALSE`.\n",
        "\n",
        "```{r}\n",
        "a <- T\n",
        "b <- F\n",
        "a & b\n",
        "```"
      ],
      "metadata": {
        "id": "HJGzf1uAVj8Y"
      }
    },
    {
      "cell_type": "code",
      "source": [
        "u <- TRUE\n",
        "v <- FALSE\n",
        "u & v"
      ],
      "metadata": {
        "id": "IgK4VQvaVij9",
        "outputId": "16c6682e-0381-47b1-9a68-70b1b8a5dbc7",
        "colab": {
          "base_uri": "https://localhost:8080/",
          "height": 34
        }
      },
      "execution_count": 7,
      "outputs": [
        {
          "output_type": "display_data",
          "data": {
            "text/html": [
              "FALSE"
            ],
            "text/markdown": "FALSE",
            "text/latex": "FALSE",
            "text/plain": [
              "[1] FALSE"
            ]
          },
          "metadata": {}
        }
      ]
    },
    {
      "cell_type": "code",
      "source": [
        "u | v"
      ],
      "metadata": {
        "id": "PPvqWm-jV54x",
        "outputId": "b06194db-d30a-450d-d8be-7c7af431cd0b",
        "colab": {
          "base_uri": "https://localhost:8080/",
          "height": 34
        }
      },
      "execution_count": 8,
      "outputs": [
        {
          "output_type": "display_data",
          "data": {
            "text/html": [
              "TRUE"
            ],
            "text/markdown": "TRUE",
            "text/latex": "TRUE",
            "text/plain": [
              "[1] TRUE"
            ]
          },
          "metadata": {}
        }
      ]
    },
    {
      "cell_type": "code",
      "source": [
        "!u"
      ],
      "metadata": {
        "id": "p-R2hyx_V8_h",
        "outputId": "0c16606e-0654-47a9-a981-caeadd2e3ba8",
        "colab": {
          "base_uri": "https://localhost:8080/",
          "height": 34
        }
      },
      "execution_count": 9,
      "outputs": [
        {
          "output_type": "display_data",
          "data": {
            "text/html": [
              "FALSE"
            ],
            "text/markdown": "FALSE",
            "text/latex": "FALSE",
            "text/plain": [
              "[1] FALSE"
            ]
          },
          "metadata": {}
        }
      ]
    },
    {
      "cell_type": "markdown",
      "source": [
        "## Characters\n",
        "\n",
        "A character object is used to represent string values in R.\n",
        "\n",
        "We convert objects into character values with the `as.character()`\n",
        "function:\n",
        "\n",
        "```{r}\n",
        "x = as.character(3.14)\n",
        "x\n",
        "```\n",
        "\n",
        "```{r}\n",
        "class(x)       # print the class name of x\n",
        "```\n",
        "\n",
        "### `paste()`\n",
        "\n",
        "Two character values can be concatenated with the `paste()` function.\n",
        "\n",
        "```{r}\n",
        "fname <- \"Joe\"\n",
        "lname <-\"Smith\"\n",
        "paste(fname, lname)\n",
        "```\n",
        "\n",
        "`paste()` takes a `sep` argument:\n",
        "\n",
        "```{r}\n",
        "paste(\"A\", \"B\", \"C\", sep=\"--\")\n",
        "```\n",
        "\n",
        "### `sprintf()`\n",
        "\n",
        "However, it is often more convenient to create a readable string with\n",
        "the `sprintf()` function, which has a C language syntax.\n",
        "\n",
        "```{r}\n",
        "sprintf(\"%s has %d dollars\", \"Sam\", 100)\n",
        "```\n",
        "\n",
        "### `substr()`\n",
        "\n",
        "To extract a substring, we apply the `substr()` function.\n",
        "\n",
        "Here is an example showing how to extract the substring between the\n",
        "third and twelfth positions in a string.\n",
        "\n",
        "```{r}\n",
        "substr(\"Mary has a little lamb.\", start=3, stop=12)\n",
        "```\n",
        "\n",
        "### `sub()`\n",
        "\n",
        "And to replace the first occurrence of the word \"little\" by another word\n",
        "\"big\" in the string, we apply the `sub()` function.\n",
        "\n",
        "```{r}\n",
        "sub(\"little\", \"big\", \"Mary has a little lamb.\")\n",
        "```\n"
      ],
      "metadata": {
        "id": "nnEP2VnkHPkd"
      }
    },
    {
      "cell_type": "markdown",
      "source": [
        "## R Data Structures\n",
        "\n",
        "Basic R comes with several data structures:\n",
        "\n",
        "- Vector\n",
        "- Matrix\n",
        "- Array\n",
        "- List\n",
        "- Data frame\n",
        "\n",
        "A **vector** is what is called an array in all other programming languages except R\n",
        "\n",
        "> A collection of cells with a fixed size where all cells hold the same data type (integers or characters or reals or whatever).\n",
        "\n",
        "A **matrix** is a two-dimensional vector (fixed size, all cell types the same).\n",
        "\n",
        "An **array** is a vector with one or more dimensions.\n",
        "\n",
        "> So, an array with one dimension is (almost) the same as a vector.An array with two dimensions is (almost) the same as a matrix.An array with three or more dimensions is an n-dimensional array.\n",
        "\n",
        "A **list** can hold items of different types and the list size can be increased on the fly.\n",
        "\n",
        "> List contents can be accessed either by index (like mylist[[1]]) or by name (like mylist$age).\n",
        "\n",
        "A **data frame** is called a table in most languages.\n",
        "\n",
        "> Each column holds the same type, and the columns can have header names. A data frame is essentially a kind of a list — a list of vectors each with the same length, but of varying data types.\n",
        "\n",
        "The two most frequently uses are **Vector** and **Data frame**.\n",
        "\n",
        "So, let's look more closely at vectors and data frames. We will also look at lists since they are used internally to construct data frames."
      ],
      "metadata": {
        "id": "NnIU8w8filRh"
      }
    },
    {
      "cell_type": "markdown",
      "source": [
        "### Vectors and `c()`\n",
        "\n",
        "A vector is a sequence of data elements of the same basic type.\n",
        "\n",
        "Members in a vector are officially called components, but many call them members.\n",
        "\n",
        "Vectors may be created with the `c()` function (\"c\" stands for combine).\n",
        "\n",
        "Here is a vector of three numeric values 2, 3 and 5."
      ],
      "metadata": {
        "id": "5R0Nvtt5i7eV"
      }
    },
    {
      "cell_type": "code",
      "source": [
        "c(2, 3, 5)"
      ],
      "metadata": {
        "id": "7d0Wx1ijihRA",
        "outputId": "1b253766-42d5-4411-81f9-45f7c1058d4a",
        "colab": {
          "base_uri": "https://localhost:8080/",
          "height": 34
        }
      },
      "execution_count": 10,
      "outputs": [
        {
          "output_type": "display_data",
          "data": {
            "text/html": [
              "<style>\n",
              ".list-inline {list-style: none; margin:0; padding: 0}\n",
              ".list-inline>li {display: inline-block}\n",
              ".list-inline>li:not(:last-child)::after {content: \"\\00b7\"; padding: 0 .5ex}\n",
              "</style>\n",
              "<ol class=list-inline><li>2</li><li>3</li><li>5</li></ol>\n"
            ],
            "text/markdown": "1. 2\n2. 3\n3. 5\n\n\n",
            "text/latex": "\\begin{enumerate*}\n\\item 2\n\\item 3\n\\item 5\n\\end{enumerate*}\n",
            "text/plain": [
              "[1] 2 3 5"
            ]
          },
          "metadata": {}
        }
      ]
    },
    {
      "cell_type": "markdown",
      "source": [
        "And here is a vector of logical values"
      ],
      "metadata": {
        "id": "u-jLSMh5jFPF"
      }
    },
    {
      "cell_type": "code",
      "source": [
        "c(TRUE, FALSE, TRUE, FALSE, FALSE)"
      ],
      "metadata": {
        "id": "jFXI4FuFjHJe",
        "outputId": "7219fa95-73ff-4bef-9598-89f8c8a19e9e",
        "colab": {
          "base_uri": "https://localhost:8080/",
          "height": 34
        }
      },
      "execution_count": 11,
      "outputs": [
        {
          "output_type": "display_data",
          "data": {
            "text/html": [
              "<style>\n",
              ".list-inline {list-style: none; margin:0; padding: 0}\n",
              ".list-inline>li {display: inline-block}\n",
              ".list-inline>li:not(:last-child)::after {content: \"\\00b7\"; padding: 0 .5ex}\n",
              "</style>\n",
              "<ol class=list-inline><li>TRUE</li><li>FALSE</li><li>TRUE</li><li>FALSE</li><li>FALSE</li></ol>\n"
            ],
            "text/markdown": "1. TRUE\n2. FALSE\n3. TRUE\n4. FALSE\n5. FALSE\n\n\n",
            "text/latex": "\\begin{enumerate*}\n\\item TRUE\n\\item FALSE\n\\item TRUE\n\\item FALSE\n\\item FALSE\n\\end{enumerate*}\n",
            "text/plain": [
              "[1]  TRUE FALSE  TRUE FALSE FALSE"
            ]
          },
          "metadata": {}
        }
      ]
    },
    {
      "cell_type": "markdown",
      "source": [
        "A vector can contain character strings"
      ],
      "metadata": {
        "id": "ZXfI6SsWjJYt"
      }
    },
    {
      "cell_type": "code",
      "source": [
        "c(\"aa\", \"bb\", \"cc\", \"dd\", \"ee\")"
      ],
      "metadata": {
        "id": "gNN3LRNIjL4n",
        "outputId": "d88cdb1c-36b9-4c9e-bc3a-4f5771ca9139",
        "colab": {
          "base_uri": "https://localhost:8080/",
          "height": 34
        }
      },
      "execution_count": 12,
      "outputs": [
        {
          "output_type": "display_data",
          "data": {
            "text/html": [
              "<style>\n",
              ".list-inline {list-style: none; margin:0; padding: 0}\n",
              ".list-inline>li {display: inline-block}\n",
              ".list-inline>li:not(:last-child)::after {content: \"\\00b7\"; padding: 0 .5ex}\n",
              "</style>\n",
              "<ol class=list-inline><li>'aa'</li><li>'bb'</li><li>'cc'</li><li>'dd'</li><li>'ee'</li></ol>\n"
            ],
            "text/markdown": "1. 'aa'\n2. 'bb'\n3. 'cc'\n4. 'dd'\n5. 'ee'\n\n\n",
            "text/latex": "\\begin{enumerate*}\n\\item 'aa'\n\\item 'bb'\n\\item 'cc'\n\\item 'dd'\n\\item 'ee'\n\\end{enumerate*}\n",
            "text/plain": [
              "[1] \"aa\" \"bb\" \"cc\" \"dd\" \"ee\""
            ]
          },
          "metadata": {}
        }
      ]
    },
    {
      "cell_type": "markdown",
      "source": [
        "### Vectors from sequences using `:`, `seq()`, and `rep()`\n",
        "\n",
        "Vectors can be made out of sequences which may be generated in a few ways."
      ],
      "metadata": {
        "id": "6c-Hnsu3jRpl"
      }
    },
    {
      "cell_type": "code",
      "source": [
        "s1 <- 2:5\n",
        "s1"
      ],
      "metadata": {
        "id": "FKW05VypjYgH",
        "outputId": "4e238bec-2fbd-41d4-a584-d3734d6e9bc7",
        "colab": {
          "base_uri": "https://localhost:8080/",
          "height": 34
        }
      },
      "execution_count": 13,
      "outputs": [
        {
          "output_type": "display_data",
          "data": {
            "text/html": [
              "<style>\n",
              ".list-inline {list-style: none; margin:0; padding: 0}\n",
              ".list-inline>li {display: inline-block}\n",
              ".list-inline>li:not(:last-child)::after {content: \"\\00b7\"; padding: 0 .5ex}\n",
              "</style>\n",
              "<ol class=list-inline><li>2</li><li>3</li><li>4</li><li>5</li></ol>\n"
            ],
            "text/markdown": "1. 2\n2. 3\n3. 4\n4. 5\n\n\n",
            "text/latex": "\\begin{enumerate*}\n\\item 2\n\\item 3\n\\item 4\n\\item 5\n\\end{enumerate*}\n",
            "text/plain": [
              "[1] 2 3 4 5"
            ]
          },
          "metadata": {}
        }
      ]
    },
    {
      "cell_type": "markdown",
      "source": [
        "The `seq()` function is like Python's `range()`."
      ],
      "metadata": {
        "id": "sJZqItznjbIk"
      }
    },
    {
      "cell_type": "code",
      "source": [
        "s2 <- seq(from=1, to=5, by=2)\n",
        "s2"
      ],
      "metadata": {
        "id": "X5PgIRgGjfPX",
        "outputId": "feff32a9-16ff-4863-9aa5-5a23a3e1035f",
        "colab": {
          "base_uri": "https://localhost:8080/",
          "height": 34
        }
      },
      "execution_count": 14,
      "outputs": [
        {
          "output_type": "display_data",
          "data": {
            "text/html": [
              "<style>\n",
              ".list-inline {list-style: none; margin:0; padding: 0}\n",
              ".list-inline>li {display: inline-block}\n",
              ".list-inline>li:not(:last-child)::after {content: \"\\00b7\"; padding: 0 .5ex}\n",
              "</style>\n",
              "<ol class=list-inline><li>1</li><li>3</li><li>5</li></ol>\n"
            ],
            "text/markdown": "1. 1\n2. 3\n3. 5\n\n\n",
            "text/latex": "\\begin{enumerate*}\n\\item 1\n\\item 3\n\\item 5\n\\end{enumerate*}\n",
            "text/plain": [
              "[1] 1 3 5"
            ]
          },
          "metadata": {}
        }
      ]
    },
    {
      "cell_type": "markdown",
      "source": [
        "The `rep()` function will created a series of repeated values"
      ],
      "metadata": {
        "id": "C7nDufK9jjwL"
      }
    },
    {
      "cell_type": "code",
      "source": [
        "s3 <- rep(1, 5)\n",
        "s3"
      ],
      "metadata": {
        "id": "qvdVfyEJjmt_",
        "outputId": "096ede59-eb16-4703-d91d-0738776f2219",
        "colab": {
          "base_uri": "https://localhost:8080/",
          "height": 34
        }
      },
      "execution_count": 15,
      "outputs": [
        {
          "output_type": "display_data",
          "data": {
            "text/html": [
              "<style>\n",
              ".list-inline {list-style: none; margin:0; padding: 0}\n",
              ".list-inline>li {display: inline-block}\n",
              ".list-inline>li:not(:last-child)::after {content: \"\\00b7\"; padding: 0 .5ex}\n",
              "</style>\n",
              "<ol class=list-inline><li>1</li><li>1</li><li>1</li><li>1</li><li>1</li></ol>\n"
            ],
            "text/markdown": "1. 1\n2. 1\n3. 1\n4. 1\n5. 1\n\n\n",
            "text/latex": "\\begin{enumerate*}\n\\item 1\n\\item 1\n\\item 1\n\\item 1\n\\item 1\n\\end{enumerate*}\n",
            "text/plain": [
              "[1] 1 1 1 1 1"
            ]
          },
          "metadata": {}
        }
      ]
    },
    {
      "cell_type": "markdown",
      "source": [
        "### Length\n",
        "\n",
        "The number of members in a vector is given by the `length()` function."
      ],
      "metadata": {
        "id": "5pwWxJTvjpgJ"
      }
    },
    {
      "cell_type": "code",
      "source": [
        "length(c(\"aa\", \"bb\", \"cc\", \"dd\", \"ee\"))"
      ],
      "metadata": {
        "id": "ludZUHN2juYI",
        "outputId": "5d8e7322-117f-43c4-f3f2-d2384d9df1c0",
        "colab": {
          "base_uri": "https://localhost:8080/",
          "height": 34
        }
      },
      "execution_count": 16,
      "outputs": [
        {
          "output_type": "display_data",
          "data": {
            "text/html": [
              "5"
            ],
            "text/markdown": "5",
            "text/latex": "5",
            "text/plain": [
              "[1] 5"
            ]
          },
          "metadata": {}
        }
      ]
    },
    {
      "cell_type": "markdown",
      "source": [
        "### Combining Vectors with `c()`\n",
        "\n",
        "Vectors can be combined via the `c()` function"
      ],
      "metadata": {
        "id": "qnwWuexHj1UJ"
      }
    },
    {
      "cell_type": "code",
      "source": [
        "n <- c(2, 3, 5)\n",
        "s <- c(\"aa\", \"bb\", \"cc\", \"dd\", \"ee\")\n",
        "c(n, s)"
      ],
      "metadata": {
        "id": "6KOj5-GEj5AV",
        "outputId": "c033c800-7e1b-4678-b910-fed019d78d09",
        "colab": {
          "base_uri": "https://localhost:8080/",
          "height": 34
        }
      },
      "execution_count": 17,
      "outputs": [
        {
          "output_type": "display_data",
          "data": {
            "text/html": [
              "<style>\n",
              ".list-inline {list-style: none; margin:0; padding: 0}\n",
              ".list-inline>li {display: inline-block}\n",
              ".list-inline>li:not(:last-child)::after {content: \"\\00b7\"; padding: 0 .5ex}\n",
              "</style>\n",
              "<ol class=list-inline><li>'2'</li><li>'3'</li><li>'5'</li><li>'aa'</li><li>'bb'</li><li>'cc'</li><li>'dd'</li><li>'ee'</li></ol>\n"
            ],
            "text/markdown": "1. '2'\n2. '3'\n3. '5'\n4. 'aa'\n5. 'bb'\n6. 'cc'\n7. 'dd'\n8. 'ee'\n\n\n",
            "text/latex": "\\begin{enumerate*}\n\\item '2'\n\\item '3'\n\\item '5'\n\\item 'aa'\n\\item 'bb'\n\\item 'cc'\n\\item 'dd'\n\\item 'ee'\n\\end{enumerate*}\n",
            "text/plain": [
              "[1] \"2\"  \"3\"  \"5\"  \"aa\" \"bb\" \"cc\" \"dd\" \"ee\""
            ]
          },
          "metadata": {}
        }
      ]
    },
    {
      "cell_type": "markdown",
      "source": [
        "### Value Coercion\n",
        "\n",
        "Notice how the numeric values are being coerced into character strings when the two vectors are combined.\n",
        "\n",
        "This is necessary so as to maintain the same primitive data type for members in the same vector."
      ],
      "metadata": {
        "id": "FKyKCRfhkB3h"
      }
    },
    {
      "cell_type": "markdown",
      "source": [
        "### Vector Math\n",
        "\n",
        "Arithmetic operations of vectors are performed member-by-member, i.e., member-wise.\n",
        "\n",
        "For example, suppose we have two vectors a and b."
      ],
      "metadata": {
        "id": "zRi-TOjFkFfR"
      }
    },
    {
      "cell_type": "code",
      "source": [
        "a <- c(1, 3, 5, 7)\n",
        "b <- c(1, 2, 4, 8)"
      ],
      "metadata": {
        "id": "z9_FE4gukI9r"
      },
      "execution_count": 18,
      "outputs": []
    },
    {
      "cell_type": "markdown",
      "source": [
        "Then, if we multiply a by 5, we would get a vector with each of its members multiplied by 5."
      ],
      "metadata": {
        "id": "zLt9cB53kLIc"
      }
    },
    {
      "cell_type": "code",
      "source": [
        "5 * a"
      ],
      "metadata": {
        "id": "wNc6JAYykLuu",
        "outputId": "507cde65-bc70-4769-d179-13fb5ae49b7d",
        "colab": {
          "base_uri": "https://localhost:8080/",
          "height": 34
        }
      },
      "execution_count": 19,
      "outputs": [
        {
          "output_type": "display_data",
          "data": {
            "text/html": [
              "<style>\n",
              ".list-inline {list-style: none; margin:0; padding: 0}\n",
              ".list-inline>li {display: inline-block}\n",
              ".list-inline>li:not(:last-child)::after {content: \"\\00b7\"; padding: 0 .5ex}\n",
              "</style>\n",
              "<ol class=list-inline><li>5</li><li>15</li><li>25</li><li>35</li></ol>\n"
            ],
            "text/markdown": "1. 5\n2. 15\n3. 25\n4. 35\n\n\n",
            "text/latex": "\\begin{enumerate*}\n\\item 5\n\\item 15\n\\item 25\n\\item 35\n\\end{enumerate*}\n",
            "text/plain": [
              "[1]  5 15 25 35"
            ]
          },
          "metadata": {}
        }
      ]
    },
    {
      "cell_type": "markdown",
      "source": [
        "And if we add a and b together, the sum would be a vector whose members are the sum of the corresponding members from a and b."
      ],
      "metadata": {
        "id": "Uoizz0SAkPRE"
      }
    },
    {
      "cell_type": "code",
      "source": [
        "a + b"
      ],
      "metadata": {
        "id": "WCwMG82JkRWp",
        "outputId": "a3fde86d-f832-4a31-e59a-64586389ddc4",
        "colab": {
          "base_uri": "https://localhost:8080/",
          "height": 34
        }
      },
      "execution_count": 20,
      "outputs": [
        {
          "output_type": "display_data",
          "data": {
            "text/html": [
              "<style>\n",
              ".list-inline {list-style: none; margin:0; padding: 0}\n",
              ".list-inline>li {display: inline-block}\n",
              ".list-inline>li:not(:last-child)::after {content: \"\\00b7\"; padding: 0 .5ex}\n",
              "</style>\n",
              "<ol class=list-inline><li>2</li><li>5</li><li>9</li><li>15</li></ol>\n"
            ],
            "text/markdown": "1. 2\n2. 5\n3. 9\n4. 15\n\n\n",
            "text/latex": "\\begin{enumerate*}\n\\item 2\n\\item 5\n\\item 9\n\\item 15\n\\end{enumerate*}\n",
            "text/plain": [
              "[1]  2  5  9 15"
            ]
          },
          "metadata": {}
        }
      ]
    },
    {
      "cell_type": "markdown",
      "source": [
        "Similarly for subtraction, multiplication and division, we get new vectors via member-wise operations."
      ],
      "metadata": {
        "id": "ibqQh6jhkTB8"
      }
    },
    {
      "cell_type": "code",
      "source": [
        "a - b"
      ],
      "metadata": {
        "id": "KZXwNuC4kYzt",
        "outputId": "039a5d12-9841-4dda-b197-d947de01ceaa",
        "colab": {
          "base_uri": "https://localhost:8080/",
          "height": 34
        }
      },
      "execution_count": 21,
      "outputs": [
        {
          "output_type": "display_data",
          "data": {
            "text/html": [
              "<style>\n",
              ".list-inline {list-style: none; margin:0; padding: 0}\n",
              ".list-inline>li {display: inline-block}\n",
              ".list-inline>li:not(:last-child)::after {content: \"\\00b7\"; padding: 0 .5ex}\n",
              "</style>\n",
              "<ol class=list-inline><li>0</li><li>1</li><li>1</li><li>-1</li></ol>\n"
            ],
            "text/markdown": "1. 0\n2. 1\n3. 1\n4. -1\n\n\n",
            "text/latex": "\\begin{enumerate*}\n\\item 0\n\\item 1\n\\item 1\n\\item -1\n\\end{enumerate*}\n",
            "text/plain": [
              "[1]  0  1  1 -1"
            ]
          },
          "metadata": {}
        }
      ]
    },
    {
      "cell_type": "code",
      "source": [
        "a * b"
      ],
      "metadata": {
        "id": "fVErxSvCkZSq",
        "outputId": "7752e950-c992-4e58-dd89-1f4e0275040e",
        "colab": {
          "base_uri": "https://localhost:8080/",
          "height": 34
        }
      },
      "execution_count": 22,
      "outputs": [
        {
          "output_type": "display_data",
          "data": {
            "text/html": [
              "<style>\n",
              ".list-inline {list-style: none; margin:0; padding: 0}\n",
              ".list-inline>li {display: inline-block}\n",
              ".list-inline>li:not(:last-child)::after {content: \"\\00b7\"; padding: 0 .5ex}\n",
              "</style>\n",
              "<ol class=list-inline><li>1</li><li>6</li><li>20</li><li>56</li></ol>\n"
            ],
            "text/markdown": "1. 1\n2. 6\n3. 20\n4. 56\n\n\n",
            "text/latex": "\\begin{enumerate*}\n\\item 1\n\\item 6\n\\item 20\n\\item 56\n\\end{enumerate*}\n",
            "text/plain": [
              "[1]  1  6 20 56"
            ]
          },
          "metadata": {}
        }
      ]
    },
    {
      "cell_type": "code",
      "source": [
        "a / b"
      ],
      "metadata": {
        "id": "jQK5TTnIkZng",
        "outputId": "c088c47d-5a91-4d60-bbae-4fc9babe2ec9",
        "colab": {
          "base_uri": "https://localhost:8080/",
          "height": 34
        }
      },
      "execution_count": 23,
      "outputs": [
        {
          "output_type": "display_data",
          "data": {
            "text/html": [
              "<style>\n",
              ".list-inline {list-style: none; margin:0; padding: 0}\n",
              ".list-inline>li {display: inline-block}\n",
              ".list-inline>li:not(:last-child)::after {content: \"\\00b7\"; padding: 0 .5ex}\n",
              "</style>\n",
              "<ol class=list-inline><li>1</li><li>1.5</li><li>1.25</li><li>0.875</li></ol>\n"
            ],
            "text/markdown": "1. 1\n2. 1.5\n3. 1.25\n4. 0.875\n\n\n",
            "text/latex": "\\begin{enumerate*}\n\\item 1\n\\item 1.5\n\\item 1.25\n\\item 0.875\n\\end{enumerate*}\n",
            "text/plain": [
              "[1] 1.000 1.500 1.250 0.875"
            ]
          },
          "metadata": {}
        }
      ]
    },
    {
      "cell_type": "markdown",
      "source": [
        "### The Recycling Rule\n",
        "\n",
        "If two vectors are of unequal length, the shorter one will be recycled in order to match the longer vector.\n",
        "\n",
        "For example, the following vectors u and v have different lengths, and their sum is computed by recycling values of the shorter vector u."
      ],
      "metadata": {
        "id": "MNs_s2U5kdWG"
      }
    },
    {
      "cell_type": "code",
      "source": [
        "u <- c(10, 20, 30)\n",
        "v <- c(1, 2, 3, 4, 5, 6, 7, 8, 9)\n",
        "u + v"
      ],
      "metadata": {
        "id": "MOSP_y7Vkh9Y",
        "outputId": "311c1334-9851-41ab-d6a1-c210c1cb1ded",
        "colab": {
          "base_uri": "https://localhost:8080/",
          "height": 34
        }
      },
      "execution_count": 24,
      "outputs": [
        {
          "output_type": "display_data",
          "data": {
            "text/html": [
              "<style>\n",
              ".list-inline {list-style: none; margin:0; padding: 0}\n",
              ".list-inline>li {display: inline-block}\n",
              ".list-inline>li:not(:last-child)::after {content: \"\\00b7\"; padding: 0 .5ex}\n",
              "</style>\n",
              "<ol class=list-inline><li>11</li><li>22</li><li>33</li><li>14</li><li>25</li><li>36</li><li>17</li><li>28</li><li>39</li></ol>\n"
            ],
            "text/markdown": "1. 11\n2. 22\n3. 33\n4. 14\n5. 25\n6. 36\n7. 17\n8. 28\n9. 39\n\n\n",
            "text/latex": "\\begin{enumerate*}\n\\item 11\n\\item 22\n\\item 33\n\\item 14\n\\item 25\n\\item 36\n\\item 17\n\\item 28\n\\item 39\n\\end{enumerate*}\n",
            "text/plain": [
              "[1] 11 22 33 14 25 36 17 28 39"
            ]
          },
          "metadata": {}
        }
      ]
    },
    {
      "cell_type": "markdown",
      "source": [
        "### Vector Indexes\n",
        "\n",
        "We retrieve values in a vector by declaring an index inside a single square bracket index [] operator.\n",
        "\n",
        "**Vector indexes are 1-based. ALL INDEXING IN R IS 1-BASED.**"
      ],
      "metadata": {
        "id": "ikWC6nxKkkEC"
      }
    },
    {
      "cell_type": "code",
      "source": [
        "s <- c(\"aa\", \"bb\", \"cc\", \"dd\", \"ee\")\n",
        "s[3]"
      ],
      "metadata": {
        "id": "ZL-U_27QknPH",
        "outputId": "43e0a6ae-b775-4bd3-93a6-e6e0f88261e8",
        "colab": {
          "base_uri": "https://localhost:8080/",
          "height": 34
        }
      },
      "execution_count": 25,
      "outputs": [
        {
          "output_type": "display_data",
          "data": {
            "text/html": [
              "'cc'"
            ],
            "text/markdown": "'cc'",
            "text/latex": "'cc'",
            "text/plain": [
              "[1] \"cc\""
            ]
          },
          "metadata": {}
        }
      ]
    },
    {
      "cell_type": "markdown",
      "source": [
        "### Negative Indexing\n",
        "\n",
        "Unlike Python, if the index is negative, it will remove the member whose position has the same absolute value as the negative index.\n",
        "\n",
        "It really does mean subtraction!\n",
        "\n",
        "For example, the following creates a vector slice with the third member removed."
      ],
      "metadata": {
        "id": "VJrOT-49kpBc"
      }
    },
    {
      "cell_type": "code",
      "source": [
        "s[-3]"
      ],
      "metadata": {
        "id": "jliUBjKrkseS",
        "outputId": "7f693aab-668a-49df-d5ee-739b11141342",
        "colab": {
          "base_uri": "https://localhost:8080/",
          "height": 34
        }
      },
      "execution_count": 26,
      "outputs": [
        {
          "output_type": "display_data",
          "data": {
            "text/html": [
              "<style>\n",
              ".list-inline {list-style: none; margin:0; padding: 0}\n",
              ".list-inline>li {display: inline-block}\n",
              ".list-inline>li:not(:last-child)::after {content: \"\\00b7\"; padding: 0 .5ex}\n",
              "</style>\n",
              "<ol class=list-inline><li>'aa'</li><li>'bb'</li><li>'dd'</li><li>'ee'</li></ol>\n"
            ],
            "text/markdown": "1. 'aa'\n2. 'bb'\n3. 'dd'\n4. 'ee'\n\n\n",
            "text/latex": "\\begin{enumerate*}\n\\item 'aa'\n\\item 'bb'\n\\item 'dd'\n\\item 'ee'\n\\end{enumerate*}\n",
            "text/plain": [
              "[1] \"aa\" \"bb\" \"dd\" \"ee\""
            ]
          },
          "metadata": {}
        }
      ]
    },
    {
      "cell_type": "markdown",
      "source": [
        "### Out-of-Range Indexes\n",
        "\n",
        "Values for out-of-range indexes are reported as `NA`.\n",
        "\n",
        "Empty values in R are noted by `NA` (compared to `NaN` in Python)."
      ],
      "metadata": {
        "id": "Tnm5TOREkvCW"
      }
    },
    {
      "cell_type": "code",
      "source": [
        "s[10]"
      ],
      "metadata": {
        "id": "53_Dq1qVky7E",
        "outputId": "e8a5da48-a85c-4ab0-8d19-f0f0718733cf",
        "colab": {
          "base_uri": "https://localhost:8080/",
          "height": 34
        }
      },
      "execution_count": 27,
      "outputs": [
        {
          "output_type": "display_data",
          "data": {
            "text/html": [
              "NA"
            ],
            "text/markdown": "NA",
            "text/latex": "NA",
            "text/plain": [
              "[1] NA"
            ]
          },
          "metadata": {}
        }
      ]
    },
    {
      "cell_type": "markdown",
      "source": [
        "### Numeric Index Vectors\n",
        "\n",
        "A new vector can be sliced from a given vector with a numeric vector passed to the indexing operator.\n",
        "\n",
        "Index vectors consist of member positions of the original vector to be retrieved.\n",
        "\n",
        "Here we see how to retrieve a vector slice containing the second and third members of a given vector `s`."
      ],
      "metadata": {
        "id": "aeDsCJy_kzyC"
      }
    },
    {
      "cell_type": "code",
      "source": [
        "s <- c(\"aa\", \"bb\", \"cc\", \"dd\", \"ee\")\n",
        "s[c(2, 3)]"
      ],
      "metadata": {
        "id": "MFiI6nOak4ex",
        "outputId": "043fab59-cb23-4ee8-b9d1-e36754dab83a",
        "colab": {
          "base_uri": "https://localhost:8080/",
          "height": 34
        }
      },
      "execution_count": 28,
      "outputs": [
        {
          "output_type": "display_data",
          "data": {
            "text/html": [
              "<style>\n",
              ".list-inline {list-style: none; margin:0; padding: 0}\n",
              ".list-inline>li {display: inline-block}\n",
              ".list-inline>li:not(:last-child)::after {content: \"\\00b7\"; padding: 0 .5ex}\n",
              "</style>\n",
              "<ol class=list-inline><li>'bb'</li><li>'cc'</li></ol>\n"
            ],
            "text/markdown": "1. 'bb'\n2. 'cc'\n\n\n",
            "text/latex": "\\begin{enumerate*}\n\\item 'bb'\n\\item 'cc'\n\\end{enumerate*}\n",
            "text/plain": [
              "[1] \"bb\" \"cc\""
            ]
          },
          "metadata": {}
        }
      ]
    },
    {
      "cell_type": "markdown",
      "source": [
        "### Duplicate Indexes\n",
        "\n",
        "The index vector allows duplicate values. Hence the following retrieves a member twice in one operation."
      ],
      "metadata": {
        "id": "yWzvVpllk60Q"
      }
    },
    {
      "cell_type": "code",
      "source": [
        "s[c(2, 3, 3)]"
      ],
      "metadata": {
        "id": "dlEJ9zWFk_63",
        "outputId": "a0fd522b-0f64-491a-e9d2-365790726de7",
        "colab": {
          "base_uri": "https://localhost:8080/",
          "height": 34
        }
      },
      "execution_count": 29,
      "outputs": [
        {
          "output_type": "display_data",
          "data": {
            "text/html": [
              "<style>\n",
              ".list-inline {list-style: none; margin:0; padding: 0}\n",
              ".list-inline>li {display: inline-block}\n",
              ".list-inline>li:not(:last-child)::after {content: \"\\00b7\"; padding: 0 .5ex}\n",
              "</style>\n",
              "<ol class=list-inline><li>'bb'</li><li>'cc'</li><li>'cc'</li></ol>\n"
            ],
            "text/markdown": "1. 'bb'\n2. 'cc'\n3. 'cc'\n\n\n",
            "text/latex": "\\begin{enumerate*}\n\\item 'bb'\n\\item 'cc'\n\\item 'cc'\n\\end{enumerate*}\n",
            "text/plain": [
              "[1] \"bb\" \"cc\" \"cc\""
            ]
          },
          "metadata": {}
        }
      ]
    },
    {
      "cell_type": "markdown",
      "source": [
        "### Out-of-Order Indexes\n",
        "\n",
        "The index vector can even be out-of-order. Here is a vector slice with the order of first and second members reversed."
      ],
      "metadata": {
        "id": "H0o-sSWRlAml"
      }
    },
    {
      "cell_type": "code",
      "source": [
        "s[c(2, 1, 3)]"
      ],
      "metadata": {
        "id": "0aNJ4UIwlF8v",
        "outputId": "593c5b86-02ae-4650-89b1-221bec1c4656",
        "colab": {
          "base_uri": "https://localhost:8080/",
          "height": 34
        }
      },
      "execution_count": 30,
      "outputs": [
        {
          "output_type": "display_data",
          "data": {
            "text/html": [
              "<style>\n",
              ".list-inline {list-style: none; margin:0; padding: 0}\n",
              ".list-inline>li {display: inline-block}\n",
              ".list-inline>li:not(:last-child)::after {content: \"\\00b7\"; padding: 0 .5ex}\n",
              "</style>\n",
              "<ol class=list-inline><li>'bb'</li><li>'aa'</li><li>'cc'</li></ol>\n"
            ],
            "text/markdown": "1. 'bb'\n2. 'aa'\n3. 'cc'\n\n\n",
            "text/latex": "\\begin{enumerate*}\n\\item 'bb'\n\\item 'aa'\n\\item 'cc'\n\\end{enumerate*}\n",
            "text/plain": [
              "[1] \"bb\" \"aa\" \"cc\""
            ]
          },
          "metadata": {}
        }
      ]
    },
    {
      "cell_type": "markdown",
      "source": [
        "### Range Index\n",
        "\n",
        "To produce a vector slice between two indexes, we can use the colon operator \":\". This can be convenient for situations involving large vectors."
      ],
      "metadata": {
        "id": "ytztbl5jlG9W"
      }
    },
    {
      "cell_type": "code",
      "source": [
        "s[2:4]"
      ],
      "metadata": {
        "id": "EEokXzbBlJ53",
        "outputId": "cf281ad3-c8d9-4e88-fd74-4438970eeb3f",
        "colab": {
          "base_uri": "https://localhost:8080/",
          "height": 34
        }
      },
      "execution_count": 31,
      "outputs": [
        {
          "output_type": "display_data",
          "data": {
            "text/html": [
              "<style>\n",
              ".list-inline {list-style: none; margin:0; padding: 0}\n",
              ".list-inline>li {display: inline-block}\n",
              ".list-inline>li:not(:last-child)::after {content: \"\\00b7\"; padding: 0 .5ex}\n",
              "</style>\n",
              "<ol class=list-inline><li>'bb'</li><li>'cc'</li><li>'dd'</li></ol>\n"
            ],
            "text/markdown": "1. 'bb'\n2. 'cc'\n3. 'dd'\n\n\n",
            "text/latex": "\\begin{enumerate*}\n\\item 'bb'\n\\item 'cc'\n\\item 'dd'\n\\end{enumerate*}\n",
            "text/plain": [
              "[1] \"bb\" \"cc\" \"dd\""
            ]
          },
          "metadata": {}
        }
      ]
    },
    {
      "cell_type": "markdown",
      "source": [
        "### Logical Index Vectors\n",
        "\n",
        "A new vector can be sliced from a given vector with a logical index vector.\n",
        "\n",
        "The logical vector must the same length as the original vector.\n",
        "\n",
        "Its members are `TRUE` if the corresponding members in the original vector are to be included in the slice, and `FALSE` if otherwise.\n",
        "\n",
        "> This is what we called boolean filtering and masking in Python.\n",
        "\n",
        "For example, consider the following vector `s` of length 5."
      ],
      "metadata": {
        "id": "pBrghVEElMRb"
      }
    },
    {
      "cell_type": "code",
      "source": [
        "s <- c(\"aa\", \"bb\", \"cc\", \"dd\", \"ee\")"
      ],
      "metadata": {
        "id": "Gv2wDb5DlUak"
      },
      "execution_count": 32,
      "outputs": []
    },
    {
      "cell_type": "markdown",
      "source": [
        "To retrieve the second and fouroth members of `s`, we define a logical vector L of the same length, and have its second and fourth members set as TRUE."
      ],
      "metadata": {
        "id": "InLwnL2ilXLW"
      }
    },
    {
      "cell_type": "code",
      "source": [
        "L = c(FALSE, TRUE, FALSE, TRUE, FALSE)\n",
        "s[L]"
      ],
      "metadata": {
        "id": "umCvB6OylakS",
        "outputId": "67c8c231-c2ad-457e-aadd-572157c12877",
        "colab": {
          "base_uri": "https://localhost:8080/",
          "height": 34
        }
      },
      "execution_count": 33,
      "outputs": [
        {
          "output_type": "display_data",
          "data": {
            "text/html": [
              "<style>\n",
              ".list-inline {list-style: none; margin:0; padding: 0}\n",
              ".list-inline>li {display: inline-block}\n",
              ".list-inline>li:not(:last-child)::after {content: \"\\00b7\"; padding: 0 .5ex}\n",
              "</style>\n",
              "<ol class=list-inline><li>'bb'</li><li>'dd'</li></ol>\n"
            ],
            "text/markdown": "1. 'bb'\n2. 'dd'\n\n\n",
            "text/latex": "\\begin{enumerate*}\n\\item 'bb'\n\\item 'dd'\n\\end{enumerate*}\n",
            "text/plain": [
              "[1] \"bb\" \"dd\""
            ]
          },
          "metadata": {}
        }
      ]
    },
    {
      "cell_type": "markdown",
      "source": [
        "The code can be abbreviated into a single line:"
      ],
      "metadata": {
        "id": "DMm3RkOUldv7"
      }
    },
    {
      "cell_type": "code",
      "source": [
        "s[c(FALSE, TRUE, FALSE, TRUE, FALSE)]"
      ],
      "metadata": {
        "id": "kQYksS_Clf0d",
        "outputId": "a99dcb37-7fbe-4f8f-e5f9-a70fa58044dd",
        "colab": {
          "base_uri": "https://localhost:8080/",
          "height": 34
        }
      },
      "execution_count": 34,
      "outputs": [
        {
          "output_type": "display_data",
          "data": {
            "text/html": [
              "<style>\n",
              ".list-inline {list-style: none; margin:0; padding: 0}\n",
              ".list-inline>li {display: inline-block}\n",
              ".list-inline>li:not(:last-child)::after {content: \"\\00b7\"; padding: 0 .5ex}\n",
              "</style>\n",
              "<ol class=list-inline><li>'bb'</li><li>'dd'</li></ol>\n"
            ],
            "text/markdown": "1. 'bb'\n2. 'dd'\n\n\n",
            "text/latex": "\\begin{enumerate*}\n\\item 'bb'\n\\item 'dd'\n\\end{enumerate*}\n",
            "text/plain": [
              "[1] \"bb\" \"dd\""
            ]
          },
          "metadata": {}
        }
      ]
    },
    {
      "cell_type": "markdown",
      "source": [
        "### Naming Vector Members with `names()`\n",
        "\n",
        "We can assign names to vector members."
      ],
      "metadata": {
        "id": "RZWkBWVhlsgu"
      }
    },
    {
      "cell_type": "code",
      "source": [
        "v <- c(\"Mary\", \"Sue\")\n",
        "names(v) <- c(\"First\", \"Last\")\n",
        "v"
      ],
      "metadata": {
        "id": "dChdFsV5luXK",
        "outputId": "8a2cd220-1ceb-41d1-9e6f-be14e17ca417",
        "colab": {
          "base_uri": "https://localhost:8080/",
          "height": 34
        }
      },
      "execution_count": 35,
      "outputs": [
        {
          "output_type": "display_data",
          "data": {
            "text/html": [
              "<style>\n",
              ".dl-inline {width: auto; margin:0; padding: 0}\n",
              ".dl-inline>dt, .dl-inline>dd {float: none; width: auto; display: inline-block}\n",
              ".dl-inline>dt::after {content: \":\\0020\"; padding-right: .5ex}\n",
              ".dl-inline>dt:not(:first-of-type) {padding-left: .5ex}\n",
              "</style><dl class=dl-inline><dt>First</dt><dd>'Mary'</dd><dt>Last</dt><dd>'Sue'</dd></dl>\n"
            ],
            "text/markdown": "First\n:   'Mary'Last\n:   'Sue'\n\n",
            "text/latex": "\\begin{description*}\n\\item[First] 'Mary'\n\\item[Last] 'Sue'\n\\end{description*}\n",
            "text/plain": [
              " First   Last \n",
              "\"Mary\"  \"Sue\" "
            ]
          },
          "metadata": {}
        }
      ]
    },
    {
      "cell_type": "markdown",
      "source": [
        "Now we can retrieve the first member by name."
      ],
      "metadata": {
        "id": "XgGy4FvSltc4"
      }
    },
    {
      "cell_type": "code",
      "source": [
        "v[\"First\"]"
      ],
      "metadata": {
        "id": "0vsbMw8PlvCt",
        "outputId": "e717b2f8-dfa1-423d-a9f4-42671a416bd1",
        "colab": {
          "base_uri": "https://localhost:8080/",
          "height": 34
        }
      },
      "execution_count": 36,
      "outputs": [
        {
          "output_type": "display_data",
          "data": {
            "text/html": [
              "<strong>First:</strong> 'Mary'"
            ],
            "text/markdown": "**First:** 'Mary'",
            "text/latex": "\\textbf{First:} 'Mary'",
            "text/plain": [
              " First \n",
              "\"Mary\" "
            ]
          },
          "metadata": {}
        }
      ]
    },
    {
      "cell_type": "markdown",
      "source": [
        "We can also reverse the order with a character string index vector."
      ],
      "metadata": {
        "id": "dNLrr0cKltyf"
      }
    },
    {
      "cell_type": "code",
      "source": [
        "v[c(\"Last\", \"First\")]"
      ],
      "metadata": {
        "id": "om1y5hZSlu0X",
        "outputId": "87a8d051-137a-43ce-d9bd-2dc11cf3f85f",
        "colab": {
          "base_uri": "https://localhost:8080/",
          "height": 34
        }
      },
      "execution_count": 37,
      "outputs": [
        {
          "output_type": "display_data",
          "data": {
            "text/html": [
              "<style>\n",
              ".dl-inline {width: auto; margin:0; padding: 0}\n",
              ".dl-inline>dt, .dl-inline>dd {float: none; width: auto; display: inline-block}\n",
              ".dl-inline>dt::after {content: \":\\0020\"; padding-right: .5ex}\n",
              ".dl-inline>dt:not(:first-of-type) {padding-left: .5ex}\n",
              "</style><dl class=dl-inline><dt>Last</dt><dd>'Sue'</dd><dt>First</dt><dd>'Mary'</dd></dl>\n"
            ],
            "text/markdown": "Last\n:   'Sue'First\n:   'Mary'\n\n",
            "text/latex": "\\begin{description*}\n\\item[Last] 'Sue'\n\\item[First] 'Mary'\n\\end{description*}\n",
            "text/plain": [
              "  Last  First \n",
              " \"Sue\" \"Mary\" "
            ]
          },
          "metadata": {}
        }
      ]
    },
    {
      "cell_type": "markdown",
      "source": [
        "## Lists\n",
        "\n",
        "A list is a generic vector containing other objects.\n",
        "\n",
        "The following variable `x` is a list containing copies of three vectors `n`, `s`, `b`, and a numeric value 3."
      ],
      "metadata": {
        "id": "W6wNAHwHmAGG"
      }
    },
    {
      "cell_type": "code",
      "source": [
        "n <- c(2, 3, 5)\n",
        "s <- c(\"aa\", \"bb\", \"cc\", \"dd\", \"ee\")\n",
        "b <- c(TRUE, FALSE, TRUE, FALSE, FALSE)\n",
        "\n",
        "x <- list(n, s, b, 3)   # x contains copies of n, s, b\n",
        "x"
      ],
      "metadata": {
        "id": "M1bFuAgUmH-x",
        "outputId": "675e9e80-cfe8-4542-8b4c-136752816ca8",
        "colab": {
          "base_uri": "https://localhost:8080/",
          "height": 114
        }
      },
      "execution_count": 38,
      "outputs": [
        {
          "output_type": "display_data",
          "data": {
            "text/html": [
              "<ol>\n",
              "\t<li><style>\n",
              ".list-inline {list-style: none; margin:0; padding: 0}\n",
              ".list-inline>li {display: inline-block}\n",
              ".list-inline>li:not(:last-child)::after {content: \"\\00b7\"; padding: 0 .5ex}\n",
              "</style>\n",
              "<ol class=list-inline><li>2</li><li>3</li><li>5</li></ol>\n",
              "</li>\n",
              "\t<li><style>\n",
              ".list-inline {list-style: none; margin:0; padding: 0}\n",
              ".list-inline>li {display: inline-block}\n",
              ".list-inline>li:not(:last-child)::after {content: \"\\00b7\"; padding: 0 .5ex}\n",
              "</style>\n",
              "<ol class=list-inline><li>'aa'</li><li>'bb'</li><li>'cc'</li><li>'dd'</li><li>'ee'</li></ol>\n",
              "</li>\n",
              "\t<li><style>\n",
              ".list-inline {list-style: none; margin:0; padding: 0}\n",
              ".list-inline>li {display: inline-block}\n",
              ".list-inline>li:not(:last-child)::after {content: \"\\00b7\"; padding: 0 .5ex}\n",
              "</style>\n",
              "<ol class=list-inline><li>TRUE</li><li>FALSE</li><li>TRUE</li><li>FALSE</li><li>FALSE</li></ol>\n",
              "</li>\n",
              "\t<li>3</li>\n",
              "</ol>\n"
            ],
            "text/markdown": "1. 1. 2\n2. 3\n3. 5\n\n\n\n2. 1. 'aa'\n2. 'bb'\n3. 'cc'\n4. 'dd'\n5. 'ee'\n\n\n\n3. 1. TRUE\n2. FALSE\n3. TRUE\n4. FALSE\n5. FALSE\n\n\n\n4. 3\n\n\n",
            "text/latex": "\\begin{enumerate}\n\\item \\begin{enumerate*}\n\\item 2\n\\item 3\n\\item 5\n\\end{enumerate*}\n\n\\item \\begin{enumerate*}\n\\item 'aa'\n\\item 'bb'\n\\item 'cc'\n\\item 'dd'\n\\item 'ee'\n\\end{enumerate*}\n\n\\item \\begin{enumerate*}\n\\item TRUE\n\\item FALSE\n\\item TRUE\n\\item FALSE\n\\item FALSE\n\\end{enumerate*}\n\n\\item 3\n\\end{enumerate}\n",
            "text/plain": [
              "[[1]]\n",
              "[1] 2 3 5\n",
              "\n",
              "[[2]]\n",
              "[1] \"aa\" \"bb\" \"cc\" \"dd\" \"ee\"\n",
              "\n",
              "[[3]]\n",
              "[1]  TRUE FALSE  TRUE FALSE FALSE\n",
              "\n",
              "[[4]]\n",
              "[1] 3\n"
            ]
          },
          "metadata": {}
        }
      ]
    },
    {
      "cell_type": "markdown",
      "source": [
        "Note that odd bracket notation.\n",
        "\n",
        "Each list member contains a vector."
      ],
      "metadata": {
        "id": "Kb-e_mSjmIvM"
      }
    },
    {
      "cell_type": "markdown",
      "source": [
        "### List Slicing\n",
        "\n",
        "We retrieve a list slice with the single square bracket [] operator.\n",
        "\n",
        "The following is a slice containing the second member of x, which is a copy of s."
      ],
      "metadata": {
        "id": "aBylVHgdmLcZ"
      }
    },
    {
      "cell_type": "code",
      "source": [
        "x[2]"
      ],
      "metadata": {
        "id": "0LA51Xv8mPun",
        "outputId": "37a68c48-ad67-4167-fe53-73c0f5ceebcc",
        "colab": {
          "base_uri": "https://localhost:8080/",
          "height": 62
        }
      },
      "execution_count": 39,
      "outputs": [
        {
          "output_type": "display_data",
          "data": {
            "text/html": [
              "<ol>\n",
              "\t<li><style>\n",
              ".list-inline {list-style: none; margin:0; padding: 0}\n",
              ".list-inline>li {display: inline-block}\n",
              ".list-inline>li:not(:last-child)::after {content: \"\\00b7\"; padding: 0 .5ex}\n",
              "</style>\n",
              "<ol class=list-inline><li>'aa'</li><li>'bb'</li><li>'cc'</li><li>'dd'</li><li>'ee'</li></ol>\n",
              "</li>\n",
              "</ol>\n"
            ],
            "text/markdown": "1. 1. 'aa'\n2. 'bb'\n3. 'cc'\n4. 'dd'\n5. 'ee'\n\n\n\n\n\n",
            "text/latex": "\\begin{enumerate}\n\\item \\begin{enumerate*}\n\\item 'aa'\n\\item 'bb'\n\\item 'cc'\n\\item 'dd'\n\\item 'ee'\n\\end{enumerate*}\n\n\\end{enumerate}\n",
            "text/plain": [
              "[[1]]\n",
              "[1] \"aa\" \"bb\" \"cc\" \"dd\" \"ee\"\n"
            ]
          },
          "metadata": {}
        }
      ]
    },
    {
      "cell_type": "markdown",
      "source": [
        "With an index vector, we can retrieve a slice with multiple members.\n",
        "\n",
        "Here a slice containing the second and fourth members of x."
      ],
      "metadata": {
        "id": "6FxGYRyQmSlt"
      }
    },
    {
      "cell_type": "code",
      "source": [
        "x[c(2, 4)]"
      ],
      "metadata": {
        "id": "Q_QNF8-WmVIQ",
        "outputId": "ab33c897-fcb6-414c-9307-3f2a20b40869",
        "colab": {
          "base_uri": "https://localhost:8080/",
          "height": 80
        }
      },
      "execution_count": 40,
      "outputs": [
        {
          "output_type": "display_data",
          "data": {
            "text/html": [
              "<ol>\n",
              "\t<li><style>\n",
              ".list-inline {list-style: none; margin:0; padding: 0}\n",
              ".list-inline>li {display: inline-block}\n",
              ".list-inline>li:not(:last-child)::after {content: \"\\00b7\"; padding: 0 .5ex}\n",
              "</style>\n",
              "<ol class=list-inline><li>'aa'</li><li>'bb'</li><li>'cc'</li><li>'dd'</li><li>'ee'</li></ol>\n",
              "</li>\n",
              "\t<li>3</li>\n",
              "</ol>\n"
            ],
            "text/markdown": "1. 1. 'aa'\n2. 'bb'\n3. 'cc'\n4. 'dd'\n5. 'ee'\n\n\n\n2. 3\n\n\n",
            "text/latex": "\\begin{enumerate}\n\\item \\begin{enumerate*}\n\\item 'aa'\n\\item 'bb'\n\\item 'cc'\n\\item 'dd'\n\\item 'ee'\n\\end{enumerate*}\n\n\\item 3\n\\end{enumerate}\n",
            "text/plain": [
              "[[1]]\n",
              "[1] \"aa\" \"bb\" \"cc\" \"dd\" \"ee\"\n",
              "\n",
              "[[2]]\n",
              "[1] 3\n"
            ]
          },
          "metadata": {}
        }
      ]
    },
    {
      "cell_type": "markdown",
      "source": [
        "### Member Reference with `[[]]`\n",
        "\n",
        "To reference a list member directly, we use the double square bracket `[[]]` operator.\n",
        "\n",
        "The following object `x[[2]]` is the second member of x.\n",
        "\n",
        "In other words, `x[[2]]` is a copy of `s`, but is not a slice containing `s` or its copy."
      ],
      "metadata": {
        "id": "G85szKWxmZy4"
      }
    },
    {
      "cell_type": "code",
      "source": [
        "x[[2]]"
      ],
      "metadata": {
        "id": "vfTxplm_mgqt",
        "outputId": "63c082fb-4e54-4a0f-b4f2-7beb8830d82e",
        "colab": {
          "base_uri": "https://localhost:8080/",
          "height": 34
        }
      },
      "execution_count": 41,
      "outputs": [
        {
          "output_type": "display_data",
          "data": {
            "text/html": [
              "<style>\n",
              ".list-inline {list-style: none; margin:0; padding: 0}\n",
              ".list-inline>li {display: inline-block}\n",
              ".list-inline>li:not(:last-child)::after {content: \"\\00b7\"; padding: 0 .5ex}\n",
              "</style>\n",
              "<ol class=list-inline><li>'aa'</li><li>'bb'</li><li>'cc'</li><li>'dd'</li><li>'ee'</li></ol>\n"
            ],
            "text/markdown": "1. 'aa'\n2. 'bb'\n3. 'cc'\n4. 'dd'\n5. 'ee'\n\n\n",
            "text/latex": "\\begin{enumerate*}\n\\item 'aa'\n\\item 'bb'\n\\item 'cc'\n\\item 'dd'\n\\item 'ee'\n\\end{enumerate*}\n",
            "text/plain": [
              "[1] \"aa\" \"bb\" \"cc\" \"dd\" \"ee\""
            ]
          },
          "metadata": {}
        }
      ]
    },
    {
      "cell_type": "markdown",
      "source": [
        "We can modify its contens directly"
      ],
      "metadata": {
        "id": "XVZq6vlQmiaq"
      }
    },
    {
      "cell_type": "code",
      "source": [
        "x[[2]][1] = \"ta\"\n",
        "x[[2]]"
      ],
      "metadata": {
        "id": "bRM_JzZBmkGx",
        "outputId": "f612aaaf-4575-44d8-8f57-32d606ba2981",
        "colab": {
          "base_uri": "https://localhost:8080/",
          "height": 34
        }
      },
      "execution_count": 42,
      "outputs": [
        {
          "output_type": "display_data",
          "data": {
            "text/html": [
              "<style>\n",
              ".list-inline {list-style: none; margin:0; padding: 0}\n",
              ".list-inline>li {display: inline-block}\n",
              ".list-inline>li:not(:last-child)::after {content: \"\\00b7\"; padding: 0 .5ex}\n",
              "</style>\n",
              "<ol class=list-inline><li>'ta'</li><li>'bb'</li><li>'cc'</li><li>'dd'</li><li>'ee'</li></ol>\n"
            ],
            "text/markdown": "1. 'ta'\n2. 'bb'\n3. 'cc'\n4. 'dd'\n5. 'ee'\n\n\n",
            "text/latex": "\\begin{enumerate*}\n\\item 'ta'\n\\item 'bb'\n\\item 'cc'\n\\item 'dd'\n\\item 'ee'\n\\end{enumerate*}\n",
            "text/plain": [
              "[1] \"ta\" \"bb\" \"cc\" \"dd\" \"ee\""
            ]
          },
          "metadata": {}
        }
      ]
    },
    {
      "cell_type": "markdown",
      "source": [
        "And `s` is unaffected."
      ],
      "metadata": {
        "id": "Q2S2dCMBml-1"
      }
    },
    {
      "cell_type": "code",
      "source": [
        "s"
      ],
      "metadata": {
        "id": "aXmdqfprmnoR",
        "outputId": "d8d2a43a-78b0-42bb-b21f-4e13560e21ee",
        "colab": {
          "base_uri": "https://localhost:8080/",
          "height": 34
        }
      },
      "execution_count": 43,
      "outputs": [
        {
          "output_type": "display_data",
          "data": {
            "text/html": [
              "<style>\n",
              ".list-inline {list-style: none; margin:0; padding: 0}\n",
              ".list-inline>li {display: inline-block}\n",
              ".list-inline>li:not(:last-child)::after {content: \"\\00b7\"; padding: 0 .5ex}\n",
              "</style>\n",
              "<ol class=list-inline><li>'aa'</li><li>'bb'</li><li>'cc'</li><li>'dd'</li><li>'ee'</li></ol>\n"
            ],
            "text/markdown": "1. 'aa'\n2. 'bb'\n3. 'cc'\n4. 'dd'\n5. 'ee'\n\n\n",
            "text/latex": "\\begin{enumerate*}\n\\item 'aa'\n\\item 'bb'\n\\item 'cc'\n\\item 'dd'\n\\item 'ee'\n\\end{enumerate*}\n",
            "text/plain": [
              "[1] \"aa\" \"bb\" \"cc\" \"dd\" \"ee\""
            ]
          },
          "metadata": {}
        }
      ]
    }
  ]
}