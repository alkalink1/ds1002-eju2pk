{
  "cells": [
    {
      "cell_type": "markdown",
      "metadata": {
        "id": "view-in-github",
        "colab_type": "text"
      },
      "source": [
        "<a href=\"https://colab.research.google.com/github/alkalink1/ds1002-eju2pk/blob/main/notebooks/week8-warm_up_student.ipynb\" target=\"_parent\"><img src=\"https://colab.research.google.com/assets/colab-badge.svg\" alt=\"Open In Colab\"/></a>"
      ]
    },
    {
      "cell_type": "markdown",
      "metadata": {
        "id": "zjanBhX9WjtJ"
      },
      "source": [
        "# Warm-up - Boolean Operators\n",
        "\n",
        "Python has THREE boolean operators, also known as \"logical\" operators:\n",
        "\n",
        "- `and`\n",
        "- `or`\n",
        "- `not`\n",
        "\n",
        "Evaluating other python expressions using these boolean operators returns a \"boolean\" reply: `True` or `False`."
      ]
    },
    {
      "cell_type": "code",
      "execution_count": 1,
      "metadata": {
        "id": "5nYXTcRDWjtL"
      },
      "outputs": [],
      "source": [
        "# Define variables\n",
        "my_float = 18.0\n",
        "your_float = 14.0"
      ]
    },
    {
      "cell_type": "markdown",
      "metadata": {
        "id": "BL2wPegvWjtM"
      },
      "source": [
        "1. `my_float` bigger than 10 and smaller than 18?  \n",
        "(use a boolean operator)"
      ]
    },
    {
      "cell_type": "code",
      "execution_count": 4,
      "metadata": {
        "id": "UXuoQsaIWjtM",
        "outputId": "20e7a565-7882-413f-86e8-532455507c22",
        "colab": {
          "base_uri": "https://localhost:8080/"
        }
      },
      "outputs": [
        {
          "output_type": "stream",
          "name": "stdout",
          "text": [
            "True\n",
            "True\n"
          ]
        }
      ],
      "source": [
        "print(10 < my_float <= 18)\n",
        "print(my_float > 10 and my_float <= 18)"
      ]
    },
    {
      "cell_type": "markdown",
      "metadata": {
        "id": "VMJqD1mOWjtM"
      },
      "source": [
        "2. `my_float` smaller than 14 or bigger than 17?  \n",
        "(use a boolean operator)"
      ]
    },
    {
      "cell_type": "code",
      "execution_count": 5,
      "metadata": {
        "id": "UeSicTQuWjtM",
        "outputId": "3628c2c9-14f5-4819-8373-8f3c4d3314cd",
        "colab": {
          "base_uri": "https://localhost:8080/"
        }
      },
      "outputs": [
        {
          "output_type": "stream",
          "name": "stdout",
          "text": [
            "True\n"
          ]
        }
      ],
      "source": [
        "print(my_float < 14 or my_float > 17)"
      ]
    },
    {
      "cell_type": "markdown",
      "metadata": {
        "id": "eqV9yn6BWjtM"
      },
      "source": [
        "3. Double `my_float` smaller than triple `your_float`?"
      ]
    },
    {
      "cell_type": "code",
      "execution_count": 7,
      "metadata": {
        "id": "Xia2m-nfWjtM",
        "outputId": "de6803a2-b750-411b-c9e7-184556257e93",
        "colab": {
          "base_uri": "https://localhost:8080/"
        }
      },
      "outputs": [
        {
          "output_type": "execute_result",
          "data": {
            "text/plain": [
              "True"
            ]
          },
          "metadata": {},
          "execution_count": 7
        }
      ],
      "source": [
        "my_float * 2 < your_float * 3"
      ]
    },
    {
      "cell_type": "code",
      "source": [
        "my_float == your_float"
      ],
      "metadata": {
        "id": "OCAyEoPJySft",
        "outputId": "9f9f55cd-9d66-46a5-b131-ba19c7e3d0ce",
        "colab": {
          "base_uri": "https://localhost:8080/"
        }
      },
      "execution_count": 8,
      "outputs": [
        {
          "output_type": "execute_result",
          "data": {
            "text/plain": [
              "False"
            ]
          },
          "metadata": {},
          "execution_count": 8
        }
      ]
    },
    {
      "cell_type": "markdown",
      "metadata": {
        "id": "EMPkl0olWjtN"
      },
      "source": [
        "4.\n",
        "`x = 8`  \n",
        "`y = 9`  \n",
        "`not(not(x < 3) and not(y > 14 or y > 10))`  \n",
        "\n",
        "---\n",
        "\n",
        "What will be the result if you execute these statements? (refrain from actually running - use your brain)   \n",
        "a. True  \n",
        "b. False  \n",
        "c. An error  \n",
        "\n",
        "*note: `not` has a higher priority than `and` and `or`; it is executed first*"
      ]
    },
    {
      "cell_type": "code",
      "source": [
        "x = 8\n",
        "y = 9\n",
        "not(not(x < 3) and not(y > 14 or y > 10))"
      ],
      "metadata": {
        "id": "H9KJikHhzhha",
        "outputId": "a9b20608-f060-4bd6-89b2-a50070e20480",
        "colab": {
          "base_uri": "https://localhost:8080/"
        }
      },
      "execution_count": 10,
      "outputs": [
        {
          "output_type": "execute_result",
          "data": {
            "text/plain": [
              "False"
            ]
          },
          "metadata": {},
          "execution_count": 10
        }
      ]
    },
    {
      "cell_type": "markdown",
      "source": [
        "false"
      ],
      "metadata": {
        "id": "8VVnDk-qyyE9"
      }
    }
  ],
  "metadata": {
    "kernelspec": {
      "display_name": "Python 3.8.9 64-bit",
      "language": "python",
      "name": "python3"
    },
    "language_info": {
      "codemirror_mode": {
        "name": "ipython",
        "version": 3
      },
      "file_extension": ".py",
      "mimetype": "text/x-python",
      "name": "python",
      "nbconvert_exporter": "python",
      "pygments_lexer": "ipython3",
      "version": "3.8.9"
    },
    "orig_nbformat": 4,
    "vscode": {
      "interpreter": {
        "hash": "31f2aee4e71d21fbe5cf8b01ff0e069b9275f58929596ceb00d14d90e3e16cd6"
      }
    },
    "colab": {
      "provenance": [],
      "include_colab_link": true
    }
  },
  "nbformat": 4,
  "nbformat_minor": 0
}