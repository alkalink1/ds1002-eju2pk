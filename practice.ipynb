{
  "nbformat": 4,
  "nbformat_minor": 0,
  "metadata": {
    "colab": {
      "provenance": [],
      "authorship_tag": "ABX9TyPAEpO6Piv/3HDdI3FygYmY",
      "include_colab_link": true
    },
    "kernelspec": {
      "name": "python3",
      "display_name": "Python 3"
    },
    "language_info": {
      "name": "python"
    }
  },
  "cells": [
    {
      "cell_type": "markdown",
      "metadata": {
        "id": "view-in-github",
        "colab_type": "text"
      },
      "source": [
        "<a href=\"https://colab.research.google.com/github/alkalink1/ds1002-eju2pk/blob/main/practice.ipynb\" target=\"_parent\"><img src=\"https://colab.research.google.com/assets/colab-badge.svg\" alt=\"Open In Colab\"/></a>"
      ]
    },
    {
      "cell_type": "code",
      "execution_count": 2,
      "metadata": {
        "colab": {
          "base_uri": "https://localhost:8080/"
        },
        "id": "GCgNjOBzV4IB",
        "outputId": "aa6c574e-f86a-4335-cfa5-d502278e33d7"
      },
      "outputs": [
        {
          "output_type": "stream",
          "name": "stdout",
          "text": [
            "1\n",
            "2\n",
            "3\n",
            "4\n",
            "5\n"
          ]
        }
      ],
      "source": [
        "mylist = [1,2,3,4,5]\n",
        "for x in mylist:\n",
        "  print(x)"
      ]
    },
    {
      "cell_type": "code",
      "source": [
        "mylist2 = [\"bagels\", \"cereal\", \"yogurt\", \"coffee\", \"pancakes\", \"eggs\", \"waffles\"]\n",
        "\n",
        "for food in mylist2:\n",
        "  if food == 'eggs':\n",
        "    print(food.upper())\n",
        "    continue\n",
        "  elif food == 'yogurt':\n",
        "    print(\"yogurt is here\")\n",
        "  else:\n",
        "    print(food)"
      ],
      "metadata": {
        "colab": {
          "base_uri": "https://localhost:8080/"
        },
        "id": "fq2WsG_OWiVN",
        "outputId": "57ea53bf-4add-4258-e75d-7d589e8d2096"
      },
      "execution_count": 10,
      "outputs": [
        {
          "output_type": "stream",
          "name": "stdout",
          "text": [
            "bagels\n",
            "cereal\n",
            "yogurt is here\n",
            "coffee\n",
            "pancakes\n",
            "EGGS\n",
            "waffles\n"
          ]
        }
      ]
    },
    {
      "cell_type": "code",
      "source": [
        "myfaves = {\n",
        "    \"food\":\"potatoes\",\n",
        "    \"sport\":\"cheer\",\n",
        "    \"color\":\"navy\",\n",
        "    \"city\":\"Boston\",\n",
        "    \"season\":\"fall\",\n",
        "}"
      ],
      "metadata": {
        "id": "Y82H_0_HZCmi"
      },
      "execution_count": 24,
      "outputs": []
    },
    {
      "cell_type": "code",
      "source": [
        "myfaves['color']"
      ],
      "metadata": {
        "colab": {
          "base_uri": "https://localhost:8080/",
          "height": 35
        },
        "id": "CyHQs8kNZ3fz",
        "outputId": "47b581f9-7c44-4202-d9fc-cf1da9557df9"
      },
      "execution_count": 25,
      "outputs": [
        {
          "output_type": "execute_result",
          "data": {
            "text/plain": [
              "'navy'"
            ],
            "application/vnd.google.colaboratory.intrinsic+json": {
              "type": "string"
            }
          },
          "metadata": {},
          "execution_count": 25
        }
      ]
    },
    {
      "cell_type": "code",
      "source": [
        "mykeys = myfaves.keys()\n",
        "print(mykeys)"
      ],
      "metadata": {
        "colab": {
          "base_uri": "https://localhost:8080/"
        },
        "id": "IpTDmCXPagHa",
        "outputId": "ecb1d37c-1fe8-4e5a-b386-b87f28e5e9f9"
      },
      "execution_count": 27,
      "outputs": [
        {
          "output_type": "stream",
          "name": "stdout",
          "text": [
            "dict_keys(['food', 'sport', 'color', 'city', 'season'])\n"
          ]
        }
      ]
    },
    {
      "cell_type": "code",
      "source": [
        "for fave in myfaves:\n",
        "    print(fave)"
      ],
      "metadata": {
        "colab": {
          "base_uri": "https://localhost:8080/"
        },
        "id": "AL1FQ8vUbAgU",
        "outputId": "2d0b9716-22be-4d65-9aab-81c95d87b2b0"
      },
      "execution_count": 28,
      "outputs": [
        {
          "output_type": "stream",
          "name": "stdout",
          "text": [
            "food\n",
            "sport\n",
            "color\n",
            "city\n",
            "season\n"
          ]
        }
      ]
    },
    {
      "cell_type": "code",
      "source": [
        "for fave in myfaves:\n",
        "  print(myfaves[fave])"
      ],
      "metadata": {
        "colab": {
          "base_uri": "https://localhost:8080/"
        },
        "id": "RsZo-UlpbSZF",
        "outputId": "61012eeb-49b3-42b0-e11f-18f04656f7a6"
      },
      "execution_count": 29,
      "outputs": [
        {
          "output_type": "stream",
          "name": "stdout",
          "text": [
            "potatoes\n",
            "cheer\n",
            "navy\n",
            "Boston\n",
            "fall\n"
          ]
        }
      ]
    },
    {
      "cell_type": "code",
      "source": [
        "for key, value in myfaves.items():\n",
        "  print(key)\n",
        "  print(value)"
      ],
      "metadata": {
        "colab": {
          "base_uri": "https://localhost:8080/"
        },
        "id": "DE11-O70bndC",
        "outputId": "6b690a35-a741-4aaf-e52a-6017f5dced4d"
      },
      "execution_count": 30,
      "outputs": [
        {
          "output_type": "stream",
          "name": "stdout",
          "text": [
            "food\n",
            "potatoes\n",
            "sport\n",
            "cheer\n",
            "color\n",
            "navy\n",
            "city\n",
            "Boston\n",
            "season\n",
            "fall\n"
          ]
        }
      ]
    },
    {
      "cell_type": "code",
      "source": [
        "for key, value in myfaves.items():\n",
        "  print(key, '-->', value)"
      ],
      "metadata": {
        "colab": {
          "base_uri": "https://localhost:8080/"
        },
        "id": "Rz-YvUI7b7kD",
        "outputId": "d964a089-751d-40d6-dad2-184697780af9"
      },
      "execution_count": 32,
      "outputs": [
        {
          "output_type": "stream",
          "name": "stdout",
          "text": [
            "food --> potatoes\n",
            "sport --> cheer\n",
            "color --> navy\n",
            "city --> Boston\n",
            "season --> fall\n"
          ]
        }
      ]
    },
    {
      "cell_type": "code",
      "source": [
        "mytupe = (\"squirrels\",\"rabbits\",\"beavers\",\"opposums\",\"foxes\",\"wolves\",\"sheep\")"
      ],
      "metadata": {
        "id": "PdgEsEV4cw-A"
      },
      "execution_count": 33,
      "outputs": []
    },
    {
      "cell_type": "code",
      "source": [
        "for thing in mytupe:\n",
        "  if (thing == 'rabbits') or (thing == 'sheep'):\n",
        "    print(\"I have rabbits or sheep in my tuple\")\n",
        "  elif (thing != 'opposums'):\n",
        "    print(thing)\n",
        "  else:\n",
        "    continue"
      ],
      "metadata": {
        "colab": {
          "base_uri": "https://localhost:8080/"
        },
        "id": "K_ZiaqwYdMm4",
        "outputId": "d58b8a21-e714-4229-801b-2f41fd94e14d"
      },
      "execution_count": 38,
      "outputs": [
        {
          "output_type": "stream",
          "name": "stdout",
          "text": [
            "squirrels\n",
            "I have rabbits or sheep in my tuple\n",
            "beavers\n",
            "foxes\n",
            "wolves\n",
            "I have rabbits or sheep in my tuple\n"
          ]
        }
      ]
    },
    {
      "cell_type": "code",
      "source": [],
      "metadata": {
        "id": "_P5PZHE9fRYC"
      },
      "execution_count": null,
      "outputs": []
    }
  ]
}