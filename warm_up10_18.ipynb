{
  "nbformat": 4,
  "nbformat_minor": 0,
  "metadata": {
    "colab": {
      "provenance": [],
      "authorship_tag": "ABX9TyO3hLKdkBHNqvpv/YbwMoNZ",
      "include_colab_link": true
    },
    "kernelspec": {
      "name": "python3",
      "display_name": "Python 3"
    },
    "language_info": {
      "name": "python"
    }
  },
  "cells": [
    {
      "cell_type": "markdown",
      "metadata": {
        "id": "view-in-github",
        "colab_type": "text"
      },
      "source": [
        "<a href=\"https://colab.research.google.com/github/alkalink1/ds1002-eju2pk/blob/main/warm_up10_18.ipynb\" target=\"_parent\"><img src=\"https://colab.research.google.com/assets/colab-badge.svg\" alt=\"Open In Colab\"/></a>"
      ]
    },
    {
      "cell_type": "code",
      "execution_count": null,
      "metadata": {
        "id": "TfIYJJpnF3kt"
      },
      "outputs": [],
      "source": [
        "# function that takes two integer parameters\n",
        "# fucntion should range from first integer to the second\n",
        "# function should then evaluate each integether and determine whether it is even\n",
        "# or odd and print that out for every item"
      ]
    },
    {
      "cell_type": "code",
      "source": [
        "def function1(start,finish):\n",
        "  for number in range(start,finish):\n",
        "    if number % 2 == 0:\n",
        "      #print something\n",
        "      print(number, \"is an even number\")\n",
        "    else:\n",
        "      #print something\n",
        "      print(number, \"is an odd number\")\n"
      ],
      "metadata": {
        "id": "0lGb9iv1GyF-"
      },
      "execution_count": 5,
      "outputs": []
    },
    {
      "cell_type": "code",
      "source": [
        "function1(1,3)"
      ],
      "metadata": {
        "colab": {
          "base_uri": "https://localhost:8080/"
        },
        "id": "3vytpezKImdJ",
        "outputId": "9ea86628-0ba1-4b8b-e108-5c4117ae8751"
      },
      "execution_count": 7,
      "outputs": [
        {
          "output_type": "stream",
          "name": "stdout",
          "text": [
            "1 is an odd number\n",
            "2 is an even number\n"
          ]
        }
      ]
    },
    {
      "cell_type": "code",
      "source": [
        "start = 40\n",
        "finish = 46\n",
        "\n",
        "function1(start,finish)"
      ],
      "metadata": {
        "colab": {
          "base_uri": "https://localhost:8080/"
        },
        "id": "hRRwt90aI2ac",
        "outputId": "cae10d42-cc07-4a6c-c523-7152c76b859e"
      },
      "execution_count": 11,
      "outputs": [
        {
          "output_type": "stream",
          "name": "stdout",
          "text": [
            "40 is an even number\n",
            "41 is an odd number\n",
            "42 is an even number\n",
            "43 is an odd number\n",
            "44 is an even number\n",
            "45 is an odd number\n"
          ]
        }
      ]
    },
    {
      "cell_type": "code",
      "source": [
        "x = 22\n",
        "y = 28\n",
        "function1(x,y)"
      ],
      "metadata": {
        "colab": {
          "base_uri": "https://localhost:8080/"
        },
        "id": "vFm4viPxI9qY",
        "outputId": "a268ff56-db69-46c0-efc9-87d6831d6307"
      },
      "execution_count": 9,
      "outputs": [
        {
          "output_type": "stream",
          "name": "stdout",
          "text": [
            "22 is an even number\n",
            "23 is an odd number\n",
            "24 is an even number\n",
            "25 is an odd number\n",
            "26 is an even number\n",
            "27 is an odd number\n"
          ]
        }
      ]
    }
  ]
}